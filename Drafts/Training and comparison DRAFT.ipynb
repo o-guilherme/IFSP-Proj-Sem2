{
 "cells": [
  {
   "cell_type": "markdown",
   "metadata": {},
   "source": [
    "### Training and comparison\n",
    "\n",
    "Objective: Trainining of multiple models using the data and comparison of the results"
   ]
  },
  {
   "cell_type": "code",
   "execution_count": 18,
   "metadata": {
    "id": "BaNEzuX3yOrF"
   },
   "outputs": [],
   "source": [
    "#Importing most used modules\n",
    "import numpy as np\n",
    "import pandas as pd\n",
    "import seaborn as sns\n",
    "import matplotlib.pyplot as plt\n",
    "sns.set_palette('viridis')\n",
    "from sklearn import metrics\n",
    "from sklearn.model_selection import cross_val_score"
   ]
  },
  {
   "cell_type": "markdown",
   "metadata": {
    "id": "1tkNV5mZ3git"
   },
   "source": [
    "# 1. Loading pre-processed data"
   ]
  },
  {
   "cell_type": "code",
   "execution_count": 6,
   "metadata": {
    "id": "wmtOAIs-2JtW"
   },
   "outputs": [
    {
     "data": {
      "text/html": [
       "<div>\n",
       "<style scoped>\n",
       "    .dataframe tbody tr th:only-of-type {\n",
       "        vertical-align: middle;\n",
       "    }\n",
       "\n",
       "    .dataframe tbody tr th {\n",
       "        vertical-align: top;\n",
       "    }\n",
       "\n",
       "    .dataframe thead th {\n",
       "        text-align: right;\n",
       "    }\n",
       "</style>\n",
       "<table border=\"1\" class=\"dataframe\">\n",
       "  <thead>\n",
       "    <tr style=\"text-align: right;\">\n",
       "      <th></th>\n",
       "      <th>Age</th>\n",
       "      <th>Age_Gap</th>\n",
       "      <th>Has_Own_House</th>\n",
       "      <th>Is_Spouse</th>\n",
       "      <th>Reco_Individual_Insurance</th>\n",
       "      <th>Reco_Policy_Premium</th>\n",
       "      <th>Holding_Policy_Duration</th>\n",
       "      <th>Health_Indicator_2</th>\n",
       "      <th>Health_Indicator_3</th>\n",
       "      <th>Health_Indicator_4</th>\n",
       "      <th>...</th>\n",
       "      <th>Region_Group_19</th>\n",
       "      <th>Holding_Policy_Type_1</th>\n",
       "      <th>Holding_Policy_Type_2</th>\n",
       "      <th>Holding_Policy_Type_3</th>\n",
       "      <th>Holding_Policy_Type_4</th>\n",
       "      <th>Reco_Policy_Groups_1</th>\n",
       "      <th>Reco_Policy_Groups_2</th>\n",
       "      <th>Reco_Policy_Groups_3</th>\n",
       "      <th>Reco_Policy_Groups_4</th>\n",
       "      <th>Response</th>\n",
       "    </tr>\n",
       "  </thead>\n",
       "  <tbody>\n",
       "    <tr>\n",
       "      <th>0</th>\n",
       "      <td>36</td>\n",
       "      <td>0</td>\n",
       "      <td>1</td>\n",
       "      <td>0</td>\n",
       "      <td>1</td>\n",
       "      <td>11628</td>\n",
       "      <td>15</td>\n",
       "      <td>0</td>\n",
       "      <td>0</td>\n",
       "      <td>0</td>\n",
       "      <td>...</td>\n",
       "      <td>0</td>\n",
       "      <td>0</td>\n",
       "      <td>0</td>\n",
       "      <td>1</td>\n",
       "      <td>0</td>\n",
       "      <td>0</td>\n",
       "      <td>0</td>\n",
       "      <td>0</td>\n",
       "      <td>1</td>\n",
       "      <td>0</td>\n",
       "    </tr>\n",
       "    <tr>\n",
       "      <th>1</th>\n",
       "      <td>22</td>\n",
       "      <td>53</td>\n",
       "      <td>0</td>\n",
       "      <td>0</td>\n",
       "      <td>0</td>\n",
       "      <td>30510</td>\n",
       "      <td>0</td>\n",
       "      <td>1</td>\n",
       "      <td>0</td>\n",
       "      <td>0</td>\n",
       "      <td>...</td>\n",
       "      <td>0</td>\n",
       "      <td>0</td>\n",
       "      <td>0</td>\n",
       "      <td>0</td>\n",
       "      <td>0</td>\n",
       "      <td>0</td>\n",
       "      <td>0</td>\n",
       "      <td>0</td>\n",
       "      <td>1</td>\n",
       "      <td>0</td>\n",
       "    </tr>\n",
       "    <tr>\n",
       "      <th>2</th>\n",
       "      <td>32</td>\n",
       "      <td>0</td>\n",
       "      <td>0</td>\n",
       "      <td>0</td>\n",
       "      <td>1</td>\n",
       "      <td>7450</td>\n",
       "      <td>1</td>\n",
       "      <td>0</td>\n",
       "      <td>0</td>\n",
       "      <td>0</td>\n",
       "      <td>...</td>\n",
       "      <td>0</td>\n",
       "      <td>1</td>\n",
       "      <td>0</td>\n",
       "      <td>0</td>\n",
       "      <td>0</td>\n",
       "      <td>0</td>\n",
       "      <td>0</td>\n",
       "      <td>1</td>\n",
       "      <td>0</td>\n",
       "      <td>1</td>\n",
       "    </tr>\n",
       "    <tr>\n",
       "      <th>3</th>\n",
       "      <td>48</td>\n",
       "      <td>4</td>\n",
       "      <td>0</td>\n",
       "      <td>0</td>\n",
       "      <td>0</td>\n",
       "      <td>17780</td>\n",
       "      <td>15</td>\n",
       "      <td>0</td>\n",
       "      <td>0</td>\n",
       "      <td>0</td>\n",
       "      <td>...</td>\n",
       "      <td>0</td>\n",
       "      <td>0</td>\n",
       "      <td>0</td>\n",
       "      <td>1</td>\n",
       "      <td>0</td>\n",
       "      <td>0</td>\n",
       "      <td>0</td>\n",
       "      <td>1</td>\n",
       "      <td>0</td>\n",
       "      <td>0</td>\n",
       "    </tr>\n",
       "    <tr>\n",
       "      <th>4</th>\n",
       "      <td>44</td>\n",
       "      <td>0</td>\n",
       "      <td>1</td>\n",
       "      <td>0</td>\n",
       "      <td>1</td>\n",
       "      <td>10404</td>\n",
       "      <td>3</td>\n",
       "      <td>1</td>\n",
       "      <td>0</td>\n",
       "      <td>0</td>\n",
       "      <td>...</td>\n",
       "      <td>0</td>\n",
       "      <td>1</td>\n",
       "      <td>0</td>\n",
       "      <td>0</td>\n",
       "      <td>0</td>\n",
       "      <td>1</td>\n",
       "      <td>0</td>\n",
       "      <td>0</td>\n",
       "      <td>0</td>\n",
       "      <td>0</td>\n",
       "    </tr>\n",
       "    <tr>\n",
       "      <th>...</th>\n",
       "      <td>...</td>\n",
       "      <td>...</td>\n",
       "      <td>...</td>\n",
       "      <td>...</td>\n",
       "      <td>...</td>\n",
       "      <td>...</td>\n",
       "      <td>...</td>\n",
       "      <td>...</td>\n",
       "      <td>...</td>\n",
       "      <td>...</td>\n",
       "      <td>...</td>\n",
       "      <td>...</td>\n",
       "      <td>...</td>\n",
       "      <td>...</td>\n",
       "      <td>...</td>\n",
       "      <td>...</td>\n",
       "      <td>...</td>\n",
       "      <td>...</td>\n",
       "      <td>...</td>\n",
       "      <td>...</td>\n",
       "      <td>...</td>\n",
       "    </tr>\n",
       "    <tr>\n",
       "      <th>77341</th>\n",
       "      <td>33</td>\n",
       "      <td>0</td>\n",
       "      <td>1</td>\n",
       "      <td>0</td>\n",
       "      <td>1</td>\n",
       "      <td>10048</td>\n",
       "      <td>6</td>\n",
       "      <td>0</td>\n",
       "      <td>0</td>\n",
       "      <td>0</td>\n",
       "      <td>...</td>\n",
       "      <td>0</td>\n",
       "      <td>1</td>\n",
       "      <td>0</td>\n",
       "      <td>0</td>\n",
       "      <td>0</td>\n",
       "      <td>0</td>\n",
       "      <td>0</td>\n",
       "      <td>1</td>\n",
       "      <td>0</td>\n",
       "      <td>1</td>\n",
       "    </tr>\n",
       "    <tr>\n",
       "      <th>77342</th>\n",
       "      <td>27</td>\n",
       "      <td>0</td>\n",
       "      <td>1</td>\n",
       "      <td>0</td>\n",
       "      <td>1</td>\n",
       "      <td>11898</td>\n",
       "      <td>2</td>\n",
       "      <td>0</td>\n",
       "      <td>0</td>\n",
       "      <td>0</td>\n",
       "      <td>...</td>\n",
       "      <td>0</td>\n",
       "      <td>0</td>\n",
       "      <td>0</td>\n",
       "      <td>1</td>\n",
       "      <td>0</td>\n",
       "      <td>0</td>\n",
       "      <td>1</td>\n",
       "      <td>0</td>\n",
       "      <td>0</td>\n",
       "      <td>1</td>\n",
       "    </tr>\n",
       "    <tr>\n",
       "      <th>77343</th>\n",
       "      <td>54</td>\n",
       "      <td>0</td>\n",
       "      <td>0</td>\n",
       "      <td>0</td>\n",
       "      <td>1</td>\n",
       "      <td>15366</td>\n",
       "      <td>0</td>\n",
       "      <td>0</td>\n",
       "      <td>0</td>\n",
       "      <td>1</td>\n",
       "      <td>...</td>\n",
       "      <td>0</td>\n",
       "      <td>0</td>\n",
       "      <td>0</td>\n",
       "      <td>0</td>\n",
       "      <td>0</td>\n",
       "      <td>0</td>\n",
       "      <td>0</td>\n",
       "      <td>1</td>\n",
       "      <td>0</td>\n",
       "      <td>1</td>\n",
       "    </tr>\n",
       "    <tr>\n",
       "      <th>77344</th>\n",
       "      <td>55</td>\n",
       "      <td>1</td>\n",
       "      <td>0</td>\n",
       "      <td>1</td>\n",
       "      <td>0</td>\n",
       "      <td>27731</td>\n",
       "      <td>2</td>\n",
       "      <td>0</td>\n",
       "      <td>1</td>\n",
       "      <td>0</td>\n",
       "      <td>...</td>\n",
       "      <td>0</td>\n",
       "      <td>0</td>\n",
       "      <td>0</td>\n",
       "      <td>1</td>\n",
       "      <td>0</td>\n",
       "      <td>0</td>\n",
       "      <td>0</td>\n",
       "      <td>1</td>\n",
       "      <td>0</td>\n",
       "      <td>1</td>\n",
       "    </tr>\n",
       "    <tr>\n",
       "      <th>77345</th>\n",
       "      <td>65</td>\n",
       "      <td>0</td>\n",
       "      <td>0</td>\n",
       "      <td>0</td>\n",
       "      <td>1</td>\n",
       "      <td>15048</td>\n",
       "      <td>0</td>\n",
       "      <td>0</td>\n",
       "      <td>0</td>\n",
       "      <td>0</td>\n",
       "      <td>...</td>\n",
       "      <td>0</td>\n",
       "      <td>0</td>\n",
       "      <td>0</td>\n",
       "      <td>0</td>\n",
       "      <td>0</td>\n",
       "      <td>0</td>\n",
       "      <td>0</td>\n",
       "      <td>0</td>\n",
       "      <td>0</td>\n",
       "      <td>1</td>\n",
       "    </tr>\n",
       "  </tbody>\n",
       "</table>\n",
       "<p>77346 rows × 43 columns</p>\n",
       "</div>"
      ],
      "text/plain": [
       "       Age  Age_Gap  Has_Own_House  Is_Spouse  Reco_Individual_Insurance  \\\n",
       "0       36        0              1          0                          1   \n",
       "1       22       53              0          0                          0   \n",
       "2       32        0              0          0                          1   \n",
       "3       48        4              0          0                          0   \n",
       "4       44        0              1          0                          1   \n",
       "...    ...      ...            ...        ...                        ...   \n",
       "77341   33        0              1          0                          1   \n",
       "77342   27        0              1          0                          1   \n",
       "77343   54        0              0          0                          1   \n",
       "77344   55        1              0          1                          0   \n",
       "77345   65        0              0          0                          1   \n",
       "\n",
       "       Reco_Policy_Premium  Holding_Policy_Duration  Health_Indicator_2  \\\n",
       "0                    11628                       15                   0   \n",
       "1                    30510                        0                   1   \n",
       "2                     7450                        1                   0   \n",
       "3                    17780                       15                   0   \n",
       "4                    10404                        3                   1   \n",
       "...                    ...                      ...                 ...   \n",
       "77341                10048                        6                   0   \n",
       "77342                11898                        2                   0   \n",
       "77343                15366                        0                   0   \n",
       "77344                27731                        2                   0   \n",
       "77345                15048                        0                   0   \n",
       "\n",
       "       Health_Indicator_3  Health_Indicator_4  ...  Region_Group_19  \\\n",
       "0                       0                   0  ...                0   \n",
       "1                       0                   0  ...                0   \n",
       "2                       0                   0  ...                0   \n",
       "3                       0                   0  ...                0   \n",
       "4                       0                   0  ...                0   \n",
       "...                   ...                 ...  ...              ...   \n",
       "77341                   0                   0  ...                0   \n",
       "77342                   0                   0  ...                0   \n",
       "77343                   0                   1  ...                0   \n",
       "77344                   1                   0  ...                0   \n",
       "77345                   0                   0  ...                0   \n",
       "\n",
       "       Holding_Policy_Type_1  Holding_Policy_Type_2  Holding_Policy_Type_3  \\\n",
       "0                          0                      0                      1   \n",
       "1                          0                      0                      0   \n",
       "2                          1                      0                      0   \n",
       "3                          0                      0                      1   \n",
       "4                          1                      0                      0   \n",
       "...                      ...                    ...                    ...   \n",
       "77341                      1                      0                      0   \n",
       "77342                      0                      0                      1   \n",
       "77343                      0                      0                      0   \n",
       "77344                      0                      0                      1   \n",
       "77345                      0                      0                      0   \n",
       "\n",
       "       Holding_Policy_Type_4  Reco_Policy_Groups_1  Reco_Policy_Groups_2  \\\n",
       "0                          0                     0                     0   \n",
       "1                          0                     0                     0   \n",
       "2                          0                     0                     0   \n",
       "3                          0                     0                     0   \n",
       "4                          0                     1                     0   \n",
       "...                      ...                   ...                   ...   \n",
       "77341                      0                     0                     0   \n",
       "77342                      0                     0                     1   \n",
       "77343                      0                     0                     0   \n",
       "77344                      0                     0                     0   \n",
       "77345                      0                     0                     0   \n",
       "\n",
       "       Reco_Policy_Groups_3  Reco_Policy_Groups_4  Response  \n",
       "0                         0                     1         0  \n",
       "1                         0                     1         0  \n",
       "2                         1                     0         1  \n",
       "3                         1                     0         0  \n",
       "4                         0                     0         0  \n",
       "...                     ...                   ...       ...  \n",
       "77341                     1                     0         1  \n",
       "77342                     0                     0         1  \n",
       "77343                     1                     0         1  \n",
       "77344                     1                     0         1  \n",
       "77345                     0                     0         1  \n",
       "\n",
       "[77346 rows x 43 columns]"
      ]
     },
     "execution_count": 6,
     "metadata": {},
     "output_type": "execute_result"
    }
   ],
   "source": [
    "#Loading the balanced dataset\n",
    "df = pd.read_csv('datasets/lead_data_numeric_OHE_rebalanced.csv')\n",
    "df"
   ]
  },
  {
   "cell_type": "code",
   "execution_count": 5,
   "metadata": {
    "colab": {
     "base_uri": "https://localhost:8080/"
    },
    "executionInfo": {
     "elapsed": 493,
     "status": "ok",
     "timestamp": 1668646207844,
     "user": {
      "displayName": "Mariana Cabride",
      "userId": "17414035056376663625"
     },
     "user_tz": 180
    },
    "id": "DfAsT-so2jT7",
    "outputId": "12b96d45-1f0b-4102-a13c-51464cb9bb5a"
   },
   "outputs": [
    {
     "name": "stdout",
     "output_type": "stream",
     "text": [
      "<class 'pandas.core.frame.DataFrame'>\n",
      "RangeIndex: 77346 entries, 0 to 77345\n",
      "Data columns (total 43 columns):\n",
      " #   Column                     Non-Null Count  Dtype\n",
      "---  ------                     --------------  -----\n",
      " 0   Age                        77346 non-null  int64\n",
      " 1   Age_Gap                    77346 non-null  int64\n",
      " 2   Has_Own_House              77346 non-null  int64\n",
      " 3   Is_Spouse                  77346 non-null  int64\n",
      " 4   Reco_Individual_Insurance  77346 non-null  int64\n",
      " 5   Reco_Policy_Premium        77346 non-null  int64\n",
      " 6   Holding_Policy_Duration    77346 non-null  int64\n",
      " 7   Health_Indicator_2         77346 non-null  int64\n",
      " 8   Health_Indicator_3         77346 non-null  int64\n",
      " 9   Health_Indicator_4         77346 non-null  int64\n",
      " 10  Health_Indicator_5         77346 non-null  int64\n",
      " 11  City_Group_1               77346 non-null  int64\n",
      " 12  City_Group_2               77346 non-null  int64\n",
      " 13  City_Group_3               77346 non-null  int64\n",
      " 14  City_Group_4               77346 non-null  int64\n",
      " 15  Region_Group_1             77346 non-null  int64\n",
      " 16  Region_Group_2             77346 non-null  int64\n",
      " 17  Region_Group_3             77346 non-null  int64\n",
      " 18  Region_Group_4             77346 non-null  int64\n",
      " 19  Region_Group_5             77346 non-null  int64\n",
      " 20  Region_Group_6             77346 non-null  int64\n",
      " 21  Region_Group_7             77346 non-null  int64\n",
      " 22  Region_Group_8             77346 non-null  int64\n",
      " 23  Region_Group_9             77346 non-null  int64\n",
      " 24  Region_Group_10            77346 non-null  int64\n",
      " 25  Region_Group_11            77346 non-null  int64\n",
      " 26  Region_Group_12            77346 non-null  int64\n",
      " 27  Region_Group_13            77346 non-null  int64\n",
      " 28  Region_Group_14            77346 non-null  int64\n",
      " 29  Region_Group_15            77346 non-null  int64\n",
      " 30  Region_Group_16            77346 non-null  int64\n",
      " 31  Region_Group_17            77346 non-null  int64\n",
      " 32  Region_Group_18            77346 non-null  int64\n",
      " 33  Region_Group_19            77346 non-null  int64\n",
      " 34  Holding_Policy_Type_1      77346 non-null  int64\n",
      " 35  Holding_Policy_Type_2      77346 non-null  int64\n",
      " 36  Holding_Policy_Type_3      77346 non-null  int64\n",
      " 37  Holding_Policy_Type_4      77346 non-null  int64\n",
      " 38  Reco_Policy_Groups_1       77346 non-null  int64\n",
      " 39  Reco_Policy_Groups_2       77346 non-null  int64\n",
      " 40  Reco_Policy_Groups_3       77346 non-null  int64\n",
      " 41  Reco_Policy_Groups_4       77346 non-null  int64\n",
      " 42  Response                   77346 non-null  int64\n",
      "dtypes: int64(43)\n",
      "memory usage: 25.4 MB\n"
     ]
    }
   ],
   "source": [
    "df.info()"
   ]
  },
  {
   "cell_type": "markdown",
   "metadata": {
    "id": "k4m192rB9arH"
   },
   "source": [
    "# 2. Create a test set"
   ]
  },
  {
   "cell_type": "code",
   "execution_count": 7,
   "metadata": {},
   "outputs": [],
   "source": [
    "#Splitting the dataset\n",
    "X_train = df.drop(columns=['Response'])\n",
    "y_train = df['Response'].values"
   ]
  },
  {
   "cell_type": "code",
   "execution_count": 9,
   "metadata": {
    "tags": []
   },
   "outputs": [
    {
     "name": "stdout",
     "output_type": "stream",
     "text": [
      " X_train shape: (77346, 42)\n",
      " y_train shape: (77346,)\n"
     ]
    }
   ],
   "source": [
    "print(f' X_train shape: {X_train.shape}')\n",
    "print(f' y_train shape: {y_train.shape}')"
   ]
  },
  {
   "cell_type": "code",
   "execution_count": 17,
   "metadata": {},
   "outputs": [],
   "source": [
    "# Defining the printing function\n",
    "def display_scores(scores):\n",
    "    print(\"Scores:\", scores)\n",
    "    print(\"\\nMean:\", scores.mean())\n",
    "    print(\"Standard deviation:\", scores.std())"
   ]
  },
  {
   "cell_type": "code",
   "execution_count": null,
   "metadata": {},
   "outputs": [],
   "source": []
  },
  {
   "cell_type": "markdown",
   "metadata": {},
   "source": [
    "### 3. Testing the models\n",
    "#### 3.1 K-Nearest Neighbors (KNN)"
   ]
  },
  {
   "cell_type": "code",
   "execution_count": null,
   "metadata": {},
   "outputs": [],
   "source": [
    "#Loading the KNN module and creating the trainer object\n",
    "from sklearn.neighbors import KNeighborsClassifier\n",
    "knn = KNeighborsClassifier(n_jobs=-1) "
   ]
  },
  {
   "cell_type": "code",
   "execution_count": null,
   "metadata": {},
   "outputs": [],
   "source": [
    "knn_accs = cross_val_score(knn, X_train, y_train, n_jobs=-1, scoring='accuracy') #Default cv value = 5\n",
    "display_scores(knn_accs)"
   ]
  },
  {
   "cell_type": "code",
   "execution_count": 16,
   "metadata": {},
   "outputs": [
    {
     "name": "stdout",
     "output_type": "stream",
     "text": [
      "Scores: [0.64828701 0.64244618 0.66772254 0.67354063 0.66946797]\n",
      "\n",
      "Mean: 0.6602928658994491\n",
      "Standard deviation: 0.012470209125567547\n"
     ]
    }
   ],
   "source": [
    "#Loading the KNN module\n",
    "\n",
    "from sklearn.neighbors import KNeighborsClassifier\n",
    "\n",
    "\n",
    "knn_accs = cross_val_score(knn, X_train, y_train, n_jobs=-1, scoring='accuracy') #Default cv value = 5\n",
    "\n",
    "\n",
    "display_scores(knn_accs)\n"
   ]
  },
  {
   "cell_type": "code",
   "execution_count": null,
   "metadata": {},
   "outputs": [],
   "source": [
    "#Using the KNN\n",
    "from sklearn.model_selection import cross_val_score\n",
    "from sklearn.neighbors import KNeighborsClassifier\n",
    "\n",
    "knn = KNeighborsClassifier(k=3)  # default hyperparameters --> k=5\n",
    "# stratified 10-fold\n",
    "knn_accs = cross_val_score(knn, X_train, y_train, cv=5 scoring='accuracy')\n",
    "\n",
    "display_scores(knn_accs)"
   ]
  },
  {
   "cell_type": "code",
   "execution_count": null,
   "metadata": {},
   "outputs": [],
   "source": [
    "#Using the KNN\n",
    "from sklearn.model_selection import cross_val_score\n",
    "from sklearn.neighbors import KNeighborsClassifier\n",
    "\n",
    "knn = KNeighborsClassifier(k=10)  # default hyperparameters --> k=5\n",
    "# stratified 10-fold\n",
    "knn_accs = cross_val_score(knn, X_train, y_train, cv=5 scoring='accuracy')\n",
    "\n",
    "display_scores(knn_accs)"
   ]
  },
  {
   "cell_type": "code",
   "execution_count": null,
   "metadata": {},
   "outputs": [],
   "source": []
  },
  {
   "cell_type": "code",
   "execution_count": null,
   "metadata": {},
   "outputs": [],
   "source": []
  },
  {
   "cell_type": "code",
   "execution_count": 19,
   "metadata": {},
   "outputs": [
    {
     "name": "stdout",
     "output_type": "stream",
     "text": [
      "Scores: [0.50446025 0.5070459  0.50963154 0.49954751 0.49864253 0.50989011\n",
      " 0.50995604 0.5005172  0.50905094 0.50349108]\n",
      "\n",
      "Mean: 0.5052233098287952\n",
      "Standard deviation: 0.004275915937918164\n"
     ]
    }
   ],
   "source": [
    "from sklearn.linear_model import LogisticRegression\n",
    "\n",
    "log_reg = LogisticRegression(random_state=42)\n",
    "log_reg_accs = cross_val_score(log_reg, X_train, y_train, cv=10, scoring='accuracy')\n",
    "\n",
    "display_scores(log_reg_accs)"
   ]
  },
  {
   "cell_type": "code",
   "execution_count": 20,
   "metadata": {},
   "outputs": [
    {
     "ename": "NameError",
     "evalue": "name 'X_train_pol' is not defined",
     "output_type": "error",
     "traceback": [
      "\u001b[1;31m---------------------------------------------------------------------------\u001b[0m",
      "\u001b[1;31mNameError\u001b[0m                                 Traceback (most recent call last)",
      "Input \u001b[1;32mIn [20]\u001b[0m, in \u001b[0;36m<cell line: 2>\u001b[1;34m()\u001b[0m\n\u001b[0;32m      1\u001b[0m pol_log_reg \u001b[38;5;241m=\u001b[39m LogisticRegression(random_state\u001b[38;5;241m=\u001b[39m\u001b[38;5;241m42\u001b[39m)\n\u001b[1;32m----> 2\u001b[0m pol_log_reg_accs \u001b[38;5;241m=\u001b[39m cross_val_score(pol_log_reg, \u001b[43mX_train_pol\u001b[49m, y_train, cv\u001b[38;5;241m=\u001b[39m\u001b[38;5;241m10\u001b[39m, scoring\u001b[38;5;241m=\u001b[39m\u001b[38;5;124m'\u001b[39m\u001b[38;5;124maccuracy\u001b[39m\u001b[38;5;124m'\u001b[39m)\n\u001b[0;32m      4\u001b[0m display_scores(pol_log_reg_accs)\n",
      "\u001b[1;31mNameError\u001b[0m: name 'X_train_pol' is not defined"
     ]
    }
   ],
   "source": [
    "pol_log_reg = LogisticRegression(random_state=42)\n",
    "pol_log_reg_accs = cross_val_score(pol_log_reg, X_train_pol, y_train, cv=10, scoring='accuracy')\n",
    "\n",
    "display_scores(pol_log_reg_accs)"
   ]
  },
  {
   "cell_type": "code",
   "execution_count": 21,
   "metadata": {},
   "outputs": [
    {
     "name": "stdout",
     "output_type": "stream",
     "text": [
      "Scores: [0.8258565  0.82946538 0.8566811  0.85946086 0.85842653]\n",
      "\n",
      "Mean: 0.8459780741289489\n",
      "Standard deviation: 0.015025652955525723\n"
     ]
    }
   ],
   "source": [
    "#Decision trees\n",
    "#from sklearn.model_selection import cross_val_score\n",
    "from sklearn.tree import DecisionTreeClassifier\n",
    "\n",
    "dt = DecisionTreeClassifier(random_state=42)\n",
    "dt_accs = cross_val_score(dt, X_train, y_train, scoring=\"accuracy\", cv=5)\n",
    "\n",
    "display_scores(dt_accs)"
   ]
  },
  {
   "cell_type": "code",
   "execution_count": 22,
   "metadata": {},
   "outputs": [
    {
     "name": "stdout",
     "output_type": "stream",
     "text": [
      "Scores: [0.59734971 0.58827332 0.59596613 0.60217209 0.59551361]\n",
      "\n",
      "Mean: 0.5958549699436406\n",
      "Standard deviation: 0.004466553228565319\n"
     ]
    }
   ],
   "source": [
    "\n",
    "#from sklearn.model_selection import cross_val_score\n",
    "from sklearn.tree import DecisionTreeClassifier\n",
    "\n",
    "dt = DecisionTreeClassifier(max_depth=10, random_state=42)\n",
    "dt_accs = cross_val_score(dt, X_train, y_train, scoring=\"accuracy\", cv=5)\n",
    "\n",
    "display_scores(dt_accs)"
   ]
  },
  {
   "cell_type": "code",
   "execution_count": 23,
   "metadata": {},
   "outputs": [],
   "source": [
    "from sklearn.naive_bayes import GaussianNB\n",
    "from sklearn.ensemble import RandomForestClassifier"
   ]
  },
  {
   "cell_type": "code",
   "execution_count": 25,
   "metadata": {},
   "outputs": [
    {
     "name": "stdout",
     "output_type": "stream",
     "text": [
      "Scores: [0.53484163 0.52996315 0.52595514 0.53739738 0.53933674]\n",
      "\n",
      "Mean: 0.5334988061073248\n",
      "Standard deviation: 0.004908997272103081\n"
     ]
    }
   ],
   "source": [
    "dt = GaussianNB()\n",
    "dt_accs = cross_val_score(dt, X_train, y_train, scoring=\"accuracy\", cv=5)\n",
    "\n",
    "display_scores(dt_accs)"
   ]
  },
  {
   "cell_type": "code",
   "execution_count": 26,
   "metadata": {},
   "outputs": [
    {
     "name": "stdout",
     "output_type": "stream",
     "text": [
      "Scores: [0.88752424 0.89107247 0.92113259 0.92145581 0.92565777]\n",
      "\n",
      "Mean: 0.9093685755479932\n",
      "Standard deviation: 0.01650305210921222\n"
     ]
    }
   ],
   "source": [
    "dt = RandomForestClassifier(n_estimators=20)\n",
    "dt_accs = cross_val_score(dt, X_train, y_train, scoring=\"accuracy\", cv=5)\n",
    "\n",
    "display_scores(dt_accs)"
   ]
  },
  {
   "cell_type": "code",
   "execution_count": null,
   "metadata": {},
   "outputs": [],
   "source": []
  },
  {
   "cell_type": "code",
   "execution_count": null,
   "metadata": {},
   "outputs": [],
   "source": []
  },
  {
   "cell_type": "code",
   "execution_count": null,
   "metadata": {},
   "outputs": [],
   "source": []
  },
  {
   "cell_type": "code",
   "execution_count": null,
   "metadata": {},
   "outputs": [],
   "source": []
  },
  {
   "cell_type": "code",
   "execution_count": null,
   "metadata": {
    "id": "LWgl4bEh9ZOA"
   },
   "outputs": [],
   "source": [
    "from sklearn.model_selection import train_test_split\n",
    "\n",
    "df_train, df_test = train_test_split(df, test_size=0.2, stratify=df['Response'], random_state=42)\n",
    "# entender o que é o stratify e se devo usar"
   ]
  },
  {
   "cell_type": "code",
   "execution_count": null,
   "metadata": {},
   "outputs": [],
   "source": []
  },
  {
   "cell_type": "code",
   "execution_count": null,
   "metadata": {},
   "outputs": [],
   "source": []
  },
  {
   "cell_type": "code",
   "execution_count": null,
   "metadata": {},
   "outputs": [],
   "source": []
  },
  {
   "cell_type": "markdown",
   "metadata": {
    "id": "siR-6p_7_3B8"
   },
   "source": [
    "# 3. Saving DFs"
   ]
  },
  {
   "cell_type": "code",
   "execution_count": null,
   "metadata": {
    "id": "aEj2S9bN_cpO"
   },
   "outputs": [],
   "source": [
    "# Salvando"
   ]
  },
  {
   "cell_type": "code",
   "execution_count": null,
   "metadata": {
    "id": "QSlTHcXG_cXT"
   },
   "outputs": [],
   "source": [
    "df_train.to_csv('/content/drive/MyDrive/Pós-Graduação/2o Semestre/Aprendizado de Máquinas e Reconhecimento de padrões/Health Insurance/df_train.csv', index=False)\n",
    "df_test.to_csv('/content/drive/MyDrive/Pós-Graduação/2o Semestre/Aprendizado de Máquinas e Reconhecimento de padrões/Health Insurance/df_test.csv', index=False)"
   ]
  },
  {
   "cell_type": "markdown",
   "metadata": {
    "id": "SNqu8zLy3XxZ"
   },
   "source": [
    "# 4. Separate the features and the classes (target outcome)"
   ]
  },
  {
   "cell_type": "markdown",
   "metadata": {
    "id": "cUNT1XcK1d6x"
   },
   "source": [
    "## 4.1 Train"
   ]
  },
  {
   "cell_type": "code",
   "execution_count": null,
   "metadata": {
    "id": "JrbO3wzi20W8"
   },
   "outputs": [],
   "source": [
    "# store the target outcome into a numpy array\n",
    "y_train = df_train['Response'].values"
   ]
  },
  {
   "cell_type": "code",
   "execution_count": null,
   "metadata": {
    "colab": {
     "base_uri": "https://localhost:8080/"
    },
    "executionInfo": {
     "elapsed": 6,
     "status": "ok",
     "timestamp": 1668646494131,
     "user": {
      "displayName": "Mariana Cabride",
      "userId": "17414035056376663625"
     },
     "user_tz": 180
    },
    "id": "bgsx-qLa38-F",
    "outputId": "0fc88700-e6be-40d8-83f7-a3b4109ed0dd"
   },
   "outputs": [
    {
     "data": {
      "text/plain": [
       "(61876,)"
      ]
     },
     "execution_count": 15,
     "metadata": {},
     "output_type": "execute_result"
    }
   ],
   "source": [
    "y_train.shape"
   ]
  },
  {
   "cell_type": "code",
   "execution_count": null,
   "metadata": {
    "id": "IeWrAtG73_AA"
   },
   "outputs": [],
   "source": [
    "# overwrite the dataframe with only the features  \n",
    "df_train = df_train.drop(columns=['Response'])"
   ]
  },
  {
   "cell_type": "code",
   "execution_count": null,
   "metadata": {
    "colab": {
     "base_uri": "https://localhost:8080/"
    },
    "executionInfo": {
     "elapsed": 4,
     "status": "ok",
     "timestamp": 1668646495024,
     "user": {
      "displayName": "Mariana Cabride",
      "userId": "17414035056376663625"
     },
     "user_tz": 180
    },
    "id": "1xj2qfgEAjJi",
    "outputId": "b218757e-8b12-49d5-9ae2-ba3559b09a85"
   },
   "outputs": [
    {
     "data": {
      "text/plain": [
       "(61876, 42)"
      ]
     },
     "execution_count": 17,
     "metadata": {},
     "output_type": "execute_result"
    }
   ],
   "source": [
    "df_train.shape"
   ]
  },
  {
   "cell_type": "markdown",
   "metadata": {
    "id": "pKN8EwD_RXEW"
   },
   "source": [
    "## 4.2 Test"
   ]
  },
  {
   "cell_type": "code",
   "execution_count": null,
   "metadata": {
    "id": "H1-5Jc_SRbYi"
   },
   "outputs": [],
   "source": [
    "# store the target outcome into a numpy array\n",
    "y_test = df_test['Response'].values"
   ]
  },
  {
   "cell_type": "code",
   "execution_count": null,
   "metadata": {
    "colab": {
     "base_uri": "https://localhost:8080/"
    },
    "executionInfo": {
     "elapsed": 252,
     "status": "ok",
     "timestamp": 1668649756165,
     "user": {
      "displayName": "Mariana Cabride",
      "userId": "17414035056376663625"
     },
     "user_tz": 180
    },
    "id": "r3Mt3gkoRbL0",
    "outputId": "175b9c8b-0af2-4c59-cd21-9917dd1e29b1"
   },
   "outputs": [
    {
     "data": {
      "text/plain": [
       "(15470,)"
      ]
     },
     "execution_count": 38,
     "metadata": {},
     "output_type": "execute_result"
    }
   ],
   "source": [
    "y_test.shape"
   ]
  },
  {
   "cell_type": "code",
   "execution_count": null,
   "metadata": {
    "id": "P1pFSF3PRawf"
   },
   "outputs": [],
   "source": [
    "# overwrite the dataframe with only the features  \n",
    "df_test = df_test.drop(columns=['Response'])"
   ]
  },
  {
   "cell_type": "code",
   "execution_count": null,
   "metadata": {
    "colab": {
     "base_uri": "https://localhost:8080/"
    },
    "executionInfo": {
     "elapsed": 367,
     "status": "ok",
     "timestamp": 1668649810460,
     "user": {
      "displayName": "Mariana Cabride",
      "userId": "17414035056376663625"
     },
     "user_tz": 180
    },
    "id": "N1-pefLLRcbS",
    "outputId": "92baa8c8-7161-42d1-e627-aff5ccd01190"
   },
   "outputs": [
    {
     "data": {
      "text/plain": [
       "(15470, 42)"
      ]
     },
     "execution_count": 40,
     "metadata": {},
     "output_type": "execute_result"
    }
   ],
   "source": [
    "df_test.shape"
   ]
  },
  {
   "cell_type": "markdown",
   "metadata": {
    "id": "x4h1gHqAAu0y"
   },
   "source": [
    "# 5. Separate the numerical and categorical features\n",
    "Since we perform different preprocessing tasks (transformations) to _numerical features_ and _categorical ones_, let's split them into two different dataframes."
   ]
  },
  {
   "cell_type": "code",
   "execution_count": null,
   "metadata": {
    "id": "qVqk5_CJAnEY"
   },
   "outputs": [],
   "source": [
    "# numerical variables\n",
    "num_vars = ['Age', 'Age_Gap', 'Reco_Policy_Premium', 'Holding_Policy_Duration']\n",
    "\n",
    "# categorical binary variables\n",
    "bin_vars = ['Has_Own_House', 'Is_Spouse', 'Reco_Individual_Insurance']\n",
    "\n",
    "# categorical variables\n",
    "cat_vars = ['Health_Indicator_2', 'Health_Indicator_3',\n",
    "       'Health_Indicator_4', 'Health_Indicator_5', 'City_Group_1',\n",
    "       'City_Group_2', 'City_Group_3', 'City_Group_4', 'Region_Group_1',\n",
    "       'Region_Group_2', 'Region_Group_3', 'Region_Group_4', 'Region_Group_5',\n",
    "       'Region_Group_6', 'Region_Group_7', 'Region_Group_8', 'Region_Group_9',\n",
    "       'Region_Group_10', 'Region_Group_11', 'Region_Group_12',\n",
    "       'Region_Group_13', 'Region_Group_14', 'Region_Group_15',\n",
    "       'Region_Group_16', 'Region_Group_17', 'Region_Group_18',\n",
    "       'Region_Group_19', 'Holding_Policy_Type_1', 'Holding_Policy_Type_2',\n",
    "       'Holding_Policy_Type_3', 'Holding_Policy_Type_4',\n",
    "       'Reco_Policy_Groups_1', 'Reco_Policy_Groups_2', 'Reco_Policy_Groups_3',\n",
    "       'Reco_Policy_Groups_4']"
   ]
  },
  {
   "cell_type": "code",
   "execution_count": null,
   "metadata": {
    "colab": {
     "base_uri": "https://localhost:8080/"
    },
    "executionInfo": {
     "elapsed": 287,
     "status": "ok",
     "timestamp": 1668646551028,
     "user": {
      "displayName": "Mariana Cabride",
      "userId": "17414035056376663625"
     },
     "user_tz": 180
    },
    "id": "gaouLWpxk2gP",
    "outputId": "2d5a68eb-8d6c-4a91-e622-d7efedb82a13"
   },
   "outputs": [
    {
     "data": {
      "text/plain": [
       "42"
      ]
     },
     "execution_count": 19,
     "metadata": {},
     "output_type": "execute_result"
    }
   ],
   "source": [
    "len(df_train.columns)"
   ]
  },
  {
   "cell_type": "code",
   "execution_count": null,
   "metadata": {
    "colab": {
     "base_uri": "https://localhost:8080/"
    },
    "executionInfo": {
     "elapsed": 6,
     "status": "ok",
     "timestamp": 1668646551355,
     "user": {
      "displayName": "Mariana Cabride",
      "userId": "17414035056376663625"
     },
     "user_tz": 180
    },
    "id": "7xomvDHBlXjX",
    "outputId": "5c9c9f9c-1ccd-418a-ceca-055bb0249a3a"
   },
   "outputs": [
    {
     "data": {
      "text/plain": [
       "(4, 3, 35)"
      ]
     },
     "execution_count": 20,
     "metadata": {},
     "output_type": "execute_result"
    }
   ],
   "source": [
    "len(num_vars),len(bin_vars),len(cat_vars)"
   ]
  },
  {
   "cell_type": "code",
   "execution_count": null,
   "metadata": {
    "id": "rT3_RWn2A6c5"
   },
   "outputs": [],
   "source": [
    "## separating the features into specific dataset according to their type\n",
    "df_train_num = df_train[num_vars]\n",
    "df_train_bin = df_train[bin_vars]\n",
    "df_train_cat = df_train[cat_vars]"
   ]
  },
  {
   "cell_type": "markdown",
   "metadata": {
    "id": "8pLU96Q5CLY_"
   },
   "source": [
    "# 6. Creating the Preprocessing Pipeline"
   ]
  },
  {
   "cell_type": "code",
   "execution_count": 27,
   "metadata": {
    "id": "9OkGrNSZCGz-"
   },
   "outputs": [],
   "source": [
    "#Later\n",
    "#from sklearn.impute import SimpleImputer # Ainda nao tirei pq preciso disso para a parte de bin e cat pipelines\n",
    "#from sklearn.preprocessing import RobustScaler\n",
    "#from sklearn.pipeline import Pipeline\n",
    "#from sklearn.compose import ColumnTransformer #utpreciso utilizar pois tenho diferentes tipos de dados - numericos, binarios e categoricos\n",
    "#\n",
    "#num_pipeline = Pipeline([('imputer', SimpleImputer(strategy='median')),('robust_scaler', RobustScaler())])\n",
    "#\n",
    "#bin_pipeline = Pipeline([('imputer', SimpleImputer(strategy='most_frequent'))])\n",
    "#\n",
    "#cat_pipeline = Pipeline([('imputer', SimpleImputer(strategy='most_frequent'))])\n",
    "#\n",
    "# (name, transformer, columns)\n",
    "#preprocessed_pipeline = ColumnTransformer([\n",
    "#    ('numerical', num_pipeline, num_vars),\n",
    "#    ('binary', bin_pipeline, bin_vars),\n",
    "#    ('categorical', cat_pipeline, cat_vars)\n",
    "#])"
   ]
  },
  {
   "cell_type": "markdown",
   "metadata": {
    "id": "_4ExO8aRC_6W"
   },
   "source": [
    "# 7. Getting the independent (features) and classes (outcome)"
   ]
  },
  {
   "cell_type": "code",
   "execution_count": null,
   "metadata": {
    "colab": {
     "base_uri": "https://localhost:8080/"
    },
    "executionInfo": {
     "elapsed": 280,
     "status": "ok",
     "timestamp": 1668646560187,
     "user": {
      "displayName": "Mariana Cabride",
      "userId": "17414035056376663625"
     },
     "user_tz": 180
    },
    "id": "KTebau3hCxZa",
    "outputId": "35935206-0a84-4181-9c07-2e6be4fe81d6"
   },
   "outputs": [
    {
     "data": {
      "text/plain": [
       "(61876, 42)"
      ]
     },
     "execution_count": 23,
     "metadata": {},
     "output_type": "execute_result"
    }
   ],
   "source": [
    "X_train = preprocessed_pipeline.fit_transform(df_train)\n",
    "X_train.shape"
   ]
  },
  {
   "cell_type": "code",
   "execution_count": null,
   "metadata": {
    "colab": {
     "base_uri": "https://localhost:8080/"
    },
    "executionInfo": {
     "elapsed": 4,
     "status": "ok",
     "timestamp": 1668646562052,
     "user": {
      "displayName": "Mariana Cabride",
      "userId": "17414035056376663625"
     },
     "user_tz": 180
    },
    "id": "exxZhM45CxWl",
    "outputId": "c531edad-1d94-4755-cec3-5dd29f732aec"
   },
   "outputs": [
    {
     "data": {
      "text/plain": [
       "(61876,)"
      ]
     },
     "execution_count": 24,
     "metadata": {},
     "output_type": "execute_result"
    }
   ],
   "source": [
    "# we already have y_train\n",
    "y_train.shape"
   ]
  },
  {
   "cell_type": "markdown",
   "metadata": {
    "id": "Xk_z5TqODYYh"
   },
   "source": [
    "# 8. Train ML Algorithms\n",
    "\n",
    "Light Gradient Boosting Machine\n",
    "\n",
    "Gradient Boosting Classifier\t\n",
    "\n",
    "Random Forest Classifier\n",
    "\n",
    "Extra Trees Classifier\n",
    "\n",
    "Decision Tree Classifier\t"
   ]
  },
  {
   "cell_type": "code",
   "execution_count": 29,
   "metadata": {
    "id": "Df3vG8637Hco"
   },
   "outputs": [],
   "source": [
    "# printing function\n",
    "def display_scores(scores):\n",
    "    print(\"Scores:\", scores)\n",
    "    print(\"\\nMean:\", scores.mean())\n",
    "    print(\"Standard deviation:\", scores.std())"
   ]
  },
  {
   "cell_type": "markdown",
   "metadata": {
    "id": "Z-JL6dZenOhZ"
   },
   "source": [
    "## 8.1 Light Gradient Boosting Machine"
   ]
  },
  {
   "cell_type": "code",
   "execution_count": null,
   "metadata": {
    "id": "_JkZmSvBnpep"
   },
   "outputs": [],
   "source": []
  },
  {
   "cell_type": "markdown",
   "metadata": {
    "id": "Khlk_y-AnVZy"
   },
   "source": [
    "## 8.2 Gradient Boosting Classifier"
   ]
  },
  {
   "cell_type": "code",
   "execution_count": 30,
   "metadata": {
    "colab": {
     "base_uri": "https://localhost:8080/"
    },
    "executionInfo": {
     "elapsed": 60644,
     "status": "ok",
     "timestamp": 1668646630838,
     "user": {
      "displayName": "Mariana Cabride",
      "userId": "17414035056376663625"
     },
     "user_tz": 180
    },
    "id": "xWOhbl2EnqUs",
    "outputId": "9509da93-acb2-4e5e-f355-1a9938afcc55"
   },
   "outputs": [
    {
     "name": "stdout",
     "output_type": "stream",
     "text": [
      "Scores: [0.58235294 0.58213201 0.58361885 0.58943694 0.5851057 ]\n",
      "\n",
      "Mean: 0.5845292862765379\n",
      "Standard deviation: 0.002673186140077511\n"
     ]
    }
   ],
   "source": [
    "from sklearn.model_selection import cross_val_score\n",
    "from sklearn.ensemble import GradientBoostingClassifier\n",
    "\n",
    "gb = GradientBoostingClassifier()\n",
    "\n",
    "gb.fit(X_train, y_train)\n",
    "gb_accs = cross_val_score(gb, X_train, y_train, scoring=\"accuracy\", cv=5)\n",
    "\n",
    "display_scores(gb_accs)"
   ]
  },
  {
   "cell_type": "markdown",
   "metadata": {
    "id": "XRIWbI_onVRT"
   },
   "source": [
    "## 8.3 Radom Forest Classifier"
   ]
  },
  {
   "cell_type": "code",
   "execution_count": 31,
   "metadata": {
    "colab": {
     "base_uri": "https://localhost:8080/"
    },
    "executionInfo": {
     "elapsed": 41083,
     "status": "ok",
     "timestamp": 1668651545905,
     "user": {
      "displayName": "Mariana Cabride",
      "userId": "17414035056376663625"
     },
     "user_tz": 180
    },
    "id": "blAXWuPhnrJv",
    "outputId": "9c17ec0c-7ae7-47bc-ebc7-8b9ae5a05f23"
   },
   "outputs": [
    {
     "name": "stdout",
     "output_type": "stream",
     "text": [
      "Scores: [0.89553975 0.8962441  0.92649816 0.93115263 0.93380309]\n",
      "\n",
      "Mean: 0.9166475461923284\n",
      "Standard deviation: 0.017108968824064506\n"
     ]
    }
   ],
   "source": [
    "from sklearn.model_selection import cross_val_score\n",
    "from sklearn.ensemble import RandomForestClassifier\n",
    "\n",
    "rnd_clf = RandomForestClassifier(n_estimators=70,\n",
    "                                 max_leaf_nodes=None,\n",
    "                                 bootstrap=True,\n",
    "                                 oob_score=True)\n",
    "#\n",
    "rnd_clf.fit(X_train, y_train)\n",
    "rnd_clf_accs = cross_val_score(rnd_clf, X_train, y_train, scoring=\"accuracy\", cv=5)\n",
    "\n",
    "display_scores(rnd_clf_accs)"
   ]
  },
  {
   "cell_type": "code",
   "execution_count": 32,
   "metadata": {},
   "outputs": [
    {
     "name": "stdout",
     "output_type": "stream",
     "text": [
      "Scores: [0.89644473 0.89921779 0.92811429 0.93671213 0.93561316]\n",
      "\n",
      "Mean: 0.9192204222027055\n",
      "Standard deviation: 0.01773482554396122\n"
     ]
    }
   ],
   "source": [
    "from sklearn.model_selection import cross_val_score\n",
    "from sklearn.ensemble import RandomForestClassifier\n",
    "\n",
    "rnd_clf = RandomForestClassifier(n_estimators=200,\n",
    "                                 max_leaf_nodes=None,\n",
    "                                 bootstrap=True,\n",
    "                                 oob_score=True)\n",
    "#\n",
    "rnd_clf.fit(X_train, y_train)\n",
    "rnd_clf_accs = cross_val_score(rnd_clf, X_train, y_train, scoring=\"accuracy\", cv=5)\n",
    "\n",
    "display_scores(rnd_clf_accs)"
   ]
  },
  {
   "cell_type": "code",
   "execution_count": 35,
   "metadata": {},
   "outputs": [
    {
     "ename": "NameError",
     "evalue": "name 'RandomForestclassifier' is not defined",
     "output_type": "error",
     "traceback": [
      "\u001b[1;31m---------------------------------------------------------------------------\u001b[0m",
      "\u001b[1;31mNameError\u001b[0m                                 Traceback (most recent call last)",
      "Input \u001b[1;32mIn [35]\u001b[0m, in \u001b[0;36m<cell line: 3>\u001b[1;34m()\u001b[0m\n\u001b[0;32m      1\u001b[0m \u001b[38;5;66;03m### Grid search\u001b[39;00m\n\u001b[0;32m      2\u001b[0m \u001b[38;5;28;01mfrom\u001b[39;00m \u001b[38;5;21;01msklearn\u001b[39;00m\u001b[38;5;21;01m.\u001b[39;00m\u001b[38;5;21;01mmodel_selection\u001b[39;00m \u001b[38;5;28;01mimport\u001b[39;00m GridSearchCV\n\u001b[1;32m----> 3\u001b[0m random_forest_model \u001b[38;5;241m=\u001b[39m \u001b[43mRandomForestclassifier\u001b[49m()\n\u001b[0;32m      4\u001b[0m \u001b[38;5;66;03m# Instantiate the grid search modelb\u001b[39;00m\n\u001b[0;32m      5\u001b[0m grid_search \u001b[38;5;241m=\u001b[39m GridSearchCV(estimator \u001b[38;5;241m=\u001b[39m random_forest_model , param_grid \u001b[38;5;241m=\u001b[39m param_grid, cv \u001b[38;5;241m=\u001b[39m \u001b[38;5;241m3\u001b[39m, n_jobs \u001b[38;5;241m=\u001b[39m \u001b[38;5;241m-\u001b[39m\u001b[38;5;241m1\u001b[39m)\n",
      "\u001b[1;31mNameError\u001b[0m: name 'RandomForestclassifier' is not defined"
     ]
    }
   ],
   "source": [
    "### Grid search\n",
    "from sklearn.model_selection import GridSearchCV\n",
    "random_forest_model = RandomForestclassifier()\n",
    "# Instantiate the grid search modelb\n",
    "grid_search = GridSearchCV(estimator = random_forest_model , param_grid = param_grid, cv = 3, n_jobs = -1)"
   ]
  },
  {
   "cell_type": "code",
   "execution_count": 34,
   "metadata": {},
   "outputs": [],
   "source": [
    "param_grid = {'n_estimators': [1, 2, 3, 4]}"
   ]
  },
  {
   "cell_type": "code",
   "execution_count": 42,
   "metadata": {},
   "outputs": [],
   "source": [
    "grid_search = GridSearchCV(estimator = rnd_clf2, param_grid = param_grid, cv = 3, n_jobs = -1)"
   ]
  },
  {
   "cell_type": "code",
   "execution_count": 40,
   "metadata": {},
   "outputs": [],
   "source": [
    "rnd_clf2 = RandomForestClassifier(max_leaf_nodes=None,bootstrap=True,oob_score=True)"
   ]
  },
  {
   "cell_type": "code",
   "execution_count": null,
   "metadata": {},
   "outputs": [],
   "source": []
  },
  {
   "cell_type": "markdown",
   "metadata": {
    "id": "LBtTUxSKnVDf"
   },
   "source": [
    "## 8.4 Extra Trees Classifier"
   ]
  },
  {
   "cell_type": "code",
   "execution_count": null,
   "metadata": {
    "id": "wX41NN5lnr0o"
   },
   "outputs": [],
   "source": []
  },
  {
   "cell_type": "markdown",
   "metadata": {
    "id": "yj6EC1OMnkpm"
   },
   "source": [
    "## 8.5 Decision Tree Classifier"
   ]
  },
  {
   "cell_type": "code",
   "execution_count": null,
   "metadata": {
    "colab": {
     "base_uri": "https://localhost:8080/"
    },
    "executionInfo": {
     "elapsed": 3745,
     "status": "ok",
     "timestamp": 1668650807499,
     "user": {
      "displayName": "Mariana Cabride",
      "userId": "17414035056376663625"
     },
     "user_tz": 180
    },
    "id": "SQ2Y-sEHRNnm",
    "outputId": "d1515222-bfe4-48ea-b725-699a6dfbcab4"
   },
   "outputs": [
    {
     "name": "stdout",
     "output_type": "stream",
     "text": [
      "Scores: [0.80551067 0.79531313 0.80460606 0.80040404 0.80266667]\n",
      "\n",
      "Mean: 0.8017001129589365\n",
      "Standard deviation: 0.0036434162375482988\n"
     ]
    }
   ],
   "source": [
    "from sklearn.model_selection import cross_val_score\n",
    "from sklearn.tree import DecisionTreeClassifier\n",
    "\n",
    "dt = DecisionTreeClassifier() # esse é o meu ESTIMATOR\n",
    "dt.fit(X_train, y_train)\n",
    "\n",
    "dt_cross_val = cross_val_score(dt, X_train, y_train, scoring=\"accuracy\", cv=5)\n",
    "display_scores(dt_cross_val) \n",
    "\n",
    "# return: Array of scores of the estimator for each run of the cross validation. \n",
    "# Ou seja, accuracy de cada folder "
   ]
  },
  {
   "cell_type": "code",
   "execution_count": null,
   "metadata": {
    "colab": {
     "base_uri": "https://localhost:8080/"
    },
    "executionInfo": {
     "elapsed": 4,
     "status": "ok",
     "timestamp": 1668650612394,
     "user": {
      "displayName": "Mariana Cabride",
      "userId": "17414035056376663625"
     },
     "user_tz": 180
    },
    "id": "bwrR9zdPQsZu",
    "outputId": "7950af1d-65a0-4ce4-cc32-ccde656fbc62"
   },
   "outputs": [
    {
     "name": "stderr",
     "output_type": "stream",
     "text": [
      "/usr/local/lib/python3.7/dist-packages/sklearn/base.py:444: UserWarning: X has feature names, but DecisionTreeClassifier was fitted without feature names\n",
      "  f\"X has feature names, but {self.__class__.__name__} was fitted without\"\n"
     ]
    }
   ],
   "source": [
    "y_test_pred = dt.predict(df_test)"
   ]
  },
  {
   "cell_type": "code",
   "execution_count": null,
   "metadata": {
    "id": "P4kx70-Mx72B"
   },
   "outputs": [],
   "source": [
    "# Fazer desenho da árvore de decisão\n",
    "#from sklearn import tree\n",
    "#tree.plot_tree(df, filled=True, rounded=True)"
   ]
  },
  {
   "cell_type": "code",
   "execution_count": null,
   "metadata": {
    "id": "g2TgnyX_x7vW"
   },
   "outputs": [],
   "source": [
    "#import graphviz\n",
    "#from sklearn import tree\n",
    "#dot_data = tree.export_graphviz(df, out_file=None, filled=True, rounded=True)\n",
    "#graph = graphviz.Source(dot_data, format = 'png')\n",
    "#graph"
   ]
  }
 ],
 "metadata": {
  "colab": {
   "provenance": [
    {
     "file_id": "1ZLi0-wBCk6STeQLZQnr_4NzGYy7BF6WG",
     "timestamp": 1668465666181
    }
   ]
  },
  "kernelspec": {
   "display_name": "Python 3 (ipykernel)",
   "language": "python",
   "name": "python3"
  },
  "language_info": {
   "codemirror_mode": {
    "name": "ipython",
    "version": 3
   },
   "file_extension": ".py",
   "mimetype": "text/x-python",
   "name": "python",
   "nbconvert_exporter": "python",
   "pygments_lexer": "ipython3",
   "version": "3.10.5"
  },
  "widgets": {
   "application/vnd.jupyter.widget-state+json": {
    "state": {},
    "version_major": 2,
    "version_minor": 0
   }
  }
 },
 "nbformat": 4,
 "nbformat_minor": 4
}
