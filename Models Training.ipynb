{
 "cells": [
  {
   "cell_type": "markdown",
   "id": "f2c3ea53-2a75-4552-9866-caa192c62786",
   "metadata": {},
   "source": [
    "# Training and comparison\n",
    "\n",
    "Objective: Trainining of multiple models using the data and comparison of the results"
   ]
  },
  {
   "cell_type": "code",
   "execution_count": 1,
   "id": "30de7b8c-7198-4347-b6c4-c0f93861f8d2",
   "metadata": {},
   "outputs": [],
   "source": [
    "#Importing most used modules\n",
    "import numpy as np\n",
    "import pandas as pd\n",
    "import seaborn as sns\n",
    "import matplotlib.pyplot as plt\n",
    "import phik\n",
    "sns.set_palette('viridis')\n",
    "from imblearn.over_sampling import RandomOverSampler\n",
    "from sklearn.metrics import accuracy_score, confusion_matrix, classification_report\n",
    "from yellowbrick.classifier import ConfusionMatrix\n",
    "from sklearn.tree import DecisionTreeClassifier\n",
    "from sklearn.metrics import mean_absolute_error, mean_squared_error, r2_score\n",
    "from sklearn import metrics\n",
    "from sklearn.model_selection import cross_val_score\n",
    "from sklearn.neighbors import KNeighborsClassifier \n",
    "from sklearn.ensemble import RandomForestClassifier\n",
    "from sklearn.model_selection import train_test_split\n",
    "from sklearn.naive_bayes import GaussianNB\n",
    "from sklearn.svm import SVC\n",
    "from sklearn.ensemble import ExtraTreesClassifier\n",
    "from sklearn.ensemble import AdaBoostClassifier"
   ]
  },
  {
   "cell_type": "markdown",
   "id": "6f29ccf1-cc09-4ec0-87ad-57b01dfa19ef",
   "metadata": {},
   "source": [
    "Loading the datasets"
   ]
  },
  {
   "cell_type": "code",
   "execution_count": 2,
   "id": "bf285216-6f3f-4911-b727-6756e34c0c39",
   "metadata": {},
   "outputs": [],
   "source": [
    "#Loading the datasets\n",
    "test_sets = ['numeric','categoricals_binned','one_hot_encoded','outliers_removed',\n",
    "             'one_hot_encoded_rescaled','oversampled+','oversampled-','smoted+','smoted-']\n",
    "datasets = {}\n",
    "for key in test_sets:\n",
    "    datasets[key] = pd.read_csv(f'datasets/{key}.csv')"
   ]
  },
  {
   "cell_type": "code",
   "execution_count": 3,
   "id": "ef5383a6-62f1-4d98-a4cd-fa01b62a27cc",
   "metadata": {},
   "outputs": [],
   "source": [
    "#Defining the X,y spliter for ease of use\n",
    "def df_splitter(dataset, target = 'Response'):\n",
    "    X = dataset.drop(columns=[target])\n",
    "    y = dataset[target].values\n",
    "    return X, y"
   ]
  },
  {
   "cell_type": "code",
   "execution_count": 4,
   "id": "f6a32e0e-3dd0-4cde-b2be-78ce6d94e5d6",
   "metadata": {},
   "outputs": [],
   "source": [
    "# Defining the printing function\n",
    "def display_scores(scores):\n",
    "    print(\"Scores:\", scores)\n",
    "    print(\"\\nMean:\", scores.mean())\n",
    "    print(\"Standard deviation:\", scores.std())"
   ]
  },
  {
   "cell_type": "markdown",
   "id": "bbabe4b6-2471-4eca-9dcf-84cbfbef9c3e",
   "metadata": {},
   "source": [
    "## Models"
   ]
  },
  {
   "cell_type": "markdown",
   "id": "51fb0cb6-5559-4a9f-a508-b76638bba269",
   "metadata": {},
   "source": [
    "## Preliminary tests\n",
    "Since we have some datasets options, we will try a first run of the models so we can choose a model to try improving the hyperparameters."
   ]
  },
  {
   "cell_type": "code",
   "execution_count": 5,
   "id": "a8caa259-2e57-4dee-bebb-13f3172b63b0",
   "metadata": {},
   "outputs": [],
   "source": [
    "first_results = []"
   ]
  },
  {
   "cell_type": "code",
   "execution_count": 6,
   "id": "5e1f4ea0-a977-41d0-ac8e-9d5616c0f5fe",
   "metadata": {
    "tags": []
   },
   "outputs": [
    {
     "name": "stdout",
     "output_type": "stream",
     "text": [
      "\n",
      "-----\n",
      "Dataset: numeric\n",
      "Scores: [0.71228536 0.71211675 0.71491745]\n",
      "\n",
      "Mean: 0.7131065181467098\n",
      "Standard deviation: 0.0012823729935557734\n",
      "\n",
      "-----\n",
      "Dataset: categoricals_binned\n",
      "Scores: [0.71059032 0.70769458 0.71005307]\n",
      "\n",
      "Mean: 0.7094459858904245\n",
      "Standard deviation: 0.0012577064482832434\n",
      "\n",
      "-----\n",
      "Dataset: one_hot_encoded\n",
      "Scores: [0.71022183 0.70850531 0.70953715]\n",
      "\n",
      "Mean: 0.7094214273332063\n",
      "Standard deviation: 0.0007055284432189075\n",
      "\n",
      "-----\n",
      "Dataset: outliers_removed\n",
      "Scores: [0.71475655 0.70724399 0.71301221]\n",
      "\n",
      "Mean: 0.711670917757777\n",
      "Standard deviation: 0.00321029198290776\n",
      "\n",
      "-----\n",
      "Dataset: one_hot_encoded_rescaled\n",
      "Scores: [0.71464367 0.71395932 0.71587559]\n",
      "\n",
      "Mean: 0.7148261929129059\n",
      "Standard deviation: 0.0007928897487709854\n",
      "\n",
      "-----\n",
      "Dataset: oversampled+\n",
      "Scores: [0.62038204 0.6198303  0.6208    ]\n",
      "\n",
      "Mean: 0.620337448371037\n",
      "Standard deviation: 0.0003971309629555497\n",
      "\n",
      "-----\n",
      "Dataset: oversampled-\n",
      "Scores: [0.61266322 0.611905   0.6137282 ]\n",
      "\n",
      "Mean: 0.6127654698725807\n",
      "Standard deviation: 0.0007478214047553315\n",
      "\n",
      "-----\n",
      "Dataset: smoted+\n",
      "Scores: [0.62004266 0.61682424 0.61197576]\n",
      "\n",
      "Mean: 0.6162808881993601\n",
      "Standard deviation: 0.0033156369510721063\n",
      "\n",
      "-----\n",
      "Dataset: smoted-\n",
      "Scores: [0.64818921 0.64856608 0.65635163]\n",
      "\n",
      "Mean: 0.6510356396109004\n",
      "Standard deviation: 0.003762120960200458\n"
     ]
    }
   ],
   "source": [
    "# K-Neighbors Classifier\n",
    "knn_clf = KNeighborsClassifier(n_neighbors=5, n_jobs = -1)\n",
    "for key in test_sets:\n",
    "    X, y = df_splitter(datasets[key])\n",
    "    X_train, X_test, y_train, y_test = train_test_split(X, y, test_size=0.2, random_state=1216)\n",
    "    knn_test = cross_val_score(knn_clf,X_train,y_train, n_jobs=-1, cv=3, scoring='accuracy')\n",
    "    first_results.append({'model':'KNN', 'dataset':key, 'score':knn_test.mean()})\n",
    "    print(f'\\n-----\\nDataset: {key}')\n",
    "    display_scores(knn_test)"
   ]
  },
  {
   "cell_type": "markdown",
   "id": "6d451f17-cf9e-45e5-94f5-173b078d90ef",
   "metadata": {},
   "source": [
    "#### Naive Bayes (Gaussian)"
   ]
  },
  {
   "cell_type": "code",
   "execution_count": 7,
   "id": "3392e106-2f19-4f8c-b507-577081322b47",
   "metadata": {
    "tags": []
   },
   "outputs": [
    {
     "name": "stdout",
     "output_type": "stream",
     "text": [
      "\n",
      "-----\n",
      "Dataset: numeric\n",
      "Scores: [0.75592679 0.74695983 0.74462597 0.75113622 0.74695983]\n",
      "\n",
      "Mean: 0.7491217295172583\n",
      "Standard deviation: 0.003998162378626328\n",
      "\n",
      "-----\n",
      "Dataset: categoricals_binned\n",
      "Scores: [0.75690947 0.74953937 0.74376612 0.75224174 0.746837  ]\n",
      "\n",
      "Mean: 0.749858739712566\n",
      "Standard deviation: 0.004510973372125921\n",
      "\n",
      "-----\n",
      "Dataset: one_hot_encoded\n",
      "Scores: [0.75506695 0.74941653 0.7443803  0.7492937  0.74867952]\n",
      "\n",
      "Mean: 0.7493673995823609\n",
      "Standard deviation: 0.003401088891060924\n",
      "\n",
      "-----\n",
      "Dataset: outliers_removed\n",
      "Scores: [0.75418227 0.75156055 0.74956305 0.75402672 0.7445374 ]\n",
      "\n",
      "Mean: 0.7507739966071254\n",
      "Standard deviation: 0.003554625483263591\n",
      "\n",
      "-----\n",
      "Dataset: one_hot_encoded_rescaled\n",
      "Scores: [0.72583221 0.72976293 0.72816607 0.71919912 0.72288417]\n",
      "\n",
      "Mean: 0.725168898169758\n",
      "Standard deviation: 0.003778530191324014\n",
      "\n",
      "-----\n",
      "Dataset: oversampled+\n",
      "Scores: [0.52828054 0.53139394 0.53373737 0.52711111 0.52864646]\n",
      "\n",
      "Mean: 0.5298338863750629\n",
      "Standard deviation: 0.0024044679324950508\n",
      "\n",
      "-----\n",
      "Dataset: oversampled-\n",
      "Scores: [0.54151269 0.53420383 0.52878377 0.53268725 0.5342477 ]\n",
      "\n",
      "Mean: 0.5342870482870001\n",
      "Standard deviation: 0.0041246509318381575\n",
      "\n",
      "-----\n",
      "Dataset: smoted+\n",
      "Scores: [0.73796057 0.73519192 0.73567677 0.73591919 0.73139394]\n",
      "\n",
      "Mean: 0.735228477404948\n",
      "Standard deviation: 0.0021376338598672697\n",
      "\n",
      "-----\n",
      "Dataset: smoted-\n",
      "Scores: [0.6317648  0.63775971 0.63299663 0.63428055 0.6364159 ]\n",
      "\n",
      "Mean: 0.6346435196920759\n",
      "Standard deviation: 0.002190112981087577\n"
     ]
    }
   ],
   "source": [
    "nbg_clf = GaussianNB()\n",
    "for key in test_sets:\n",
    "    X, y = df_splitter(datasets[key])\n",
    "    X_train, X_test, y_train, y_test = train_test_split(X, y, test_size=0.2, random_state=1216)\n",
    "    nbg_test = cross_val_score(nbg_clf,X_train,y_train, n_jobs=-1, cv=5, scoring='accuracy')\n",
    "    first_results.append({'model':'Naive Bayes', 'dataset':key, 'score':nbg_test.mean()})\n",
    "    print(f'\\n-----\\nDataset: {key}')\n",
    "    display_scores(nbg_test)"
   ]
  },
  {
   "cell_type": "markdown",
   "id": "ee6f64f3-3373-4614-a658-7fdd3e7345d8",
   "metadata": {},
   "source": [
    "#### Support Vector Machine"
   ]
  },
  {
   "cell_type": "code",
   "execution_count": null,
   "id": "ac9dbd73-c0ee-42a5-95d9-b3fbe1743a5c",
   "metadata": {
    "tags": []
   },
   "outputs": [
    {
     "name": "stdout",
     "output_type": "stream",
     "text": [
      "\n",
      "-----\n",
      "Dataset: numeric\n",
      "Scores: [0.76037931 0.76036753]\n",
      "\n",
      "Mean: 0.7603734183543323\n",
      "Standard deviation: 5.88690779129708e-06\n",
      "\n",
      "-----\n",
      "Dataset: categoricals_binned\n",
      "Scores: [0.76037931 0.76036753]\n",
      "\n",
      "Mean: 0.7603734183543323\n",
      "Standard deviation: 5.88690779129708e-06\n",
      "\n",
      "-----\n",
      "Dataset: one_hot_encoded\n",
      "Scores: [0.76037931 0.76036753]\n",
      "\n",
      "Mean: 0.7603734183543323\n",
      "Standard deviation: 5.88690779129708e-06\n",
      "\n",
      "-----\n",
      "Dataset: outliers_removed\n",
      "Scores: [0.76038753 0.76038753]\n",
      "\n",
      "Mean: 0.7603875349580503\n",
      "Standard deviation: 0.0\n",
      "\n",
      "-----\n",
      "Dataset: one_hot_encoded_rescaled\n",
      "Scores: [0.76037931 0.76036753]\n",
      "\n",
      "Mean: 0.7603734183543323\n",
      "Standard deviation: 5.88690779129708e-06\n"
     ]
    }
   ],
   "source": [
    "svm = SVC(kernel = 'poly', random_state = 1216, C = 1.0)\n",
    "for key in test_sets:\n",
    "    X, y = df_splitter(datasets[key])\n",
    "    X_train, X_test, y_train, y_test = train_test_split(X, y, test_size=0.2, random_state=1216)\n",
    "    svc_test = cross_val_score(svm,X_train,y_train, n_jobs=-1, cv=2, scoring='accuracy')\n",
    "    first_results.append({'model':'SVC', 'dataset':key, 'score':svc_test.mean()})\n",
    "    print(f'\\n-----\\nDataset: {key}')\n",
    "    display_scores(svc_test)"
   ]
  },
  {
   "cell_type": "markdown",
   "id": "4f2b5c68-58f6-4a81-bfbc-1b556c9e4188",
   "metadata": {},
   "source": [
    "#### Decision Trees"
   ]
  },
  {
   "cell_type": "code",
   "execution_count": null,
   "id": "04bd7405-1a6e-4ab3-99f7-6c8e3a97d46b",
   "metadata": {
    "tags": []
   },
   "outputs": [],
   "source": [
    "dtc = DecisionTreeClassifier(random_state=1216)\n",
    "for key in test_sets:\n",
    "    X, y = df_splitter(datasets[key])\n",
    "    X_train, X_test, y_train, y_test = train_test_split(X, y, test_size=0.2, random_state=1216)\n",
    "    dtc_test = cross_val_score(dtc,X_train,y_train, n_jobs=-1, cv=3, scoring='accuracy') #Default cv value = 5\n",
    "    first_results.append({'model':'Decision Tree', 'dataset':key, 'score':dtc_test.mean()})\n",
    "    print(f'\\n-----\\nDataset: {key}')\n",
    "    display_scores(dtc_test)"
   ]
  },
  {
   "cell_type": "markdown",
   "id": "fb704371-82d7-4548-b84e-0a7c93b06cc0",
   "metadata": {},
   "source": [
    "#### Extra Trees"
   ]
  },
  {
   "cell_type": "code",
   "execution_count": null,
   "id": "4e02da50-1dad-4d43-8701-447ef90ee2dc",
   "metadata": {
    "tags": []
   },
   "outputs": [],
   "source": [
    "extrees = ExtraTreesClassifier(random_state=1216)\n",
    "for key in test_sets:\n",
    "    X, y = df_splitter(datasets[key])\n",
    "    X_train, X_test, y_train, y_test = train_test_split(X, y, test_size=0.2, random_state=1216)\n",
    "    extrees_test = cross_val_score(extrees,X_train,y_train, n_jobs=-1, cv=3, scoring='accuracy') #Default cv value = 5\n",
    "    first_results.append({'model':'Extra Trees', 'dataset':key, 'score':extrees_test.mean()})\n",
    "    print(f'\\n-----\\nDataset: {key}')\n",
    "    display_scores(extrees_test)"
   ]
  },
  {
   "cell_type": "markdown",
   "id": "6df362ec-b9b1-4b13-ae3f-2dfea8556500",
   "metadata": {},
   "source": [
    "#### Random Forest"
   ]
  },
  {
   "cell_type": "code",
   "execution_count": null,
   "id": "f5540601-92b5-46b7-9a25-6a6b75869ae4",
   "metadata": {
    "tags": []
   },
   "outputs": [],
   "source": [
    "rnd_clf = RandomForestClassifier(n_estimators=70,\n",
    "                                 max_leaf_nodes=None,\n",
    "                                 bootstrap=True,\n",
    "                                 oob_score=True,n_jobs = -1,\n",
    "                                 random_state = 1216)\n",
    "for key in test_sets:\n",
    "    X, y = df_splitter(datasets[key])\n",
    "    X_train, X_test, y_train, y_test = train_test_split(X, y, test_size=0.2, random_state=1216)\n",
    "    rnd_clf_test = cross_val_score(rnd_clf,X_train,y_train, n_jobs=-1, cv=3, scoring='accuracy')\n",
    "    first_results.append({'model':'Random Forest', 'dataset':key, 'score':rnd_clf_test.mean()})\n",
    "    print(f'\\n-----\\nDataset: {key}')\n",
    "    display_scores(rnd_clf_test)"
   ]
  },
  {
   "cell_type": "markdown",
   "id": "0dbe875d-9724-4124-8687-0b7cf66bb5d4",
   "metadata": {},
   "source": [
    "#### AdaBoost"
   ]
  },
  {
   "cell_type": "code",
   "execution_count": null,
   "id": "24c60d86-9139-45da-8ac4-2518a7efb891",
   "metadata": {
    "tags": []
   },
   "outputs": [],
   "source": [
    "ada_boost = AdaBoostClassifier(n_estimators = 500, learning_rate = 0.8, random_state = 1216)\n",
    "for key in test_sets:\n",
    "    X, y = df_splitter(datasets[key])\n",
    "    X_train, X_test, y_train, y_test = train_test_split(X, y, test_size=0.2, random_state=1216)\n",
    "    ada_boost_test = cross_val_score(ada_boost,X_train,y_train, n_jobs=-1, cv=3, scoring='accuracy')\n",
    "    first_results.append({'model':'AdaBoost', 'dataset':key, 'score':ada_boost_test.mean()})\n",
    "    print(f'\\n-----\\nDataset: {key}')\n",
    "    display_scores(ada_boost_test)"
   ]
  },
  {
   "cell_type": "code",
   "execution_count": 31,
   "id": "bebe68da-5629-4275-8e4c-85f9b2fbde07",
   "metadata": {},
   "outputs": [
    {
     "data": {
      "text/plain": [
       "[{'model': 'Naive Bayes', 'dataset': 'numeric', 'score': 0.7491217295172583},\n",
       " {'model': 'Naive Bayes',\n",
       "  'dataset': 'categoricals_binned',\n",
       "  'score': 0.749858739712566},\n",
       " {'model': 'Naive Bayes',\n",
       "  'dataset': 'one_hot_encoded',\n",
       "  'score': 0.7493673995823609},\n",
       " {'model': 'Naive Bayes',\n",
       "  'dataset': 'outliers_removed',\n",
       "  'score': 0.7507739966071254},\n",
       " {'model': 'Naive Bayes',\n",
       "  'dataset': 'one_hot_encoded_rescaled',\n",
       "  'score': 0.725168898169758},\n",
       " {'model': 'Naive Bayes',\n",
       "  'dataset': 'oversampled+',\n",
       "  'score': 0.5298338863750629},\n",
       " {'model': 'Naive Bayes',\n",
       "  'dataset': 'oversampled-',\n",
       "  'score': 0.5342870482870001},\n",
       " {'model': 'Naive Bayes', 'dataset': 'smoted+', 'score': 0.735228477404948},\n",
       " {'model': 'Naive Bayes', 'dataset': 'smoted-', 'score': 0.6346435196920759},\n",
       " {'model': 'Decision Tree', 'dataset': 'numeric', 'score': 0.6631863711175029},\n",
       " {'model': 'Decision Tree',\n",
       "  'dataset': 'categoricals_binned',\n",
       "  'score': 0.6343202078382513},\n",
       " {'model': 'Decision Tree',\n",
       "  'dataset': 'one_hot_encoded',\n",
       "  'score': 0.6479793844129307},\n",
       " {'model': 'Decision Tree',\n",
       "  'dataset': 'outliers_removed',\n",
       "  'score': 0.6428784829510718},\n",
       " {'model': 'Decision Tree',\n",
       "  'dataset': 'one_hot_encoded_rescaled',\n",
       "  'score': 0.647905683393311},\n",
       " {'model': 'Decision Tree',\n",
       "  'dataset': 'oversampled+',\n",
       "  'score': 0.7755834250583015},\n",
       " {'model': 'Decision Tree',\n",
       "  'dataset': 'oversampled-',\n",
       "  'score': 0.7718739619164352},\n",
       " {'model': 'Decision Tree', 'dataset': 'smoted+', 'score': 0.691770650948543},\n",
       " {'model': 'Decision Tree', 'dataset': 'smoted-', 'score': 0.7385476802168508}]"
      ]
     },
     "execution_count": 31,
     "metadata": {},
     "output_type": "execute_result"
    }
   ],
   "source": [
    "first_results"
   ]
  },
  {
   "cell_type": "code",
   "execution_count": null,
   "id": "c7d4b3da-7b65-4253-ad93-259d970f2daa",
   "metadata": {},
   "outputs": [],
   "source": [
    "#Converting to pandas dataframe\n",
    "first_results = pd.DataFrame(first_results)\n",
    "first_results = first_results.pivot(index='model', columns = 'dataset', values = 'score')\n",
    "first_results.style.background_gradient(cmap='PuBu_r', low=0, high=1, axis=0)"
   ]
  }
 ],
 "metadata": {
  "kernelspec": {
   "display_name": "Python 3 (ipykernel)",
   "language": "python",
   "name": "python3"
  },
  "language_info": {
   "codemirror_mode": {
    "name": "ipython",
    "version": 3
   },
   "file_extension": ".py",
   "mimetype": "text/x-python",
   "name": "python",
   "nbconvert_exporter": "python",
   "pygments_lexer": "ipython3",
   "version": "3.10.5"
  },
  "widgets": {
   "application/vnd.jupyter.widget-state+json": {
    "state": {},
    "version_major": 2,
    "version_minor": 0
   }
  }
 },
 "nbformat": 4,
 "nbformat_minor": 5
}
