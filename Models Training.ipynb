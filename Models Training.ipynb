{
 "cells": [
  {
   "cell_type": "markdown",
   "id": "f2c3ea53-2a75-4552-9866-caa192c62786",
   "metadata": {},
   "source": [
    "# Training and comparison\n",
    "\n",
    "Objective: Trainining of multiple models using the data and comparison of the results"
   ]
  },
  {
   "cell_type": "code",
   "execution_count": 1,
   "id": "30de7b8c-7198-4347-b6c4-c0f93861f8d2",
   "metadata": {},
   "outputs": [],
   "source": [
    "#Importing most used modules\n",
    "import numpy as np\n",
    "import pandas as pd\n",
    "import seaborn as sns\n",
    "import matplotlib.pyplot as plt\n",
    "import phik\n",
    "sns.set_palette('viridis')\n",
    "from imblearn.over_sampling import RandomOverSampler\n",
    "from sklearn.metrics import accuracy_score, confusion_matrix, classification_report, mean_absolute_error, mean_squared_error, r2_score, ConfusionMatrixDisplay\n",
    "from yellowbrick.classifier import ConfusionMatrix\n",
    "from sklearn.tree import DecisionTreeClassifier\n",
    "from sklearn import metrics\n",
    "from sklearn.model_selection import cross_val_score, GridSearchCV\n",
    "from sklearn.neighbors import KNeighborsClassifier \n",
    "from sklearn.ensemble import RandomForestClassifier\n",
    "from sklearn.model_selection import train_test_split, GridSearchCV\n",
    "from sklearn.naive_bayes import GaussianNB\n",
    "from sklearn.svm import SVC\n",
    "from sklearn.ensemble import AdaBoostClassifier, ExtraTreesClassifier"
   ]
  },
  {
   "cell_type": "markdown",
   "id": "6f29ccf1-cc09-4ec0-87ad-57b01dfa19ef",
   "metadata": {},
   "source": [
    "Loading the datasets"
   ]
  },
  {
   "cell_type": "code",
   "execution_count": 2,
   "id": "bf285216-6f3f-4911-b727-6756e34c0c39",
   "metadata": {},
   "outputs": [],
   "source": [
    "#Loading the datasets\n",
    "test_sets = ['numeric','categoricals_binned','one_hot_encoded','outliers_removed',\n",
    "             'one_hot_encoded_rescaled','oversampled+','oversampled-','smoted+','smoted-']\n",
    "datasets = {}\n",
    "for key in test_sets:\n",
    "    datasets[key] = pd.read_csv(f'datasets/{key}.csv')"
   ]
  },
  {
   "cell_type": "code",
   "execution_count": 3,
   "id": "ef5383a6-62f1-4d98-a4cd-fa01b62a27cc",
   "metadata": {},
   "outputs": [],
   "source": [
    "#Defining the X,y spliter for ease of use\n",
    "def df_splitter(dataset, target = 'Response'):\n",
    "    X = dataset.drop(columns=[target])\n",
    "    y = dataset[target].values\n",
    "    return X, y"
   ]
  },
  {
   "cell_type": "code",
   "execution_count": 4,
   "id": "f6a32e0e-3dd0-4cde-b2be-78ce6d94e5d6",
   "metadata": {},
   "outputs": [],
   "source": [
    "# Defining the printing function\n",
    "def display_scores(scores):\n",
    "    print(\"Scores:\", scores)\n",
    "    print(\"\\nMean:\", scores.mean())\n",
    "    print(\"Standard deviation:\", scores.std())"
   ]
  },
  {
   "cell_type": "markdown",
   "id": "bbabe4b6-2471-4eca-9dcf-84cbfbef9c3e",
   "metadata": {},
   "source": [
    "## Models"
   ]
  },
  {
   "cell_type": "markdown",
   "id": "51fb0cb6-5559-4a9f-a508-b76638bba269",
   "metadata": {},
   "source": [
    "## Dataset tests\n",
    "Since we have some datasets options, we will try a first run of t"
   ]
  },
  {
   "cell_type": "code",
   "execution_count": 5,
   "id": "a8caa259-2e57-4dee-bebb-13f3172b63b0",
   "metadata": {},
   "outputs": [],
   "source": [
    "first_results = []"
   ]
  },
  {
   "cell_type": "markdown",
   "id": "b105729d-f7fb-4f7b-910d-f3b6b1956e24",
   "metadata": {},
   "source": [
    "#### K-Neighbors Classifier"
   ]
  },
  {
   "cell_type": "code",
   "execution_count": 6,
   "id": "5e1f4ea0-a977-41d0-ac8e-9d5616c0f5fe",
   "metadata": {
    "collapsed": true,
    "jupyter": {
     "outputs_hidden": true
    },
    "tags": []
   },
   "outputs": [
    {
     "name": "stdout",
     "output_type": "stream",
     "text": [
      "\n",
      "-----\n",
      "Dataset: numeric\n",
      "Scores: [0.71228536 0.71211675 0.71491745]\n",
      "\n",
      "Mean: 0.7131065181467098\n",
      "Standard deviation: 0.0012823729935557734\n",
      "\n",
      "-----\n",
      "Dataset: categoricals_binned\n",
      "Scores: [0.71059032 0.70769458 0.71005307]\n",
      "\n",
      "Mean: 0.7094459858904245\n",
      "Standard deviation: 0.0012577064482832434\n",
      "\n",
      "-----\n",
      "Dataset: one_hot_encoded\n",
      "Scores: [0.71022183 0.70850531 0.70953715]\n",
      "\n",
      "Mean: 0.7094214273332063\n",
      "Standard deviation: 0.0007055284432189075\n",
      "\n",
      "-----\n",
      "Dataset: outliers_removed\n",
      "Scores: [0.71475655 0.70724399 0.71301221]\n",
      "\n",
      "Mean: 0.711670917757777\n",
      "Standard deviation: 0.00321029198290776\n",
      "\n",
      "-----\n",
      "Dataset: one_hot_encoded_rescaled\n",
      "Scores: [0.71464367 0.71395932 0.71587559]\n",
      "\n",
      "Mean: 0.7148261929129059\n",
      "Standard deviation: 0.0007928897487709854\n",
      "\n",
      "-----\n",
      "Dataset: oversampled+\n",
      "Scores: [0.62038204 0.6198303  0.6208    ]\n",
      "\n",
      "Mean: 0.620337448371037\n",
      "Standard deviation: 0.0003971309629555497\n",
      "\n",
      "-----\n",
      "Dataset: oversampled-\n",
      "Scores: [0.61266322 0.611905   0.6137282 ]\n",
      "\n",
      "Mean: 0.6127654698725807\n",
      "Standard deviation: 0.0007478214047553315\n",
      "\n",
      "-----\n",
      "Dataset: smoted+\n",
      "Scores: [0.62004266 0.61682424 0.61197576]\n",
      "\n",
      "Mean: 0.6162808881993601\n",
      "Standard deviation: 0.0033156369510721063\n",
      "\n",
      "-----\n",
      "Dataset: smoted-\n",
      "Scores: [0.64818921 0.64856608 0.65635163]\n",
      "\n",
      "Mean: 0.6510356396109004\n",
      "Standard deviation: 0.003762120960200458\n"
     ]
    }
   ],
   "source": [
    "knn_clf = KNeighborsClassifier(n_neighbors=5, n_jobs = -1)\n",
    "for key in test_sets:\n",
    "    X, y = df_splitter(datasets[key])\n",
    "    X_train, X_test, y_train, y_test = train_test_split(X, y, test_size=0.2, random_state=1216)\n",
    "    knn_test = cross_val_score(knn_clf,X_train,y_train, n_jobs=-1, cv=3, scoring='accuracy')\n",
    "    first_results.append({'model':'KNN', 'dataset':key, 'score':knn_test.mean()})\n",
    "    print(f'\\n-----\\nDataset: {key}')\n",
    "    display_scores(knn_test)"
   ]
  },
  {
   "cell_type": "markdown",
   "id": "6d451f17-cf9e-45e5-94f5-173b078d90ef",
   "metadata": {},
   "source": [
    "#### Naive Bayes (Gaussian)"
   ]
  },
  {
   "cell_type": "code",
   "execution_count": 7,
   "id": "3392e106-2f19-4f8c-b507-577081322b47",
   "metadata": {
    "collapsed": true,
    "jupyter": {
     "outputs_hidden": true
    },
    "tags": []
   },
   "outputs": [
    {
     "name": "stdout",
     "output_type": "stream",
     "text": [
      "\n",
      "-----\n",
      "Dataset: numeric\n",
      "Scores: [0.75592679 0.74695983 0.74462597 0.75113622 0.74695983]\n",
      "\n",
      "Mean: 0.7491217295172583\n",
      "Standard deviation: 0.003998162378626328\n",
      "\n",
      "-----\n",
      "Dataset: categoricals_binned\n",
      "Scores: [0.75690947 0.74953937 0.74376612 0.75224174 0.746837  ]\n",
      "\n",
      "Mean: 0.749858739712566\n",
      "Standard deviation: 0.004510973372125921\n",
      "\n",
      "-----\n",
      "Dataset: one_hot_encoded\n",
      "Scores: [0.75506695 0.74941653 0.7443803  0.7492937  0.74867952]\n",
      "\n",
      "Mean: 0.7493673995823609\n",
      "Standard deviation: 0.003401088891060924\n",
      "\n",
      "-----\n",
      "Dataset: outliers_removed\n",
      "Scores: [0.75418227 0.75156055 0.74956305 0.75402672 0.7445374 ]\n",
      "\n",
      "Mean: 0.7507739966071254\n",
      "Standard deviation: 0.003554625483263591\n",
      "\n",
      "-----\n",
      "Dataset: one_hot_encoded_rescaled\n",
      "Scores: [0.72583221 0.72976293 0.72816607 0.71919912 0.72288417]\n",
      "\n",
      "Mean: 0.725168898169758\n",
      "Standard deviation: 0.003778530191324014\n",
      "\n",
      "-----\n",
      "Dataset: oversampled+\n",
      "Scores: [0.52828054 0.53139394 0.53373737 0.52711111 0.52864646]\n",
      "\n",
      "Mean: 0.5298338863750629\n",
      "Standard deviation: 0.0024044679324950508\n",
      "\n",
      "-----\n",
      "Dataset: oversampled-\n",
      "Scores: [0.54151269 0.53420383 0.52878377 0.53268725 0.5342477 ]\n",
      "\n",
      "Mean: 0.5342870482870001\n",
      "Standard deviation: 0.0041246509318381575\n",
      "\n",
      "-----\n",
      "Dataset: smoted+\n",
      "Scores: [0.73796057 0.73519192 0.73567677 0.73591919 0.73139394]\n",
      "\n",
      "Mean: 0.735228477404948\n",
      "Standard deviation: 0.0021376338598672697\n",
      "\n",
      "-----\n",
      "Dataset: smoted-\n",
      "Scores: [0.6317648  0.63775971 0.63299663 0.63428055 0.6364159 ]\n",
      "\n",
      "Mean: 0.6346435196920759\n",
      "Standard deviation: 0.002190112981087577\n"
     ]
    }
   ],
   "source": [
    "nbg_clf = GaussianNB()\n",
    "for key in test_sets:\n",
    "    X, y = df_splitter(datasets[key])\n",
    "    X_train, X_test, y_train, y_test = train_test_split(X, y, test_size=0.2, random_state=1216)\n",
    "    nbg_test = cross_val_score(nbg_clf,X_train,y_train, n_jobs=-1, cv=5, scoring='accuracy')\n",
    "    first_results.append({'model':'Naive Bayes', 'dataset':key, 'score':nbg_test.mean()})\n",
    "    print(f'\\n-----\\nDataset: {key}')\n",
    "    display_scores(nbg_test)"
   ]
  },
  {
   "cell_type": "markdown",
   "id": "ee6f64f3-3373-4614-a658-7fdd3e7345d8",
   "metadata": {},
   "source": [
    "#### Support Vector Machine"
   ]
  },
  {
   "cell_type": "code",
   "execution_count": 9,
   "id": "ac9dbd73-c0ee-42a5-95d9-b3fbe1743a5c",
   "metadata": {
    "collapsed": true,
    "jupyter": {
     "outputs_hidden": true
    },
    "tags": []
   },
   "outputs": [
    {
     "name": "stdout",
     "output_type": "stream",
     "text": [
      "\n",
      "-----\n",
      "Dataset: numeric\n",
      "Scores: [0.76037931 0.76036753]\n",
      "\n",
      "Mean: 0.7603734183543323\n",
      "Standard deviation: 5.88690779129708e-06\n",
      "\n",
      "-----\n",
      "Dataset: categoricals_binned\n",
      "Scores: [0.76037931 0.76036753]\n",
      "\n",
      "Mean: 0.7603734183543323\n",
      "Standard deviation: 5.88690779129708e-06\n",
      "\n",
      "-----\n",
      "Dataset: one_hot_encoded\n",
      "Scores: [0.76037931 0.76036753]\n",
      "\n",
      "Mean: 0.7603734183543323\n",
      "Standard deviation: 5.88690779129708e-06\n",
      "\n",
      "-----\n",
      "Dataset: outliers_removed\n",
      "Scores: [0.76038753 0.76038753]\n",
      "\n",
      "Mean: 0.7603875349580503\n",
      "Standard deviation: 0.0\n",
      "\n",
      "-----\n",
      "Dataset: one_hot_encoded_rescaled\n",
      "Scores: [0.76037931 0.76036753]\n",
      "\n",
      "Mean: 0.7603734183543323\n",
      "Standard deviation: 5.88690779129708e-06\n",
      "\n",
      "-----\n",
      "Dataset: oversampled+\n",
      "Scores: [0.5166462  0.53096516]\n",
      "\n",
      "Mean: 0.5238056758678648\n",
      "Standard deviation: 0.007159480250824246\n",
      "\n",
      "-----\n",
      "Dataset: oversampled-\n",
      "Scores: [0.50775245 0.50517394]\n",
      "\n",
      "Mean: 0.5064631951570698\n",
      "Standard deviation: 0.0012892521197188644\n",
      "\n",
      "-----\n",
      "Dataset: smoted+\n",
      "Scores: [0.67318508 0.66920939]\n",
      "\n",
      "Mean: 0.6711972331760294\n",
      "Standard deviation: 0.001987846661064052\n",
      "\n",
      "-----\n",
      "Dataset: smoted-\n",
      "Scores: [0.50463176 0.50550245]\n",
      "\n",
      "Mean: 0.5050671030557676\n",
      "Standard deviation: 0.00043534430141511926\n"
     ]
    }
   ],
   "source": [
    "svm = SVC(random_state = 1216, C = 1.0, cache_size = 4096)\n",
    "for key in test_sets:\n",
    "    X, y = df_splitter(datasets[key])\n",
    "    X_train, X_test, y_train, y_test = train_test_split(X, y, test_size=0.2, random_state=1216)\n",
    "    svc_test = cross_val_score(svm,X_train,y_train, n_jobs=-1, cv=2, scoring='accuracy')\n",
    "    first_results.append({'model':'Support Vector Machine', 'dataset':key, 'score':svc_test.mean()})\n",
    "    print(f'\\n-----\\nDataset: {key}')\n",
    "    display_scores(svc_test)"
   ]
  },
  {
   "cell_type": "markdown",
   "id": "4f2b5c68-58f6-4a81-bfbc-1b556c9e4188",
   "metadata": {},
   "source": [
    "#### Decision Trees"
   ]
  },
  {
   "cell_type": "code",
   "execution_count": 12,
   "id": "04bd7405-1a6e-4ab3-99f7-6c8e3a97d46b",
   "metadata": {
    "collapsed": true,
    "jupyter": {
     "outputs_hidden": true
    },
    "tags": []
   },
   "outputs": [
    {
     "name": "stdout",
     "output_type": "stream",
     "text": [
      "\n",
      "-----\n",
      "Dataset: numeric\n",
      "Scores: [0.66195003 0.66384139 0.66376769]\n",
      "\n",
      "Mean: 0.6631863711175029\n",
      "Standard deviation: 0.0008747406010030579\n",
      "\n",
      "-----\n",
      "Dataset: categoricals_binned\n",
      "Scores: [0.63026015 0.63509729 0.63760318]\n",
      "\n",
      "Mean: 0.6343202078382513\n",
      "Standard deviation: 0.003047722663274115\n",
      "\n",
      "-----\n",
      "Dataset: one_hot_encoded\n",
      "Scores: [0.64713686 0.64725825 0.64954304]\n",
      "\n",
      "Mean: 0.6479793844129307\n",
      "Standard deviation: 0.0011067834046584052\n",
      "\n",
      "-----\n",
      "Dataset: outliers_removed\n",
      "Scores: [0.64539326 0.64281969 0.6404225 ]\n",
      "\n",
      "Mean: 0.6428784829510718\n",
      "Standard deviation: 0.002029728015538005\n",
      "\n",
      "-----\n",
      "Dataset: one_hot_encoded_rescaled\n",
      "Scores: [0.64706316 0.64718455 0.64946934]\n",
      "\n",
      "Mean: 0.647905683393311\n",
      "Standard deviation: 0.0011067820263821067\n",
      "\n",
      "-----\n",
      "Dataset: oversampled+\n",
      "Scores: [0.77557452 0.77260606 0.7785697 ]\n",
      "\n",
      "Mean: 0.7755834250583015\n",
      "Standard deviation: 0.0024346524976599873\n",
      "\n",
      "-----\n",
      "Dataset: oversampled-\n",
      "Scores: [0.7694506  0.77303637 0.77313492]\n",
      "\n",
      "Mean: 0.7718739619164352\n",
      "Standard deviation: 0.00171404536073089\n",
      "\n",
      "-----\n",
      "Dataset: smoted+\n",
      "Scores: [0.69097256 0.69013333 0.69420606]\n",
      "\n",
      "Mean: 0.691770650948543\n",
      "Standard deviation: 0.0017558454830462057\n",
      "\n",
      "-----\n",
      "Dataset: smoted-\n",
      "Scores: [0.74013304 0.73519267 0.74031734]\n",
      "\n",
      "Mean: 0.7385476802168508\n",
      "Standard deviation: 0.0023735448469508185\n"
     ]
    }
   ],
   "source": [
    "dtc = DecisionTreeClassifier(random_state=1216)\n",
    "for key in test_sets:\n",
    "    X, y = df_splitter(datasets[key])\n",
    "    X_train, X_test, y_train, y_test = train_test_split(X, y, test_size=0.2, random_state=1216)\n",
    "    dtc_test = cross_val_score(dtc,X_train,y_train, n_jobs=-1, cv=3, scoring='accuracy') #Default cv value = 5\n",
    "    first_results.append({'model':'Decision Tree', 'dataset':key, 'score':dtc_test.mean()})\n",
    "    print(f'\\n-----\\nDataset: {key}')\n",
    "    display_scores(dtc_test)"
   ]
  },
  {
   "cell_type": "markdown",
   "id": "fb704371-82d7-4548-b84e-0a7c93b06cc0",
   "metadata": {},
   "source": [
    "#### Extra Trees"
   ]
  },
  {
   "cell_type": "code",
   "execution_count": 15,
   "id": "4e02da50-1dad-4d43-8701-447ef90ee2dc",
   "metadata": {
    "collapsed": true,
    "jupyter": {
     "outputs_hidden": true
    },
    "tags": []
   },
   "outputs": [
    {
     "name": "stdout",
     "output_type": "stream",
     "text": [
      "\n",
      "-----\n",
      "Dataset: numeric\n",
      "Scores: [0.74839708 0.74985259 0.75081073]\n",
      "\n",
      "Mean: 0.7496868023515727\n",
      "Standard deviation: 0.0009923175815198183\n",
      "\n",
      "-----\n",
      "Dataset: categoricals_binned\n",
      "Scores: [0.73793205 0.73776533 0.73540684]\n",
      "\n",
      "Mean: 0.7370347402699734\n",
      "Standard deviation: 0.0011531100974619445\n",
      "\n",
      "-----\n",
      "Dataset: one_hot_encoded\n",
      "Scores: [0.71648611 0.72435142 0.72199292]\n",
      "\n",
      "Mean: 0.7209434825543427\n",
      "Standard deviation: 0.0032956294397047925\n",
      "\n",
      "-----\n",
      "Dataset: outliers_removed\n",
      "Scores: [0.71857678 0.72222638 0.71848079]\n",
      "\n",
      "Mean: 0.7197613160341841\n",
      "Standard deviation: 0.0017435067655318006\n",
      "\n",
      "-----\n",
      "Dataset: one_hot_encoded_rescaled\n",
      "Scores: [0.71648611 0.72435142 0.72199292]\n",
      "\n",
      "Mean: 0.7209434825543427\n",
      "Standard deviation: 0.0032956294397047925\n",
      "\n",
      "-----\n",
      "Dataset: oversampled+\n",
      "Scores: [0.83142636 0.83515152 0.83369697]\n",
      "\n",
      "Mean: 0.8334249466447662\n",
      "Standard deviation: 0.0015329061255170064\n",
      "\n",
      "-----\n",
      "Dataset: oversampled-\n",
      "Scores: [0.83439271 0.82925988 0.83753819]\n",
      "\n",
      "Mean: 0.8337302586526795\n",
      "Standard deviation: 0.003411913276928968\n",
      "\n",
      "-----\n",
      "Dataset: smoted+\n",
      "Scores: [0.76078736 0.75830303 0.75646061]\n",
      "\n",
      "Mean: 0.7585169973760685\n",
      "Standard deviation: 0.0017728559222234788\n",
      "\n",
      "-----\n",
      "Dataset: smoted-\n",
      "Scores: [0.78980044 0.78303932 0.7873263 ]\n",
      "\n",
      "Mean: 0.7867220229223176\n",
      "Standard deviation: 0.002793093514993346\n"
     ]
    }
   ],
   "source": [
    "extrees = ExtraTreesClassifier(n_jobs=-1, random_state=1216)\n",
    "for key in test_sets:\n",
    "    X, y = df_splitter(datasets[key])\n",
    "    X_train, X_test, y_train, y_test = train_test_split(X, y, test_size=0.2, random_state=1216)\n",
    "    extrees_test = cross_val_score(extrees,X_train,y_train, n_jobs=-1, cv=3, scoring='accuracy') #Default cv value = 5\n",
    "    first_results.append({'model':'Extra Trees', 'dataset':key, 'score':extrees_test.mean()})\n",
    "    print(f'\\n-----\\nDataset: {key}')\n",
    "    display_scores(extrees_test)"
   ]
  },
  {
   "cell_type": "markdown",
   "id": "6df362ec-b9b1-4b13-ae3f-2dfea8556500",
   "metadata": {},
   "source": [
    "#### Random Forest"
   ]
  },
  {
   "cell_type": "code",
   "execution_count": 18,
   "id": "f5540601-92b5-46b7-9a25-6a6b75869ae4",
   "metadata": {
    "collapsed": true,
    "jupyter": {
     "outputs_hidden": true
    },
    "tags": []
   },
   "outputs": [
    {
     "name": "stdout",
     "output_type": "stream",
     "text": [
      "\n",
      "-----\n",
      "Dataset: numeric\n",
      "Scores: [0.75488245 0.75670696 0.7550855 ]\n",
      "\n",
      "Mean: 0.7555583018265367\n",
      "Standard deviation: 0.0008164410781646076\n",
      "\n",
      "-----\n",
      "Dataset: categoricals_binned\n",
      "Scores: [0.7478812  0.7499263  0.74985259]\n",
      "\n",
      "Mean: 0.7492200304343605\n",
      "Standard deviation: 0.0009471742677313469\n",
      "\n",
      "-----\n",
      "Dataset: one_hot_encoded\n",
      "Scores: [0.74471221 0.75051592 0.75014741]\n",
      "\n",
      "Mean: 0.7484585123768754\n",
      "Standard deviation: 0.002653303283560516\n",
      "\n",
      "-----\n",
      "Dataset: outliers_removed\n",
      "Scores: [0.74883895 0.75016855 0.75031838]\n",
      "\n",
      "Mean: 0.7497752930568754\n",
      "Standard deviation: 0.0006649128782569847\n",
      "\n",
      "-----\n",
      "Dataset: one_hot_encoded_rescaled\n",
      "Scores: [0.74478591 0.75051592 0.7500737 ]\n",
      "\n",
      "Mean: 0.7484585105663065\n",
      "Standard deviation: 0.002603189114267456\n",
      "\n",
      "-----\n",
      "Dataset: oversampled+\n",
      "Scores: [0.82846892 0.83612121 0.8326303 ]\n",
      "\n",
      "Mean: 0.8324068126234713\n",
      "Standard deviation: 0.003128028585296697\n",
      "\n",
      "-----\n",
      "Dataset: oversampled-\n",
      "Scores: [0.83178123 0.82743668 0.82970336]\n",
      "\n",
      "Mean: 0.8296404227649076\n",
      "Standard deviation: 0.0017742117696808272\n",
      "\n",
      "-----\n",
      "Dataset: smoted+\n",
      "Scores: [0.7717444  0.77144242 0.76901818]\n",
      "\n",
      "Mean: 0.7707350021107028\n",
      "Standard deviation: 0.0012202189197415957\n",
      "\n",
      "-----\n",
      "Dataset: smoted-\n",
      "Scores: [0.80881991 0.80314379 0.80467133]\n",
      "\n",
      "Mean: 0.8055450080498936\n",
      "Standard deviation: 0.0023982031894877556\n"
     ]
    }
   ],
   "source": [
    "rnd_clf = RandomForestClassifier(n_estimators=70,\n",
    "                                 max_leaf_nodes=None,\n",
    "                                 bootstrap=True,\n",
    "                                 oob_score=True,n_jobs = -1,\n",
    "                                 random_state = 1216)\n",
    "for key in test_sets:\n",
    "    X, y = df_splitter(datasets[key])\n",
    "    X_train, X_test, y_train, y_test = train_test_split(X, y, test_size=0.2, random_state=1216)\n",
    "    rnd_clf_test = cross_val_score(rnd_clf,X_train,y_train, n_jobs=-1, cv=3, scoring='accuracy')\n",
    "    first_results.append({'model':'Random Forest', 'dataset':key, 'score':rnd_clf_test.mean()})\n",
    "    print(f'\\n-----\\nDataset: {key}')\n",
    "    display_scores(rnd_clf_test)"
   ]
  },
  {
   "cell_type": "markdown",
   "id": "0dbe875d-9724-4124-8687-0b7cf66bb5d4",
   "metadata": {},
   "source": [
    "#### AdaBoost"
   ]
  },
  {
   "cell_type": "code",
   "execution_count": 22,
   "id": "24c60d86-9139-45da-8ac4-2518a7efb891",
   "metadata": {
    "tags": []
   },
   "outputs": [
    {
     "name": "stdout",
     "output_type": "stream",
     "text": [
      "\n",
      "-----\n",
      "Dataset: numeric\n",
      "Scores: [0.75945169 0.75980248 0.75906545]\n",
      "\n",
      "Mean: 0.7594398719611991\n",
      "Standard deviation: 0.0003010065924008337\n",
      "\n",
      "-----\n",
      "Dataset: categoricals_binned\n",
      "Scores: [0.75996757 0.75980248 0.75994988]\n",
      "\n",
      "Mean: 0.7599066438784113\n",
      "Standard deviation: 7.401075954548328e-05\n",
      "\n",
      "-----\n",
      "Dataset: one_hot_encoded\n",
      "Scores: [0.75989388 0.75980248 0.75987618]\n",
      "\n",
      "Mean: 0.7598575104688545\n",
      "Standard deviation: 3.957989254669246e-05\n",
      "\n",
      "-----\n",
      "Dataset: outliers_removed\n",
      "Scores: [0.76022472 0.76028167 0.76020676]\n",
      "\n",
      "Mean: 0.760237715066819\n",
      "Standard deviation: 3.193349830681007e-05\n",
      "\n",
      "-----\n",
      "Dataset: one_hot_encoded_rescaled\n",
      "Scores: [0.75989388 0.75980248 0.75994988]\n",
      "\n",
      "Mean: 0.7598820780789174\n",
      "Standard deviation: 6.0753578180248605e-05\n",
      "\n",
      "-----\n",
      "Dataset: oversampled+\n",
      "Scores: [0.56530592 0.56213333 0.55873939]\n",
      "\n",
      "Mean: 0.5620595506113203\n",
      "Standard deviation: 0.0026812825313568974\n",
      "\n",
      "-----\n",
      "Dataset: oversampled-\n",
      "Scores: [0.56132052 0.55627279 0.55533655]\n",
      "\n",
      "Mean: 0.5576432883196627\n",
      "Standard deviation: 0.0026281390582369975\n",
      "\n",
      "-----\n",
      "Dataset: smoted+\n",
      "Scores: [0.75787841 0.75510303 0.75471515]\n",
      "\n",
      "Mean: 0.7558988625712179\n",
      "Standard deviation: 0.0014086769958534674\n",
      "\n",
      "-----\n",
      "Dataset: smoted-\n",
      "Scores: [0.81842818 0.81630038 0.81905982]\n",
      "\n",
      "Mean: 0.8179294630895129\n",
      "Standard deviation: 0.0011804418030813039\n"
     ]
    }
   ],
   "source": [
    "ada_boost = AdaBoostClassifier(n_estimators = 500, learning_rate = 0.8, random_state = 1216)\n",
    "for key in test_sets:\n",
    "    X, y = df_splitter(datasets[key])\n",
    "    X_train, X_test, y_train, y_test = train_test_split(X, y, test_size=0.2, random_state=1216)\n",
    "    ada_boost_test = cross_val_score(ada_boost,X_train,y_train, n_jobs=-1, cv=3, scoring='accuracy')\n",
    "    first_results.append({'model':'AdaBoost', 'dataset':key, 'score':ada_boost_test.mean()})\n",
    "    print(f'\\n-----\\nDataset: {key}')\n",
    "    display_scores(ada_boost_test)"
   ]
  },
  {
   "cell_type": "markdown",
   "id": "2b87c7ac-c4cc-4b77-ad3f-218459c495d9",
   "metadata": {},
   "source": [
    "#### Visualizing the results"
   ]
  },
  {
   "cell_type": "code",
   "execution_count": 103,
   "id": "fa4a6172-2602-4c46-8254-3daa33f3def0",
   "metadata": {},
   "outputs": [
    {
     "data": {
      "text/html": [
       "<style type=\"text/css\">\n",
       "#T_3bbe6_row0_col0 {\n",
       "  background-color: #fff8f8;\n",
       "  color: #000000;\n",
       "}\n",
       "#T_3bbe6_row0_col1, #T_3bbe6_row0_col3 {\n",
       "  background-color: #f6f6ff;\n",
       "  color: #000000;\n",
       "}\n",
       "#T_3bbe6_row0_col2 {\n",
       "  background-color: #fffefe;\n",
       "  color: #000000;\n",
       "}\n",
       "#T_3bbe6_row0_col4 {\n",
       "  background-color: #f8f8ff;\n",
       "  color: #000000;\n",
       "}\n",
       "#T_3bbe6_row0_col5 {\n",
       "  background-color: #ffcece;\n",
       "  color: #000000;\n",
       "}\n",
       "#T_3bbe6_row0_col6 {\n",
       "  background-color: #ffd0d0;\n",
       "  color: #000000;\n",
       "}\n",
       "#T_3bbe6_row0_col7, #T_3bbe6_row2_col5, #T_3bbe6_row2_col6, #T_3bbe6_row2_col8, #T_3bbe6_row3_col0, #T_3bbe6_row3_col1, #T_3bbe6_row3_col2, #T_3bbe6_row3_col3, #T_3bbe6_row3_col4 {\n",
       "  background-color: #ff8e8e;\n",
       "  color: #000000;\n",
       "}\n",
       "#T_3bbe6_row0_col8 {\n",
       "  background-color: #ffeeee;\n",
       "  color: #000000;\n",
       "}\n",
       "#T_3bbe6_row1_col0, #T_3bbe6_row4_col0 {\n",
       "  background-color: #babaff;\n",
       "  color: #000000;\n",
       "}\n",
       "#T_3bbe6_row1_col1, #T_3bbe6_row1_col4, #T_3bbe6_row4_col7, #T_3bbe6_row5_col1 {\n",
       "  background-color: #b4b4ff;\n",
       "  color: #000000;\n",
       "}\n",
       "#T_3bbe6_row1_col2, #T_3bbe6_row5_col4, #T_3bbe6_row6_col7 {\n",
       "  background-color: #b6b6ff;\n",
       "  color: #000000;\n",
       "}\n",
       "#T_3bbe6_row1_col3 {\n",
       "  background-color: #e2e2ff;\n",
       "  color: #000000;\n",
       "}\n",
       "#T_3bbe6_row1_col5 {\n",
       "  background-color: #ff9292;\n",
       "  color: #000000;\n",
       "}\n",
       "#T_3bbe6_row1_col6 {\n",
       "  background-color: #ffa0a0;\n",
       "  color: #000000;\n",
       "}\n",
       "#T_3bbe6_row1_col7 {\n",
       "  background-color: #d2d2ff;\n",
       "  color: #000000;\n",
       "}\n",
       "#T_3bbe6_row1_col8 {\n",
       "  background-color: #ffe4e4;\n",
       "  color: #000000;\n",
       "}\n",
       "#T_3bbe6_row2_col0, #T_3bbe6_row2_col1, #T_3bbe6_row2_col2, #T_3bbe6_row2_col3, #T_3bbe6_row2_col4, #T_3bbe6_row4_col5, #T_3bbe6_row4_col6, #T_3bbe6_row5_col7, #T_3bbe6_row6_col8 {\n",
       "  background-color: #a2a2ff;\n",
       "  color: #f1f1f1;\n",
       "}\n",
       "#T_3bbe6_row2_col7 {\n",
       "  background-color: #ffd8d8;\n",
       "  color: #000000;\n",
       "}\n",
       "#T_3bbe6_row3_col5, #T_3bbe6_row3_col6 {\n",
       "  background-color: #cacaff;\n",
       "  color: #000000;\n",
       "}\n",
       "#T_3bbe6_row3_col7 {\n",
       "  background-color: #fff2f2;\n",
       "  color: #000000;\n",
       "}\n",
       "#T_3bbe6_row3_col8 {\n",
       "  background-color: #d6d6ff;\n",
       "  color: #000000;\n",
       "}\n",
       "#T_3bbe6_row4_col1 {\n",
       "  background-color: #c8c8ff;\n",
       "  color: #000000;\n",
       "}\n",
       "#T_3bbe6_row4_col2, #T_3bbe6_row4_col3, #T_3bbe6_row4_col4 {\n",
       "  background-color: #eaeaff;\n",
       "  color: #000000;\n",
       "}\n",
       "#T_3bbe6_row4_col8, #T_3bbe6_row5_col2, #T_3bbe6_row5_col3 {\n",
       "  background-color: #b8b8ff;\n",
       "  color: #000000;\n",
       "}\n",
       "#T_3bbe6_row5_col0 {\n",
       "  background-color: #acacff;\n",
       "  color: #000000;\n",
       "}\n",
       "#T_3bbe6_row5_col5, #T_3bbe6_row6_col0, #T_3bbe6_row6_col1, #T_3bbe6_row6_col2, #T_3bbe6_row6_col3, #T_3bbe6_row6_col4 {\n",
       "  background-color: #a4a4ff;\n",
       "  color: #000000;\n",
       "}\n",
       "#T_3bbe6_row5_col6 {\n",
       "  background-color: #a6a6ff;\n",
       "  color: #000000;\n",
       "}\n",
       "#T_3bbe6_row5_col8 {\n",
       "  background-color: #aaaaff;\n",
       "  color: #000000;\n",
       "}\n",
       "#T_3bbe6_row6_col5 {\n",
       "  background-color: #ffa8a8;\n",
       "  color: #000000;\n",
       "}\n",
       "#T_3bbe6_row6_col6 {\n",
       "  background-color: #ffaeae;\n",
       "  color: #000000;\n",
       "}\n",
       "</style>\n",
       "<table id=\"T_3bbe6\">\n",
       "  <thead>\n",
       "    <tr>\n",
       "      <th class=\"index_name level0\" >dataset</th>\n",
       "      <th id=\"T_3bbe6_level0_col0\" class=\"col_heading level0 col0\" >numeric</th>\n",
       "      <th id=\"T_3bbe6_level0_col1\" class=\"col_heading level0 col1\" >categoricals_binned</th>\n",
       "      <th id=\"T_3bbe6_level0_col2\" class=\"col_heading level0 col2\" >one_hot_encoded</th>\n",
       "      <th id=\"T_3bbe6_level0_col3\" class=\"col_heading level0 col3\" >one_hot_encoded_rescaled</th>\n",
       "      <th id=\"T_3bbe6_level0_col4\" class=\"col_heading level0 col4\" >outliers_removed</th>\n",
       "      <th id=\"T_3bbe6_level0_col5\" class=\"col_heading level0 col5\" >oversampled+</th>\n",
       "      <th id=\"T_3bbe6_level0_col6\" class=\"col_heading level0 col6\" >oversampled-</th>\n",
       "      <th id=\"T_3bbe6_level0_col7\" class=\"col_heading level0 col7\" >smoted+</th>\n",
       "      <th id=\"T_3bbe6_level0_col8\" class=\"col_heading level0 col8\" >smoted-</th>\n",
       "    </tr>\n",
       "    <tr>\n",
       "      <th class=\"index_name level0\" >model</th>\n",
       "      <th class=\"blank col0\" >&nbsp;</th>\n",
       "      <th class=\"blank col1\" >&nbsp;</th>\n",
       "      <th class=\"blank col2\" >&nbsp;</th>\n",
       "      <th class=\"blank col3\" >&nbsp;</th>\n",
       "      <th class=\"blank col4\" >&nbsp;</th>\n",
       "      <th class=\"blank col5\" >&nbsp;</th>\n",
       "      <th class=\"blank col6\" >&nbsp;</th>\n",
       "      <th class=\"blank col7\" >&nbsp;</th>\n",
       "      <th class=\"blank col8\" >&nbsp;</th>\n",
       "    </tr>\n",
       "  </thead>\n",
       "  <tbody>\n",
       "    <tr>\n",
       "      <th id=\"T_3bbe6_level0_row0\" class=\"row_heading level0 row0\" >KNN</th>\n",
       "      <td id=\"T_3bbe6_row0_col0\" class=\"data row0 col0\" >0.713107</td>\n",
       "      <td id=\"T_3bbe6_row0_col1\" class=\"data row0 col1\" >0.709446</td>\n",
       "      <td id=\"T_3bbe6_row0_col2\" class=\"data row0 col2\" >0.709421</td>\n",
       "      <td id=\"T_3bbe6_row0_col3\" class=\"data row0 col3\" >0.714826</td>\n",
       "      <td id=\"T_3bbe6_row0_col4\" class=\"data row0 col4\" >0.711671</td>\n",
       "      <td id=\"T_3bbe6_row0_col5\" class=\"data row0 col5\" >0.620337</td>\n",
       "      <td id=\"T_3bbe6_row0_col6\" class=\"data row0 col6\" >0.612765</td>\n",
       "      <td id=\"T_3bbe6_row0_col7\" class=\"data row0 col7\" >0.616281</td>\n",
       "      <td id=\"T_3bbe6_row0_col8\" class=\"data row0 col8\" >0.651036</td>\n",
       "    </tr>\n",
       "    <tr>\n",
       "      <th id=\"T_3bbe6_level0_row1\" class=\"row_heading level0 row1\" >Naive Bayes</th>\n",
       "      <td id=\"T_3bbe6_row1_col0\" class=\"data row1 col0\" >0.749122</td>\n",
       "      <td id=\"T_3bbe6_row1_col1\" class=\"data row1 col1\" >0.749859</td>\n",
       "      <td id=\"T_3bbe6_row1_col2\" class=\"data row1 col2\" >0.749367</td>\n",
       "      <td id=\"T_3bbe6_row1_col3\" class=\"data row1 col3\" >0.725169</td>\n",
       "      <td id=\"T_3bbe6_row1_col4\" class=\"data row1 col4\" >0.750774</td>\n",
       "      <td id=\"T_3bbe6_row1_col5\" class=\"data row1 col5\" >0.529834</td>\n",
       "      <td id=\"T_3bbe6_row1_col6\" class=\"data row1 col6\" >0.534287</td>\n",
       "      <td id=\"T_3bbe6_row1_col7\" class=\"data row1 col7\" >0.735228</td>\n",
       "      <td id=\"T_3bbe6_row1_col8\" class=\"data row1 col8\" >0.634644</td>\n",
       "    </tr>\n",
       "    <tr>\n",
       "      <th id=\"T_3bbe6_level0_row2\" class=\"row_heading level0 row2\" >Support Vector Machine</th>\n",
       "      <td id=\"T_3bbe6_row2_col0\" class=\"data row2 col0\" >0.760373</td>\n",
       "      <td id=\"T_3bbe6_row2_col1\" class=\"data row2 col1\" >0.760373</td>\n",
       "      <td id=\"T_3bbe6_row2_col2\" class=\"data row2 col2\" >0.760373</td>\n",
       "      <td id=\"T_3bbe6_row2_col3\" class=\"data row2 col3\" >0.760373</td>\n",
       "      <td id=\"T_3bbe6_row2_col4\" class=\"data row2 col4\" >0.760388</td>\n",
       "      <td id=\"T_3bbe6_row2_col5\" class=\"data row2 col5\" >0.523806</td>\n",
       "      <td id=\"T_3bbe6_row2_col6\" class=\"data row2 col6\" >0.506463</td>\n",
       "      <td id=\"T_3bbe6_row2_col7\" class=\"data row2 col7\" >0.671197</td>\n",
       "      <td id=\"T_3bbe6_row2_col8\" class=\"data row2 col8\" >0.505067</td>\n",
       "    </tr>\n",
       "    <tr>\n",
       "      <th id=\"T_3bbe6_level0_row3\" class=\"row_heading level0 row3\" >Decision Tree</th>\n",
       "      <td id=\"T_3bbe6_row3_col0\" class=\"data row3 col0\" >0.663186</td>\n",
       "      <td id=\"T_3bbe6_row3_col1\" class=\"data row3 col1\" >0.634320</td>\n",
       "      <td id=\"T_3bbe6_row3_col2\" class=\"data row3 col2\" >0.647979</td>\n",
       "      <td id=\"T_3bbe6_row3_col3\" class=\"data row3 col3\" >0.647906</td>\n",
       "      <td id=\"T_3bbe6_row3_col4\" class=\"data row3 col4\" >0.642878</td>\n",
       "      <td id=\"T_3bbe6_row3_col5\" class=\"data row3 col5\" >0.775583</td>\n",
       "      <td id=\"T_3bbe6_row3_col6\" class=\"data row3 col6\" >0.771874</td>\n",
       "      <td id=\"T_3bbe6_row3_col7\" class=\"data row3 col7\" >0.691771</td>\n",
       "      <td id=\"T_3bbe6_row3_col8\" class=\"data row3 col8\" >0.738548</td>\n",
       "    </tr>\n",
       "    <tr>\n",
       "      <th id=\"T_3bbe6_level0_row4\" class=\"row_heading level0 row4\" >Extra Trees</th>\n",
       "      <td id=\"T_3bbe6_row4_col0\" class=\"data row4 col0\" >0.749687</td>\n",
       "      <td id=\"T_3bbe6_row4_col1\" class=\"data row4 col1\" >0.737035</td>\n",
       "      <td id=\"T_3bbe6_row4_col2\" class=\"data row4 col2\" >0.720943</td>\n",
       "      <td id=\"T_3bbe6_row4_col3\" class=\"data row4 col3\" >0.720943</td>\n",
       "      <td id=\"T_3bbe6_row4_col4\" class=\"data row4 col4\" >0.719761</td>\n",
       "      <td id=\"T_3bbe6_row4_col5\" class=\"data row4 col5\" >0.833425</td>\n",
       "      <td id=\"T_3bbe6_row4_col6\" class=\"data row4 col6\" >0.833730</td>\n",
       "      <td id=\"T_3bbe6_row4_col7\" class=\"data row4 col7\" >0.758517</td>\n",
       "      <td id=\"T_3bbe6_row4_col8\" class=\"data row4 col8\" >0.786722</td>\n",
       "    </tr>\n",
       "    <tr>\n",
       "      <th id=\"T_3bbe6_level0_row5\" class=\"row_heading level0 row5\" >Random Forest</th>\n",
       "      <td id=\"T_3bbe6_row5_col0\" class=\"data row5 col0\" >0.755558</td>\n",
       "      <td id=\"T_3bbe6_row5_col1\" class=\"data row5 col1\" >0.749220</td>\n",
       "      <td id=\"T_3bbe6_row5_col2\" class=\"data row5 col2\" >0.748459</td>\n",
       "      <td id=\"T_3bbe6_row5_col3\" class=\"data row5 col3\" >0.748459</td>\n",
       "      <td id=\"T_3bbe6_row5_col4\" class=\"data row5 col4\" >0.749775</td>\n",
       "      <td id=\"T_3bbe6_row5_col5\" class=\"data row5 col5\" >0.832407</td>\n",
       "      <td id=\"T_3bbe6_row5_col6\" class=\"data row5 col6\" >0.829640</td>\n",
       "      <td id=\"T_3bbe6_row5_col7\" class=\"data row5 col7\" >0.770735</td>\n",
       "      <td id=\"T_3bbe6_row5_col8\" class=\"data row5 col8\" >0.805545</td>\n",
       "    </tr>\n",
       "    <tr>\n",
       "      <th id=\"T_3bbe6_level0_row6\" class=\"row_heading level0 row6\" >AdaBoost</th>\n",
       "      <td id=\"T_3bbe6_row6_col0\" class=\"data row6 col0\" >0.759440</td>\n",
       "      <td id=\"T_3bbe6_row6_col1\" class=\"data row6 col1\" >0.759907</td>\n",
       "      <td id=\"T_3bbe6_row6_col2\" class=\"data row6 col2\" >0.759858</td>\n",
       "      <td id=\"T_3bbe6_row6_col3\" class=\"data row6 col3\" >0.759882</td>\n",
       "      <td id=\"T_3bbe6_row6_col4\" class=\"data row6 col4\" >0.760238</td>\n",
       "      <td id=\"T_3bbe6_row6_col5\" class=\"data row6 col5\" >0.562060</td>\n",
       "      <td id=\"T_3bbe6_row6_col6\" class=\"data row6 col6\" >0.557643</td>\n",
       "      <td id=\"T_3bbe6_row6_col7\" class=\"data row6 col7\" >0.755899</td>\n",
       "      <td id=\"T_3bbe6_row6_col8\" class=\"data row6 col8\" >0.817929</td>\n",
       "    </tr>\n",
       "  </tbody>\n",
       "</table>\n"
      ],
      "text/plain": [
       "<pandas.io.formats.style.Styler at 0x14affc9b910>"
      ]
     },
     "execution_count": 103,
     "metadata": {},
     "output_type": "execute_result"
    }
   ],
   "source": [
    "results = first_results\n",
    "results = pd.DataFrame(results)\n",
    "results = results.pivot(index='model', columns = 'dataset', values = 'score')\n",
    "results = results.reindex(columns= [ 'numeric','categoricals_binned','one_hot_encoded','one_hot_encoded_rescaled','outliers_removed','oversampled+','oversampled-','smoted+','smoted-'])\n",
    "results = results.reindex(['KNN', 'Naive Bayes', 'Support Vector Machine', 'Decision Tree', 'Extra Trees', 'Random Forest', 'AdaBoost'])\n",
    "results.style.background_gradient(cmap='bwr_r', low=0.7, high=0.8, axis=0)"
   ]
  },
  {
   "cell_type": "markdown",
   "id": "b0643103-83d8-4496-b6d7-c649deb4a5b3",
   "metadata": {},
   "source": [
    "### Improving the models"
   ]
  },
  {
   "cell_type": "markdown",
   "id": "ea4bb508-55e8-476f-9a3c-92abbcba02eb",
   "metadata": {},
   "source": [
    "Reanalizing the best models"
   ]
  },
  {
   "cell_type": "markdown",
   "id": "bdeaad9a-cb41-46c0-a699-cec67e211acf",
   "metadata": {},
   "source": [
    "#### Extra Trees 1\n",
    "'oversampled-' dataset"
   ]
  },
  {
   "cell_type": "code",
   "execution_count": 104,
   "id": "d6d6c16a-9dc5-4ffd-b824-ebc964762929",
   "metadata": {},
   "outputs": [],
   "source": [
    "#Preparing the classifier\n",
    "extra_tree = ExtraTreesClassifier(random_state=1216, n_jobs = -1)\n",
    "X, y = df_splitter(datasets['oversampled-'])\n",
    "X_train, X_test, y_train, y_test = train_test_split(X, y, test_size=0.2, random_state=1216)"
   ]
  },
  {
   "cell_type": "code",
   "execution_count": 127,
   "id": "55a7d81c-dbd0-4255-b3d4-6a80ea644c34",
   "metadata": {},
   "outputs": [],
   "source": [
    "#Setting the parameters for the grid search\n",
    "#min_samples_split = np.array([2,3,4,5])\n",
    "#max_depth = np.array([3,7,11,None])\n",
    "#max_leaf_nodes = np.array([2,3,None])\n",
    "min_samples_split = np.array([4,5])\n",
    "max_depth = np.array([11,None])\n",
    "max_leaf_nodes = np.array([None])\n",
    "values_grid = {'min_samples_split': min_samples_split, 'max_depth': max_depth, 'max_leaf_nodes':max_leaf_nodes}"
   ]
  },
  {
   "cell_type": "code",
   "execution_count": 134,
   "id": "4d2373c1-800f-4272-98bb-28a95b46a9d3",
   "metadata": {},
   "outputs": [],
   "source": [
    "gridDecisionTree = GridSearchCV(estimator = extra_tree,\n",
    "                                param_grid = values_grid,\n",
    "                                cv = 2, verbose = 3,\n",
    "                                scoring='accuracy',\n",
    "                                pre_dispatch=-1)"
   ]
  },
  {
   "cell_type": "code",
   "execution_count": 135,
   "id": "417452b6-f792-480a-8629-eb4a01d72c75",
   "metadata": {},
   "outputs": [
    {
     "name": "stdout",
     "output_type": "stream",
     "text": [
      "Fitting 2 folds for each of 4 candidates, totalling 8 fits\n",
      "[CV 1/2] END max_depth=11, max_leaf_nodes=None, min_samples_split=4;, score=0.630 total time=   2.1s\n",
      "[CV 2/2] END max_depth=11, max_leaf_nodes=None, min_samples_split=4;, score=0.619 total time=   0.8s\n",
      "[CV 1/2] END max_depth=11, max_leaf_nodes=None, min_samples_split=5;, score=0.630 total time=   0.9s\n",
      "[CV 2/2] END max_depth=11, max_leaf_nodes=None, min_samples_split=5;, score=0.615 total time=   0.9s\n",
      "[CV 1/2] END max_depth=None, max_leaf_nodes=None, min_samples_split=4;, score=0.773 total time=   2.1s\n",
      "[CV 2/2] END max_depth=None, max_leaf_nodes=None, min_samples_split=4;, score=0.777 total time=   2.4s\n",
      "[CV 1/2] END max_depth=None, max_leaf_nodes=None, min_samples_split=5;, score=0.767 total time=   2.0s\n",
      "[CV 2/2] END max_depth=None, max_leaf_nodes=None, min_samples_split=5;, score=0.768 total time=   2.0s\n"
     ]
    },
    {
     "data": {
      "text/html": [
       "<style>#sk-container-id-5 {color: black;background-color: white;}#sk-container-id-5 pre{padding: 0;}#sk-container-id-5 div.sk-toggleable {background-color: white;}#sk-container-id-5 label.sk-toggleable__label {cursor: pointer;display: block;width: 100%;margin-bottom: 0;padding: 0.3em;box-sizing: border-box;text-align: center;}#sk-container-id-5 label.sk-toggleable__label-arrow:before {content: \"▸\";float: left;margin-right: 0.25em;color: #696969;}#sk-container-id-5 label.sk-toggleable__label-arrow:hover:before {color: black;}#sk-container-id-5 div.sk-estimator:hover label.sk-toggleable__label-arrow:before {color: black;}#sk-container-id-5 div.sk-toggleable__content {max-height: 0;max-width: 0;overflow: hidden;text-align: left;background-color: #f0f8ff;}#sk-container-id-5 div.sk-toggleable__content pre {margin: 0.2em;color: black;border-radius: 0.25em;background-color: #f0f8ff;}#sk-container-id-5 input.sk-toggleable__control:checked~div.sk-toggleable__content {max-height: 200px;max-width: 100%;overflow: auto;}#sk-container-id-5 input.sk-toggleable__control:checked~label.sk-toggleable__label-arrow:before {content: \"▾\";}#sk-container-id-5 div.sk-estimator input.sk-toggleable__control:checked~label.sk-toggleable__label {background-color: #d4ebff;}#sk-container-id-5 div.sk-label input.sk-toggleable__control:checked~label.sk-toggleable__label {background-color: #d4ebff;}#sk-container-id-5 input.sk-hidden--visually {border: 0;clip: rect(1px 1px 1px 1px);clip: rect(1px, 1px, 1px, 1px);height: 1px;margin: -1px;overflow: hidden;padding: 0;position: absolute;width: 1px;}#sk-container-id-5 div.sk-estimator {font-family: monospace;background-color: #f0f8ff;border: 1px dotted black;border-radius: 0.25em;box-sizing: border-box;margin-bottom: 0.5em;}#sk-container-id-5 div.sk-estimator:hover {background-color: #d4ebff;}#sk-container-id-5 div.sk-parallel-item::after {content: \"\";width: 100%;border-bottom: 1px solid gray;flex-grow: 1;}#sk-container-id-5 div.sk-label:hover label.sk-toggleable__label {background-color: #d4ebff;}#sk-container-id-5 div.sk-serial::before {content: \"\";position: absolute;border-left: 1px solid gray;box-sizing: border-box;top: 0;bottom: 0;left: 50%;z-index: 0;}#sk-container-id-5 div.sk-serial {display: flex;flex-direction: column;align-items: center;background-color: white;padding-right: 0.2em;padding-left: 0.2em;position: relative;}#sk-container-id-5 div.sk-item {position: relative;z-index: 1;}#sk-container-id-5 div.sk-parallel {display: flex;align-items: stretch;justify-content: center;background-color: white;position: relative;}#sk-container-id-5 div.sk-item::before, #sk-container-id-5 div.sk-parallel-item::before {content: \"\";position: absolute;border-left: 1px solid gray;box-sizing: border-box;top: 0;bottom: 0;left: 50%;z-index: -1;}#sk-container-id-5 div.sk-parallel-item {display: flex;flex-direction: column;z-index: 1;position: relative;background-color: white;}#sk-container-id-5 div.sk-parallel-item:first-child::after {align-self: flex-end;width: 50%;}#sk-container-id-5 div.sk-parallel-item:last-child::after {align-self: flex-start;width: 50%;}#sk-container-id-5 div.sk-parallel-item:only-child::after {width: 0;}#sk-container-id-5 div.sk-dashed-wrapped {border: 1px dashed gray;margin: 0 0.4em 0.5em 0.4em;box-sizing: border-box;padding-bottom: 0.4em;background-color: white;}#sk-container-id-5 div.sk-label label {font-family: monospace;font-weight: bold;display: inline-block;line-height: 1.2em;}#sk-container-id-5 div.sk-label-container {text-align: center;}#sk-container-id-5 div.sk-container {/* jupyter's `normalize.less` sets `[hidden] { display: none; }` but bootstrap.min.css set `[hidden] { display: none !important; }` so we also need the `!important` here to be able to override the default hidden behavior on the sphinx rendered scikit-learn.org. See: https://github.com/scikit-learn/scikit-learn/issues/21755 */display: inline-block !important;position: relative;}#sk-container-id-5 div.sk-text-repr-fallback {display: none;}</style><div id=\"sk-container-id-5\" class=\"sk-top-container\"><div class=\"sk-text-repr-fallback\"><pre>GridSearchCV(cv=2, estimator=ExtraTreesClassifier(n_jobs=-1, random_state=1216),\n",
       "             param_grid={&#x27;max_depth&#x27;: array([11, None], dtype=object),\n",
       "                         &#x27;max_leaf_nodes&#x27;: array([None], dtype=object),\n",
       "                         &#x27;min_samples_split&#x27;: array([4, 5])},\n",
       "             pre_dispatch=-1, scoring=&#x27;accuracy&#x27;, verbose=3)</pre><b>In a Jupyter environment, please rerun this cell to show the HTML representation or trust the notebook. <br />On GitHub, the HTML representation is unable to render, please try loading this page with nbviewer.org.</b></div><div class=\"sk-container\" hidden><div class=\"sk-item sk-dashed-wrapped\"><div class=\"sk-label-container\"><div class=\"sk-label sk-toggleable\"><input class=\"sk-toggleable__control sk-hidden--visually\" id=\"sk-estimator-id-13\" type=\"checkbox\" ><label for=\"sk-estimator-id-13\" class=\"sk-toggleable__label sk-toggleable__label-arrow\">GridSearchCV</label><div class=\"sk-toggleable__content\"><pre>GridSearchCV(cv=2, estimator=ExtraTreesClassifier(n_jobs=-1, random_state=1216),\n",
       "             param_grid={&#x27;max_depth&#x27;: array([11, None], dtype=object),\n",
       "                         &#x27;max_leaf_nodes&#x27;: array([None], dtype=object),\n",
       "                         &#x27;min_samples_split&#x27;: array([4, 5])},\n",
       "             pre_dispatch=-1, scoring=&#x27;accuracy&#x27;, verbose=3)</pre></div></div></div><div class=\"sk-parallel\"><div class=\"sk-parallel-item\"><div class=\"sk-item\"><div class=\"sk-label-container\"><div class=\"sk-label sk-toggleable\"><input class=\"sk-toggleable__control sk-hidden--visually\" id=\"sk-estimator-id-14\" type=\"checkbox\" ><label for=\"sk-estimator-id-14\" class=\"sk-toggleable__label sk-toggleable__label-arrow\">estimator: ExtraTreesClassifier</label><div class=\"sk-toggleable__content\"><pre>ExtraTreesClassifier(n_jobs=-1, random_state=1216)</pre></div></div></div><div class=\"sk-serial\"><div class=\"sk-item\"><div class=\"sk-estimator sk-toggleable\"><input class=\"sk-toggleable__control sk-hidden--visually\" id=\"sk-estimator-id-15\" type=\"checkbox\" ><label for=\"sk-estimator-id-15\" class=\"sk-toggleable__label sk-toggleable__label-arrow\">ExtraTreesClassifier</label><div class=\"sk-toggleable__content\"><pre>ExtraTreesClassifier(n_jobs=-1, random_state=1216)</pre></div></div></div></div></div></div></div></div></div></div>"
      ],
      "text/plain": [
       "GridSearchCV(cv=2, estimator=ExtraTreesClassifier(n_jobs=-1, random_state=1216),\n",
       "             param_grid={'max_depth': array([11, None], dtype=object),\n",
       "                         'max_leaf_nodes': array([None], dtype=object),\n",
       "                         'min_samples_split': array([4, 5])},\n",
       "             pre_dispatch=-1, scoring='accuracy', verbose=3)"
      ]
     },
     "execution_count": 135,
     "metadata": {},
     "output_type": "execute_result"
    }
   ],
   "source": [
    "gridDecisionTree.fit(X_train, y_train)"
   ]
  },
  {
   "cell_type": "markdown",
   "id": "272c5843-72c4-4e9f-904e-95947ec5f134",
   "metadata": {},
   "source": [
    "#### Extra Trees 2\n",
    "'oversampled+' dataset"
   ]
  },
  {
   "cell_type": "code",
   "execution_count": 56,
   "id": "f27d3429-0815-4502-a6d9-00cc82fed391",
   "metadata": {},
   "outputs": [
    {
     "data": {
      "text/plain": [
       "array([2, 3, 4, None], dtype=object)"
      ]
     },
     "execution_count": 56,
     "metadata": {},
     "output_type": "execute_result"
    }
   ],
   "source": [
    "#Preparing the classifier\n",
    "extra_tree = ExtraTreesClassifier(random_state=1216)\n",
    "X, y = df_splitter(datasets['oversampled+'])\n",
    "X_train, X_test, y_train, y_test = train_test_split(X, y, test_size=0.2, random_state=1216)"
   ]
  },
  {
   "cell_type": "code",
   "execution_count": null,
   "id": "e57398af-c130-4b3a-9b38-0b1ac8f256d0",
   "metadata": {},
   "outputs": [],
   "source": [
    "\n",
    "\n",
    "\n",
    "\n"
   ]
  },
  {
   "cell_type": "code",
   "execution_count": 50,
   "id": "2a29cb5a-a510-46b1-8eeb-80b6e900f735",
   "metadata": {},
   "outputs": [
    {
     "data": {
      "text/html": [
       "<style>#sk-container-id-1 {color: black;background-color: white;}#sk-container-id-1 pre{padding: 0;}#sk-container-id-1 div.sk-toggleable {background-color: white;}#sk-container-id-1 label.sk-toggleable__label {cursor: pointer;display: block;width: 100%;margin-bottom: 0;padding: 0.3em;box-sizing: border-box;text-align: center;}#sk-container-id-1 label.sk-toggleable__label-arrow:before {content: \"▸\";float: left;margin-right: 0.25em;color: #696969;}#sk-container-id-1 label.sk-toggleable__label-arrow:hover:before {color: black;}#sk-container-id-1 div.sk-estimator:hover label.sk-toggleable__label-arrow:before {color: black;}#sk-container-id-1 div.sk-toggleable__content {max-height: 0;max-width: 0;overflow: hidden;text-align: left;background-color: #f0f8ff;}#sk-container-id-1 div.sk-toggleable__content pre {margin: 0.2em;color: black;border-radius: 0.25em;background-color: #f0f8ff;}#sk-container-id-1 input.sk-toggleable__control:checked~div.sk-toggleable__content {max-height: 200px;max-width: 100%;overflow: auto;}#sk-container-id-1 input.sk-toggleable__control:checked~label.sk-toggleable__label-arrow:before {content: \"▾\";}#sk-container-id-1 div.sk-estimator input.sk-toggleable__control:checked~label.sk-toggleable__label {background-color: #d4ebff;}#sk-container-id-1 div.sk-label input.sk-toggleable__control:checked~label.sk-toggleable__label {background-color: #d4ebff;}#sk-container-id-1 input.sk-hidden--visually {border: 0;clip: rect(1px 1px 1px 1px);clip: rect(1px, 1px, 1px, 1px);height: 1px;margin: -1px;overflow: hidden;padding: 0;position: absolute;width: 1px;}#sk-container-id-1 div.sk-estimator {font-family: monospace;background-color: #f0f8ff;border: 1px dotted black;border-radius: 0.25em;box-sizing: border-box;margin-bottom: 0.5em;}#sk-container-id-1 div.sk-estimator:hover {background-color: #d4ebff;}#sk-container-id-1 div.sk-parallel-item::after {content: \"\";width: 100%;border-bottom: 1px solid gray;flex-grow: 1;}#sk-container-id-1 div.sk-label:hover label.sk-toggleable__label {background-color: #d4ebff;}#sk-container-id-1 div.sk-serial::before {content: \"\";position: absolute;border-left: 1px solid gray;box-sizing: border-box;top: 0;bottom: 0;left: 50%;z-index: 0;}#sk-container-id-1 div.sk-serial {display: flex;flex-direction: column;align-items: center;background-color: white;padding-right: 0.2em;padding-left: 0.2em;position: relative;}#sk-container-id-1 div.sk-item {position: relative;z-index: 1;}#sk-container-id-1 div.sk-parallel {display: flex;align-items: stretch;justify-content: center;background-color: white;position: relative;}#sk-container-id-1 div.sk-item::before, #sk-container-id-1 div.sk-parallel-item::before {content: \"\";position: absolute;border-left: 1px solid gray;box-sizing: border-box;top: 0;bottom: 0;left: 50%;z-index: -1;}#sk-container-id-1 div.sk-parallel-item {display: flex;flex-direction: column;z-index: 1;position: relative;background-color: white;}#sk-container-id-1 div.sk-parallel-item:first-child::after {align-self: flex-end;width: 50%;}#sk-container-id-1 div.sk-parallel-item:last-child::after {align-self: flex-start;width: 50%;}#sk-container-id-1 div.sk-parallel-item:only-child::after {width: 0;}#sk-container-id-1 div.sk-dashed-wrapped {border: 1px dashed gray;margin: 0 0.4em 0.5em 0.4em;box-sizing: border-box;padding-bottom: 0.4em;background-color: white;}#sk-container-id-1 div.sk-label label {font-family: monospace;font-weight: bold;display: inline-block;line-height: 1.2em;}#sk-container-id-1 div.sk-label-container {text-align: center;}#sk-container-id-1 div.sk-container {/* jupyter's `normalize.less` sets `[hidden] { display: none; }` but bootstrap.min.css set `[hidden] { display: none !important; }` so we also need the `!important` here to be able to override the default hidden behavior on the sphinx rendered scikit-learn.org. See: https://github.com/scikit-learn/scikit-learn/issues/21755 */display: inline-block !important;position: relative;}#sk-container-id-1 div.sk-text-repr-fallback {display: none;}</style><div id=\"sk-container-id-1\" class=\"sk-top-container\"><div class=\"sk-text-repr-fallback\"><pre>ExtraTreesClassifier(random_state=1216)</pre><b>In a Jupyter environment, please rerun this cell to show the HTML representation or trust the notebook. <br />On GitHub, the HTML representation is unable to render, please try loading this page with nbviewer.org.</b></div><div class=\"sk-container\" hidden><div class=\"sk-item\"><div class=\"sk-estimator sk-toggleable\"><input class=\"sk-toggleable__control sk-hidden--visually\" id=\"sk-estimator-id-1\" type=\"checkbox\" checked><label for=\"sk-estimator-id-1\" class=\"sk-toggleable__label sk-toggleable__label-arrow\">ExtraTreesClassifier</label><div class=\"sk-toggleable__content\"><pre>ExtraTreesClassifier(random_state=1216)</pre></div></div></div></div></div>"
      ],
      "text/plain": [
       "ExtraTreesClassifier(random_state=1216)"
      ]
     },
     "execution_count": 50,
     "metadata": {},
     "output_type": "execute_result"
    }
   ],
   "source": [
    "#Testing the oversampled- dataset first\n",
    "extra_tree = ExtraTreesClassifier(random_state=1216)\n",
    "\n",
    "xtrees.fit(X_train,y_train)"
   ]
  },
  {
   "cell_type": "code",
   "execution_count": 52,
   "id": "5840bd2c-c013-43fa-b103-9a38b0acb029",
   "metadata": {},
   "outputs": [
    {
     "name": "stderr",
     "output_type": "stream",
     "text": [
      "C:\\Users\\Guilherme\\AppData\\Roaming\\Python\\Python310\\site-packages\\sklearn\\base.py:450: UserWarning: X does not have valid feature names, but ExtraTreesClassifier was fitted with feature names\n",
      "  warnings.warn(\n"
     ]
    },
    {
     "data": {
      "text/plain": [
       "0.9048682740950004"
      ]
     },
     "execution_count": 52,
     "metadata": {},
     "output_type": "execute_result"
    },
    {
     "data": {
      "image/png": "[encoded data removed]",
      "text/plain": [
       "<Figure size 576x396 with 1 Axes>"
      ]
     },
     "metadata": {},
     "output_type": "display_data"
    }
   ],
   "source": [
    "predictions = xtrees.predict(X_test)\n",
    "confusion = confusion_matrix(y_test, predictions)\n",
    "cm = ConfusionMatrix(xtrees)\n",
    "cm.fit(X_train, y_train)\n",
    "cm.score(X_test, y_test)"
   ]
  },
  {
   "cell_type": "code",
   "execution_count": null,
   "id": "231ea5f2-f422-4e83-a645-aaf7d6a75bf0",
   "metadata": {},
   "outputs": [],
   "source": []
  },
  {
   "cell_type": "code",
   "execution_count": null,
   "id": "acb71939-20c0-416a-b712-bcbf80643129",
   "metadata": {},
   "outputs": [],
   "source": []
  },
  {
   "cell_type": "code",
   "execution_count": null,
   "id": "89285583-6590-4d0a-9183-a5ed26982c87",
   "metadata": {},
   "outputs": [],
   "source": [
    "naive_bayes = GaussianNB()\n",
    "naive_bayes.fit(X_train, y_train)"
   ]
  },
  {
   "cell_type": "code",
   "execution_count": null,
   "id": "db3eaef3-39fa-4944-84a5-4b7ddb4b0907",
   "metadata": {},
   "outputs": [],
   "source": [
    "\n",
    "\n",
    "for key in test_sets:\n",
    "    X, y = df_splitter(datasets[key])\n",
    "    X_train, X_test, y_train, y_test = train_test_split(X, y, test_size=0.2, random_state=1216)\n",
    "    extrees_test = cross_val_score(extrees,X_train,y_train, n_jobs=-1, cv=3, scoring='accuracy') #Default cv value = 5\n",
    "    first_results.append({'model':'Extra Trees', 'dataset':key, 'score':extrees_test.mean()})\n",
    "    print(f'\\n-----\\nDataset: {key}')\n",
    "    display_scores(extrees_test)\n",
    "    \n",
    "    (*, criterion='gini', splitter='random', max_depth=None, min_samples_split=2, min_samples_leaf=1, min_weight_fraction_leaf=0.0, max_features='sqrt',\n",
    "     random_state=None, max_leaf_nodes=None, min_impurity_decrease=0.0, class_weight=None, ccp_alpha=0.0)"
   ]
  },
  {
   "cell_type": "code",
   "execution_count": null,
   "id": "dee6f0f4-da31-4590-b429-81a542e556ff",
   "metadata": {},
   "outputs": [],
   "source": []
  },
  {
   "cell_type": "code",
   "execution_count": null,
   "id": "134e4f37-ac37-41f3-8b1d-66635c14beda",
   "metadata": {},
   "outputs": [],
   "source": []
  },
  {
   "cell_type": "code",
   "execution_count": null,
   "id": "a5a44441-2aa4-4dff-83f0-45eca8f0d2c1",
   "metadata": {},
   "outputs": [],
   "source": []
  },
  {
   "cell_type": "code",
   "execution_count": null,
   "id": "2fa97928-07e7-4aaa-a668-f089574f64bf",
   "metadata": {},
   "outputs": [],
   "source": [
    "a"
   ]
  },
  {
   "cell_type": "code",
   "execution_count": null,
   "id": "1f8d74c1-b95f-4df4-84d1-c71d852a18c2",
   "metadata": {},
   "outputs": [],
   "source": []
  },
  {
   "cell_type": "code",
   "execution_count": null,
   "id": "19394597-4704-4545-a5c9-fd4bc0f19afe",
   "metadata": {},
   "outputs": [],
   "source": []
  },
  {
   "cell_type": "code",
   "execution_count": null,
   "id": "89fb94f5-5651-4eaa-bcce-b58cd86437fc",
   "metadata": {},
   "outputs": [],
   "source": []
  },
  {
   "cell_type": "markdown",
   "id": "cb5c127d-7dd6-436a-916e-96af5c30a128",
   "metadata": {},
   "source": [
    "#### Random Forest"
   ]
  },
  {
   "cell_type": "code",
   "execution_count": null,
   "id": "1fe2750b-49a9-4c84-a790-734e332cab52",
   "metadata": {},
   "outputs": [],
   "source": []
  },
  {
   "cell_type": "markdown",
   "id": "c0bc7588-b390-4e68-9131-2bf0380c8ff7",
   "metadata": {},
   "source": [
    "#### Adaboost"
   ]
  },
  {
   "cell_type": "markdown",
   "id": "bc6f617c-f83d-4333-8475-8f65163db779",
   "metadata": {},
   "source": [
    "Extra trees - oversampled+ e -\n",
    "Random Forest - oversampled +-\n",
    "adaboost - smote-\n",
    "\n"
   ]
  }
 ],
 "metadata": {
  "kernelspec": {
   "display_name": "Python 3 (ipykernel)",
   "language": "python",
   "name": "python3"
  },
  "language_info": {
   "codemirror_mode": {
    "name": "ipython",
    "version": 3
   },
   "file_extension": ".py",
   "mimetype": "text/x-python",
   "name": "python",
   "nbconvert_exporter": "python",
   "pygments_lexer": "ipython3",
   "version": "3.10.5"
  },
  "widgets": {
   "application/vnd.jupyter.widget-state+json": {
    "state": {},
    "version_major": 2,
    "version_minor": 0
   }
  }
 },
 "nbformat": 4,
 "nbformat_minor": 5
}
