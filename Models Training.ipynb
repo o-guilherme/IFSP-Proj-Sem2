{
 "cells": [
  {
   "cell_type": "markdown",
   "id": "f2c3ea53-2a75-4552-9866-caa192c62786",
   "metadata": {},
   "source": [
    "# Training and comparison\n",
    "\n",
    "Objective: Trainining of multiple models using the data and comparison of the results"
   ]
  },
  {
   "cell_type": "code",
   "execution_count": 92,
   "id": "30de7b8c-7198-4347-b6c4-c0f93861f8d2",
   "metadata": {},
   "outputs": [],
   "source": [
    "#Importing most used modules\n",
    "import numpy as np\n",
    "import pandas as pd\n",
    "import seaborn as sns\n",
    "import matplotlib.pyplot as plt\n",
    "import phik\n",
    "sns.set_palette('viridis')\n",
    "from imblearn.over_sampling import RandomOverSampler\n",
    "from sklearn.metrics import accuracy_score, confusion_matrix, classification_report\n",
    "from yellowbrick.classifier import ConfusionMatrix\n",
    "from sklearn.tree import DecisionTreeClassifier\n",
    "from sklearn.metrics import mean_absolute_error, mean_squared_error, r2_score\n",
    "from sklearn import metrics\n",
    "from sklearn.model_selection import cross_val_score\n",
    "from sklearn.neighbors import KNeighborsClassifier \n",
    "from sklearn.ensemble import RandomForestClassifier\n",
    "from sklearn.model_selection import train_test_split\n",
    "from sklearn.naive_bayes import GaussianNB\n",
    "from sklearn.svm import SVC"
   ]
  },
  {
   "cell_type": "markdown",
   "id": "6f29ccf1-cc09-4ec0-87ad-57b01dfa19ef",
   "metadata": {},
   "source": [
    "Loading the datasets"
   ]
  },
  {
   "cell_type": "code",
   "execution_count": 27,
   "id": "bf285216-6f3f-4911-b727-6756e34c0c39",
   "metadata": {},
   "outputs": [],
   "source": [
    "#Loading the datasets\n",
    "test_sets = ['numeric','categoricals_binned','one_hot_encoded','outliers_removed',\n",
    "             'one_hot_encoded_rescaled','oversampled+','oversampled-','smoted+','smoted-']\n",
    "datasets = {}\n",
    "for key in test_sets:\n",
    "    datasets[key] = pd.read_csv(f'datasets/{key}.csv')"
   ]
  },
  {
   "cell_type": "code",
   "execution_count": 47,
   "id": "ef5383a6-62f1-4d98-a4cd-fa01b62a27cc",
   "metadata": {},
   "outputs": [],
   "source": [
    "#Defining the X,y spliter for ease of use\n",
    "def df_splitter(dataset, target = 'Response'):\n",
    "    X = dataset.drop(columns=[target])\n",
    "    y = dataset[target].values\n",
    "    return X, y"
   ]
  },
  {
   "cell_type": "code",
   "execution_count": 29,
   "id": "f6a32e0e-3dd0-4cde-b2be-78ce6d94e5d6",
   "metadata": {},
   "outputs": [],
   "source": [
    "# Defining the printing function\n",
    "def display_scores(scores):\n",
    "    print(\"Scores:\", scores)\n",
    "    print(\"\\nMean:\", scores.mean())\n",
    "    print(\"Standard deviation:\", scores.std())"
   ]
  },
  {
   "cell_type": "markdown",
   "id": "bbabe4b6-2471-4eca-9dcf-84cbfbef9c3e",
   "metadata": {},
   "source": [
    "## Models"
   ]
  },
  {
   "cell_type": "markdown",
   "id": "51fb0cb6-5559-4a9f-a508-b76638bba269",
   "metadata": {},
   "source": [
    "## Preliminary tests\n",
    "Since we have some datasets options, we will try a first run of the models so we can choose a model to try improving the hyperparameters."
   ]
  },
  {
   "cell_type": "code",
   "execution_count": 82,
   "id": "a8caa259-2e57-4dee-bebb-13f3172b63b0",
   "metadata": {},
   "outputs": [],
   "source": [
    "first_results = []"
   ]
  },
  {
   "cell_type": "markdown",
   "id": "eec08998-e568-49ae-94e3-d69830bc0ee1",
   "metadata": {},
   "source": [
    "#### K-Neighbors Classifier"
   ]
  },
  {
   "cell_type": "code",
   "execution_count": 60,
   "id": "5e1f4ea0-a977-41d0-ac8e-9d5616c0f5fe",
   "metadata": {},
   "outputs": [
    {
     "name": "stdout",
     "output_type": "stream",
     "text": [
      "\n",
      "-----\n",
      "Dataset: numeric\n",
      "Scores: [0.75421918 0.75803361 0.75552771]\n",
      "\n",
      "Mean: 0.7559268322726007\n",
      "Standard deviation: 0.0015826025552473936\n",
      "\n",
      "-----\n",
      "Dataset: categoricals_binned\n",
      "Scores: [0.74891296 0.75058962 0.74985259]\n",
      "\n",
      "Mean: 0.7497850601178416\n",
      "Standard deviation: 0.000686157042040265\n",
      "\n",
      "-----\n",
      "Dataset: one_hot_encoded\n",
      "Scores: [0.74847078 0.75117925 0.7500737 ]\n",
      "\n",
      "Mean: 0.7499079090315698\n",
      "Standard deviation: 0.0011119241923675974\n",
      "\n",
      "-----\n",
      "Dataset: outliers_removed\n",
      "Scores: [0.75093633 0.75054311 0.7498689 ]\n",
      "\n",
      "Mean: 0.7504494484897847\n",
      "Standard deviation: 0.0004407788139344932\n",
      "\n",
      "-----\n",
      "Dataset: one_hot_encoded_rescaled\n",
      "Scores: [0.74847078 0.75117925 0.7500737 ]\n",
      "\n",
      "Mean: 0.7499079090315698\n",
      "Standard deviation: 0.0011119241923675974\n",
      "\n",
      "-----\n",
      "Dataset: oversampled+\n",
      "Scores: [0.8315718  0.83563636 0.83292121]\n",
      "\n",
      "Mean: 0.8333764594456149\n",
      "Standard deviation: 0.00169028631529191\n",
      "\n",
      "-----\n",
      "Dataset: oversampled-\n",
      "Scores: [0.83114068 0.83078742 0.83290628]\n",
      "\n",
      "Mean: 0.831611459205101\n",
      "Standard deviation: 0.000926863045997699\n",
      "\n",
      "-----\n",
      "Dataset: smoted+\n",
      "Scores: [0.77552604 0.77406061 0.7721697 ]\n",
      "\n",
      "Mean: 0.7739187793772105\n",
      "Standard deviation: 0.0013738844006570452\n",
      "\n",
      "-----\n",
      "Dataset: smoted-\n",
      "Scores: [0.81019956 0.8043264  0.8063467 ]\n",
      "\n",
      "Mean: 0.8069575539641184\n",
      "Standard deviation: 0.0024363004928029696\n"
     ]
    }
   ],
   "source": [
    "knn_clf = KNeighborsClassifier(n_neighbors=5, n_jobs = -1)\n",
    "for key in test_sets:\n",
    "    X, y = df_splitter(datasets[key])\n",
    "    X_train, X_test, y_train, y_test = train_test_split(X, y, test_size=0.2, random_state=1216)\n",
    "    knn_test = cross_val_score(rnd_clf,X_train,y_train, n_jobs=-1, cv=3, scoring='accuracy') #Default cv value = 5\n",
    "    first_results.append({'model':'KNN', 'dataset':key, 'score':knn_test.mean()})\n",
    "    print(f'\\n-----\\nDataset: {key}')\n",
    "    display_scores(knn_test)"
   ]
  },
  {
   "cell_type": "markdown",
   "id": "6d451f17-cf9e-45e5-94f5-173b078d90ef",
   "metadata": {},
   "source": [
    "#### Naive Bayes (Gaussian)"
   ]
  },
  {
   "cell_type": "code",
   "execution_count": 89,
   "id": "3392e106-2f19-4f8c-b507-577081322b47",
   "metadata": {},
   "outputs": [
    {
     "name": "stdout",
     "output_type": "stream",
     "text": [
      "\n",
      "-----\n",
      "Dataset: numeric\n",
      "Scores: [0.75827253 0.74447229 0.74572524]\n",
      "\n",
      "Mean: 0.7494900188548305\n",
      "Standard deviation: 0.006231205635468579\n",
      "\n",
      "-----\n",
      "Dataset: categoricals_binned\n",
      "Scores: [0.75893581 0.7446934  0.74579894]\n",
      "\n",
      "Mean: 0.7498093814905276\n",
      "Standard deviation: 0.006469122716941241\n",
      "\n",
      "-----\n",
      "Dataset: one_hot_encoded\n",
      "Scores: [0.75849363 0.74439858 0.74498821]\n",
      "\n",
      "Mean: 0.7492934725426205\n",
      "Standard deviation: 0.006509942143090918\n",
      "\n",
      "-----\n",
      "Dataset: outliers_removed\n",
      "Scores: [0.75191011 0.74724698 0.74844558]\n",
      "\n",
      "Mean: 0.7492008912000309\n",
      "Standard deviation: 0.0019772143632113518\n",
      "\n",
      "-----\n",
      "Dataset: one_hot_encoded_rescaled\n",
      "Scores: [0.73292063 0.72059257 0.71506486]\n",
      "\n",
      "Mean: 0.7228593523823728\n",
      "Standard deviation: 0.007463727823177525\n",
      "\n",
      "-----\n",
      "Dataset: oversampled+\n",
      "Scores: [0.53626491 0.53575758 0.52809697]\n",
      "\n",
      "Mean: 0.5333731512742083\n",
      "Standard deviation: 0.0037365684454601896\n",
      "\n",
      "-----\n",
      "Dataset: oversampled-\n",
      "Scores: [0.54047795 0.53178279 0.53345816]\n",
      "\n",
      "Mean: 0.5352396360508814\n",
      "Standard deviation: 0.0037666669149133527\n",
      "\n",
      "-----\n",
      "Dataset: smoted+\n",
      "Scores: [0.73514011 0.73755152 0.73231515]\n",
      "\n",
      "Mean: 0.7350022603617871\n",
      "Standard deviation: 0.00213995776263808\n",
      "\n",
      "-----\n",
      "Dataset: smoted-\n",
      "Scores: [0.63725055 0.6311225  0.6369863 ]\n",
      "\n",
      "Mean: 0.6351197849848177\n",
      "Standard deviation: 0.0028285658645436067\n"
     ]
    }
   ],
   "source": [
    "nbg_clf = GaussianNB()\n",
    "for key in test_sets:\n",
    "    X, y = df_splitter(datasets[key])\n",
    "    X_train, X_test, y_train, y_test = train_test_split(X, y, test_size=0.2, random_state=1216)\n",
    "    nbg_test = cross_val_score(nbg_clf,X_train,y_train, n_jobs=-1, cv=3, scoring='accuracy') #Default cv value = 5\n",
    "    first_results.append({'model':'Naive Bayes', 'dataset':key, 'score':nbg_test.mean()})\n",
    "    print(f'\\n-----\\nDataset: {key}')\n",
    "    display_scores(nbg_test)"
   ]
  },
  {
   "cell_type": "markdown",
   "id": "ee6f64f3-3373-4614-a658-7fdd3e7345d8",
   "metadata": {},
   "source": [
    "#### Support Vector Machine"
   ]
  },
  {
   "cell_type": "code",
   "execution_count": 95,
   "id": "ac9dbd73-c0ee-42a5-95d9-b3fbe1743a5c",
   "metadata": {},
   "outputs": [
    {
     "name": "stdout",
     "output_type": "stream",
     "text": [
      "\n",
      "-----\n",
      "Dataset: numeric\n",
      "Scores: [0.75827253 0.74447229 0.74572524]\n",
      "\n",
      "Mean: 0.7494900188548305\n",
      "Standard deviation: 0.006231205635468579\n",
      "\n",
      "-----\n",
      "Dataset: categoricals_binned\n",
      "Scores: [0.75893581 0.7446934  0.74579894]\n",
      "\n",
      "Mean: 0.7498093814905276\n",
      "Standard deviation: 0.006469122716941241\n",
      "\n",
      "-----\n",
      "Dataset: one_hot_encoded\n",
      "Scores: [0.75849363 0.74439858 0.74498821]\n",
      "\n",
      "Mean: 0.7492934725426205\n",
      "Standard deviation: 0.006509942143090918\n",
      "\n",
      "-----\n",
      "Dataset: outliers_removed\n",
      "Scores: [0.75191011 0.74724698 0.74844558]\n",
      "\n",
      "Mean: 0.7492008912000309\n",
      "Standard deviation: 0.0019772143632113518\n",
      "\n",
      "-----\n",
      "Dataset: one_hot_encoded_rescaled\n",
      "Scores: [0.73292063 0.72059257 0.71506486]\n",
      "\n",
      "Mean: 0.7228593523823728\n",
      "Standard deviation: 0.007463727823177525\n",
      "\n",
      "-----\n",
      "Dataset: oversampled+\n",
      "Scores: [0.53626491 0.53575758 0.52809697]\n",
      "\n",
      "Mean: 0.5333731512742083\n",
      "Standard deviation: 0.0037365684454601896\n",
      "\n",
      "-----\n",
      "Dataset: oversampled-\n",
      "Scores: [0.54047795 0.53178279 0.53345816]\n",
      "\n",
      "Mean: 0.5352396360508814\n",
      "Standard deviation: 0.0037666669149133527\n",
      "\n",
      "-----\n",
      "Dataset: smoted+\n",
      "Scores: [0.73514011 0.73755152 0.73231515]\n",
      "\n",
      "Mean: 0.7350022603617871\n",
      "Standard deviation: 0.00213995776263808\n",
      "\n",
      "-----\n",
      "Dataset: smoted-\n",
      "Scores: [0.63725055 0.6311225  0.6369863 ]\n",
      "\n",
      "Mean: 0.6351197849848177\n",
      "Standard deviation: 0.0028285658645436067\n"
     ]
    }
   ],
   "source": [
    "svm = SVC(kernel = 'poly', random_state = 1216, C = 1.0)\n",
    "for key in test_sets:\n",
    "    X, y = df_splitter(datasets[key])\n",
    "    X_train, X_test, y_train, y_test = train_test_split(X, y, test_size=0.2, random_state=1216)\n",
    "    svc = cross_val_score(nbg_clf,X_train,y_train, n_jobs=-1, cv=3, scoring='accuracy') #Default cv value = 5\n",
    "    first_results.append({'model':'SVC', 'dataset':key, 'score':svc.mean()})\n",
    "    print(f'\\n-----\\nDataset: {key}')\n",
    "    display_scores(svc)"
   ]
  },
  {
   "cell_type": "code",
   "execution_count": null,
   "id": "ff706fb5-67f5-4aaa-b750-f476af3382d2",
   "metadata": {},
   "outputs": [],
   "source": []
  },
  {
   "cell_type": "markdown",
   "id": "4f2b5c68-58f6-4a81-bfbc-1b556c9e4188",
   "metadata": {},
   "source": [
    "#### Decision Trees"
   ]
  },
  {
   "cell_type": "code",
   "execution_count": 56,
   "id": "04bd7405-1a6e-4ab3-99f7-6c8e3a97d46b",
   "metadata": {},
   "outputs": [
    {
     "data": {
      "text/html": [
       "<style>#sk-container-id-1 {color: black;background-color: white;}#sk-container-id-1 pre{padding: 0;}#sk-container-id-1 div.sk-toggleable {background-color: white;}#sk-container-id-1 label.sk-toggleable__label {cursor: pointer;display: block;width: 100%;margin-bottom: 0;padding: 0.3em;box-sizing: border-box;text-align: center;}#sk-container-id-1 label.sk-toggleable__label-arrow:before {content: \"▸\";float: left;margin-right: 0.25em;color: #696969;}#sk-container-id-1 label.sk-toggleable__label-arrow:hover:before {color: black;}#sk-container-id-1 div.sk-estimator:hover label.sk-toggleable__label-arrow:before {color: black;}#sk-container-id-1 div.sk-toggleable__content {max-height: 0;max-width: 0;overflow: hidden;text-align: left;background-color: #f0f8ff;}#sk-container-id-1 div.sk-toggleable__content pre {margin: 0.2em;color: black;border-radius: 0.25em;background-color: #f0f8ff;}#sk-container-id-1 input.sk-toggleable__control:checked~div.sk-toggleable__content {max-height: 200px;max-width: 100%;overflow: auto;}#sk-container-id-1 input.sk-toggleable__control:checked~label.sk-toggleable__label-arrow:before {content: \"▾\";}#sk-container-id-1 div.sk-estimator input.sk-toggleable__control:checked~label.sk-toggleable__label {background-color: #d4ebff;}#sk-container-id-1 div.sk-label input.sk-toggleable__control:checked~label.sk-toggleable__label {background-color: #d4ebff;}#sk-container-id-1 input.sk-hidden--visually {border: 0;clip: rect(1px 1px 1px 1px);clip: rect(1px, 1px, 1px, 1px);height: 1px;margin: -1px;overflow: hidden;padding: 0;position: absolute;width: 1px;}#sk-container-id-1 div.sk-estimator {font-family: monospace;background-color: #f0f8ff;border: 1px dotted black;border-radius: 0.25em;box-sizing: border-box;margin-bottom: 0.5em;}#sk-container-id-1 div.sk-estimator:hover {background-color: #d4ebff;}#sk-container-id-1 div.sk-parallel-item::after {content: \"\";width: 100%;border-bottom: 1px solid gray;flex-grow: 1;}#sk-container-id-1 div.sk-label:hover label.sk-toggleable__label {background-color: #d4ebff;}#sk-container-id-1 div.sk-serial::before {content: \"\";position: absolute;border-left: 1px solid gray;box-sizing: border-box;top: 0;bottom: 0;left: 50%;z-index: 0;}#sk-container-id-1 div.sk-serial {display: flex;flex-direction: column;align-items: center;background-color: white;padding-right: 0.2em;padding-left: 0.2em;position: relative;}#sk-container-id-1 div.sk-item {position: relative;z-index: 1;}#sk-container-id-1 div.sk-parallel {display: flex;align-items: stretch;justify-content: center;background-color: white;position: relative;}#sk-container-id-1 div.sk-item::before, #sk-container-id-1 div.sk-parallel-item::before {content: \"\";position: absolute;border-left: 1px solid gray;box-sizing: border-box;top: 0;bottom: 0;left: 50%;z-index: -1;}#sk-container-id-1 div.sk-parallel-item {display: flex;flex-direction: column;z-index: 1;position: relative;background-color: white;}#sk-container-id-1 div.sk-parallel-item:first-child::after {align-self: flex-end;width: 50%;}#sk-container-id-1 div.sk-parallel-item:last-child::after {align-self: flex-start;width: 50%;}#sk-container-id-1 div.sk-parallel-item:only-child::after {width: 0;}#sk-container-id-1 div.sk-dashed-wrapped {border: 1px dashed gray;margin: 0 0.4em 0.5em 0.4em;box-sizing: border-box;padding-bottom: 0.4em;background-color: white;}#sk-container-id-1 div.sk-label label {font-family: monospace;font-weight: bold;display: inline-block;line-height: 1.2em;}#sk-container-id-1 div.sk-label-container {text-align: center;}#sk-container-id-1 div.sk-container {/* jupyter's `normalize.less` sets `[hidden] { display: none; }` but bootstrap.min.css set `[hidden] { display: none !important; }` so we also need the `!important` here to be able to override the default hidden behavior on the sphinx rendered scikit-learn.org. See: https://github.com/scikit-learn/scikit-learn/issues/21755 */display: inline-block !important;position: relative;}#sk-container-id-1 div.sk-text-repr-fallback {display: none;}</style><div id=\"sk-container-id-1\" class=\"sk-top-container\"><div class=\"sk-text-repr-fallback\"><pre>DecisionTreeClassifier()</pre><b>In a Jupyter environment, please rerun this cell to show the HTML representation or trust the notebook. <br />On GitHub, the HTML representation is unable to render, please try loading this page with nbviewer.org.</b></div><div class=\"sk-container\" hidden><div class=\"sk-item\"><div class=\"sk-estimator sk-toggleable\"><input class=\"sk-toggleable__control sk-hidden--visually\" id=\"sk-estimator-id-1\" type=\"checkbox\" checked><label for=\"sk-estimator-id-1\" class=\"sk-toggleable__label sk-toggleable__label-arrow\">DecisionTreeClassifier</label><div class=\"sk-toggleable__content\"><pre>DecisionTreeClassifier()</pre></div></div></div></div></div>"
      ],
      "text/plain": [
       "DecisionTreeClassifier()"
      ]
     },
     "execution_count": 56,
     "metadata": {},
     "output_type": "execute_result"
    }
   ],
   "source": [
    "dtc = DecisionTreeClassifier(random_state=1216)\n",
    "for key in test_sets:\n",
    "    X, y = df_splitter(datasets[key])\n",
    "    X_train, X_test, y_train, y_test = train_test_split(X, y, test_size=0.2, random_state=1216)\n",
    "    nbg_test = cross_val_score(nbg_clf,X_train,y_train, n_jobs=-1, cv=3, scoring='accuracy') #Default cv value = 5\n",
    "    print(f'\\n-----\\nDataset: {key}')\n",
    "    display_scores(nbg_test)"
   ]
  },
  {
   "cell_type": "code",
   "execution_count": null,
   "id": "c0258e7f-0198-44ee-bc67-42e2ce7e978b",
   "metadata": {},
   "outputs": [],
   "source": []
  },
  {
   "cell_type": "code",
   "execution_count": null,
   "id": "f8cf4160-f67e-4284-b116-7cfea095730c",
   "metadata": {},
   "outputs": [],
   "source": []
  },
  {
   "cell_type": "code",
   "execution_count": null,
   "id": "b419a7d8-eb9b-459e-8ac9-bfea0e23753c",
   "metadata": {},
   "outputs": [],
   "source": []
  },
  {
   "cell_type": "code",
   "execution_count": null,
   "id": "a7a1ef8c-77be-4ecb-a17b-8898eeff440e",
   "metadata": {},
   "outputs": [],
   "source": []
  },
  {
   "cell_type": "markdown",
   "id": "fb704371-82d7-4548-b84e-0a7c93b06cc0",
   "metadata": {},
   "source": [
    "#### Extra Trees"
   ]
  },
  {
   "cell_type": "code",
   "execution_count": null,
   "id": "4e02da50-1dad-4d43-8701-447ef90ee2dc",
   "metadata": {},
   "outputs": [],
   "source": []
  },
  {
   "cell_type": "code",
   "execution_count": null,
   "id": "ff7baf41-c2da-4af3-89c6-bccec5c8e7f5",
   "metadata": {},
   "outputs": [],
   "source": []
  },
  {
   "cell_type": "code",
   "execution_count": null,
   "id": "391696a4-0a34-47ae-bea3-688405a2bfd2",
   "metadata": {},
   "outputs": [],
   "source": []
  },
  {
   "cell_type": "markdown",
   "id": "6df362ec-b9b1-4b13-ae3f-2dfea8556500",
   "metadata": {},
   "source": [
    "#### Random Forest"
   ]
  },
  {
   "cell_type": "code",
   "execution_count": null,
   "id": "59581728-c093-4fbe-ba00-753126cb1233",
   "metadata": {},
   "outputs": [],
   "source": []
  },
  {
   "cell_type": "code",
   "execution_count": 30,
   "id": "003a8826-2da8-4649-be65-ec01f32884bc",
   "metadata": {},
   "outputs": [],
   "source": [
    "knn = KNeighborsClassifier(n_jobs=-1) #KNN Classifier"
   ]
  },
  {
   "cell_type": "code",
   "execution_count": 39,
   "id": "f5540601-92b5-46b7-9a25-6a6b75869ae4",
   "metadata": {},
   "outputs": [],
   "source": [
    "rnd_clf = RandomForestClassifier(n_estimators=200,\n",
    "                                 max_leaf_nodes=None,\n",
    "                                 bootstrap=True,\n",
    "                                 oob_score=True,n_jobs = -1,\n",
    "                                 random_state = 1216)"
   ]
  },
  {
   "cell_type": "code",
   "execution_count": 48,
   "id": "55a647e8-1d1e-4d53-978a-02bbc085d11c",
   "metadata": {},
   "outputs": [
    {
     "name": "stdout",
     "output_type": "stream",
     "text": [
      "\n",
      "-----\n",
      "Dataset: numeric\n",
      "Scores: [0.75771393 0.75586651]\n",
      "\n",
      "Mean: 0.7567902205102001\n",
      "Standard deviation: 0.000923705829173338\n",
      "\n",
      "-----\n",
      "Dataset: categoricals_binned\n",
      "Scores: [0.75327228 0.75107111]\n",
      "\n",
      "Mean: 0.7521716913643332\n",
      "Standard deviation: 0.001100585668802334\n",
      "\n",
      "-----\n",
      "Dataset: one_hot_encoded\n",
      "Scores: [0.75024567 0.74957745]\n",
      "\n",
      "Mean: 0.7499115600801856\n",
      "Standard deviation: 0.0003341063637435915\n",
      "\n",
      "-----\n",
      "Dataset: outliers_removed\n",
      "Scores: [0.74999001 0.74938074]\n",
      "\n",
      "Mean: 0.7496853777464565\n",
      "Standard deviation: 0.00030463463818647396\n",
      "\n",
      "-----\n",
      "Dataset: one_hot_encoded_rescaled\n",
      "Scores: [0.75024567 0.74965607]\n",
      "\n",
      "Mean: 0.7499508667112142\n",
      "Standard deviation: 0.000294799732714901\n",
      "\n",
      "-----\n",
      "Dataset: oversampled+\n",
      "Scores: [0.83407028 0.86688387]\n",
      "\n",
      "Mean: 0.8504770770304864\n",
      "Standard deviation: 0.016406795438678123\n",
      "\n",
      "-----\n",
      "Dataset: oversampled-\n",
      "Scores: [0.83052139 0.86655104]\n",
      "\n",
      "Mean: 0.8485362136024388\n",
      "Standard deviation: 0.018014821822768867\n",
      "\n",
      "-----\n",
      "Dataset: smoted+\n",
      "Scores: [0.67972487 0.80924676]\n",
      "\n",
      "Mean: 0.7444858169782536\n",
      "Standard deviation: 0.06476094432808421\n",
      "\n",
      "-----\n",
      "Dataset: smoted-\n",
      "Scores: [0.67423526 0.85803637]\n",
      "\n",
      "Mean: 0.7661358141490592\n",
      "Standard deviation: 0.09190055713234524\n"
     ]
    }
   ],
   "source": [
    "for key in test_sets:\n",
    "    X, y = df_splitter(datasets[key])\n",
    "    knn_accs = cross_val_score(rnd_clf,X,y, n_jobs=-1, cv=2, scoring='accuracy') #Default cv value = 5\n",
    "    print(f'\\n-----\\nDataset: {key}')\n",
    "    display_scores(knn_accs)"
   ]
  },
  {
   "cell_type": "code",
   "execution_count": null,
   "id": "00a14d5a-7c58-44b2-803a-eedf0c03c201",
   "metadata": {},
   "outputs": [],
   "source": []
  },
  {
   "cell_type": "code",
   "execution_count": null,
   "id": "358ffb6d-5544-4638-9b9b-dc56916107ed",
   "metadata": {},
   "outputs": [],
   "source": []
  },
  {
   "cell_type": "code",
   "execution_count": null,
   "id": "8465a25e-ebd6-44b8-a28e-adfb76a74972",
   "metadata": {},
   "outputs": [],
   "source": []
  },
  {
   "cell_type": "code",
   "execution_count": null,
   "id": "f01b3da4-c41a-4f1e-97e7-e080cbd20456",
   "metadata": {},
   "outputs": [],
   "source": [
    "rnd_clf.fit(X_train, y_train)\n",
    "rnd_clf_accs = cross_val_score(rnd_clf, X_train, y_train, scoring=\"accuracy\", cv=5)\n",
    "\n",
    "display_scores(rnd_clf_accs)"
   ]
  },
  {
   "cell_type": "code",
   "execution_count": 42,
   "id": "b7d279f8-dc63-4e7a-aebc-864ef0039ee1",
   "metadata": {},
   "outputs": [],
   "source": [
    "X_train, y_train = df_splitter(datasets['oversampled+'], target = 'Response')"
   ]
  },
  {
   "cell_type": "code",
   "execution_count": 43,
   "id": "3978b5ce-5d08-4faf-bcf4-3ac198734272",
   "metadata": {},
   "outputs": [
    {
     "name": "stdout",
     "output_type": "stream",
     "text": [
      "Scores: [0.89650937 0.8983774  0.9272739  0.93276876 0.9358071 ]\n",
      "\n",
      "Mean: 0.9181473073970784\n",
      "Standard deviation: 0.01713475629743149\n"
     ]
    }
   ],
   "source": [
    "rnd_clf.fit(X_train, y_train)\n",
    "rnd_clf_accs = cross_val_score(rnd_clf, X_train, y_train, scoring=\"accuracy\", cv=5)\n",
    "\n",
    "display_scores(rnd_clf_accs)"
   ]
  },
  {
   "cell_type": "code",
   "execution_count": 41,
   "id": "d7fa7065-e60f-4e35-9d69-9ab3fbda6e92",
   "metadata": {},
   "outputs": [
    {
     "name": "stdout",
     "output_type": "stream",
     "text": [
      "Scores: [0.50284421 0.65220764 0.8363178  0.84433383 0.83592992]\n",
      "\n",
      "Mean: 0.7343266811789435\n",
      "Standard deviation: 0.136495163536079\n"
     ]
    }
   ],
   "source": [
    "from sklearn.model_selection import cross_val_score\n",
    "from sklearn.ensemble import GradientBoostingClassifier\n",
    "\n",
    "gb = GradientBoostingClassifier()\n",
    "\n",
    "gb.fit(X_train, y_train)\n",
    "gb_accs = cross_val_score(gb, X_train, y_train, scoring=\"accuracy\", cv=5)\n",
    "\n",
    "display_scores(gb_accs)"
   ]
  },
  {
   "cell_type": "code",
   "execution_count": null,
   "id": "df056a0f-1b95-44f9-822b-48de19e9ddde",
   "metadata": {},
   "outputs": [],
   "source": []
  },
  {
   "cell_type": "markdown",
   "id": "c4b5f159-1925-4182-918e-3accf9167f5c",
   "metadata": {},
   "source": [
    "XGBoost"
   ]
  },
  {
   "cell_type": "code",
   "execution_count": null,
   "id": "af3d5fdb-010e-4c28-99d3-2351fcb7f4c5",
   "metadata": {},
   "outputs": [],
   "source": [
    "X_train, X_test, y_train, y_test = train_test_split(X, y, test_size=0.2, random_state=1216)"
   ]
  },
  {
   "cell_type": "code",
   "execution_count": null,
   "id": "e6939234-27d0-467c-beca-bbfa76b846ca",
   "metadata": {},
   "outputs": [],
   "source": []
  },
  {
   "cell_type": "code",
   "execution_count": null,
   "id": "c50d30a9-1ee6-43dd-8ce6-cd7e0b950740",
   "metadata": {},
   "outputs": [],
   "source": []
  }
 ],
 "metadata": {
  "kernelspec": {
   "display_name": "Python 3 (ipykernel)",
   "language": "python",
   "name": "python3"
  },
  "language_info": {
   "codemirror_mode": {
    "name": "ipython",
    "version": 3
   },
   "file_extension": ".py",
   "mimetype": "text/x-python",
   "name": "python",
   "nbconvert_exporter": "python",
   "pygments_lexer": "ipython3",
   "version": "3.10.5"
  },
  "widgets": {
   "application/vnd.jupyter.widget-state+json": {
    "state": {},
    "version_major": 2,
    "version_minor": 0
   }
  }
 },
 "nbformat": 4,
 "nbformat_minor": 5
}
