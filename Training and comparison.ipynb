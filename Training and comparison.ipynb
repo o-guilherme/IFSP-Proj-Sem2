{
 "cells": [
  {
   "cell_type": "markdown",
   "metadata": {},
   "source": [
    "### Training and comparison\n",
    "\n",
    "Objective: Usage of multiple models to compare the training of the models\n"
   ]
  },
  {
   "cell_type": "code",
   "execution_count": null,
   "metadata": {},
   "outputs": [],
   "source": []
  },
  {
   "cell_type": "code",
   "execution_count": null,
   "metadata": {
    "id": "BaNEzuX3yOrF"
   },
   "outputs": [],
   "source": [
    "#Importing most used modules\n",
    "import numpy as np\n",
    "import pandas as pd\n",
    "import seaborn as sns\n",
    "import matplotlib.pyplot as plt\n",
    "sns.set_palette('viridis')"
   ]
  },
  {
   "cell_type": "markdown",
   "metadata": {
    "id": "1tkNV5mZ3git"
   },
   "source": [
    "# 1. Loading pre-processed data"
   ]
  },
  {
   "cell_type": "code",
   "execution_count": null,
   "metadata": {
    "id": "wmtOAIs-2JtW"
   },
   "outputs": [],
   "source": [
    "df = pd.read_csv('/content/drive/MyDrive/Pós-Graduação/2o Semestre/Aprendizado de Máquinas e Reconhecimento de padrões/Health Insurance/lead_data_numeric_OHE_rebalanced.csv')"
   ]
  },
  {
   "cell_type": "code",
   "execution_count": null,
   "metadata": {
    "colab": {
     "base_uri": "https://localhost:8080/",
     "height": 317
    },
    "executionInfo": {
     "elapsed": 13,
     "status": "ok",
     "timestamp": 1668646207358,
     "user": {
      "displayName": "Mariana Cabride",
      "userId": "17414035056376663625"
     },
     "user_tz": 180
    },
    "id": "3nMGHnjv2db1",
    "outputId": "74651dfb-e9ed-4320-cef6-0d04b1d4f476"
   },
   "outputs": [
    {
     "data": {
      "text/html": [
       "\n",
       "  <div id=\"df-7a1dc7f8-2dce-4b61-b239-ec796326590e\">\n",
       "    <div class=\"colab-df-container\">\n",
       "      <div>\n",
       "<style scoped>\n",
       "    .dataframe tbody tr th:only-of-type {\n",
       "        vertical-align: middle;\n",
       "    }\n",
       "\n",
       "    .dataframe tbody tr th {\n",
       "        vertical-align: top;\n",
       "    }\n",
       "\n",
       "    .dataframe thead th {\n",
       "        text-align: right;\n",
       "    }\n",
       "</style>\n",
       "<table border=\"1\" class=\"dataframe\">\n",
       "  <thead>\n",
       "    <tr style=\"text-align: right;\">\n",
       "      <th></th>\n",
       "      <th>Unnamed: 0</th>\n",
       "      <th>Age</th>\n",
       "      <th>Age_Gap</th>\n",
       "      <th>Has_Own_House</th>\n",
       "      <th>Is_Spouse</th>\n",
       "      <th>Reco_Individual_Insurance</th>\n",
       "      <th>Reco_Policy_Premium</th>\n",
       "      <th>Holding_Policy_Duration</th>\n",
       "      <th>Health_Indicator_2</th>\n",
       "      <th>Health_Indicator_3</th>\n",
       "      <th>...</th>\n",
       "      <th>Region_Group_19</th>\n",
       "      <th>Holding_Policy_Type_1</th>\n",
       "      <th>Holding_Policy_Type_2</th>\n",
       "      <th>Holding_Policy_Type_3</th>\n",
       "      <th>Holding_Policy_Type_4</th>\n",
       "      <th>Reco_Policy_Groups_1</th>\n",
       "      <th>Reco_Policy_Groups_2</th>\n",
       "      <th>Reco_Policy_Groups_3</th>\n",
       "      <th>Reco_Policy_Groups_4</th>\n",
       "      <th>Response</th>\n",
       "    </tr>\n",
       "  </thead>\n",
       "  <tbody>\n",
       "    <tr>\n",
       "      <th>0</th>\n",
       "      <td>0</td>\n",
       "      <td>36</td>\n",
       "      <td>0</td>\n",
       "      <td>1</td>\n",
       "      <td>0</td>\n",
       "      <td>1</td>\n",
       "      <td>11628</td>\n",
       "      <td>15</td>\n",
       "      <td>0</td>\n",
       "      <td>0</td>\n",
       "      <td>...</td>\n",
       "      <td>0</td>\n",
       "      <td>0</td>\n",
       "      <td>0</td>\n",
       "      <td>1</td>\n",
       "      <td>0</td>\n",
       "      <td>0</td>\n",
       "      <td>0</td>\n",
       "      <td>0</td>\n",
       "      <td>1</td>\n",
       "      <td>0</td>\n",
       "    </tr>\n",
       "    <tr>\n",
       "      <th>1</th>\n",
       "      <td>1</td>\n",
       "      <td>22</td>\n",
       "      <td>53</td>\n",
       "      <td>0</td>\n",
       "      <td>0</td>\n",
       "      <td>0</td>\n",
       "      <td>30510</td>\n",
       "      <td>0</td>\n",
       "      <td>1</td>\n",
       "      <td>0</td>\n",
       "      <td>...</td>\n",
       "      <td>0</td>\n",
       "      <td>0</td>\n",
       "      <td>0</td>\n",
       "      <td>0</td>\n",
       "      <td>0</td>\n",
       "      <td>0</td>\n",
       "      <td>0</td>\n",
       "      <td>0</td>\n",
       "      <td>1</td>\n",
       "      <td>0</td>\n",
       "    </tr>\n",
       "    <tr>\n",
       "      <th>2</th>\n",
       "      <td>2</td>\n",
       "      <td>32</td>\n",
       "      <td>0</td>\n",
       "      <td>0</td>\n",
       "      <td>0</td>\n",
       "      <td>1</td>\n",
       "      <td>7450</td>\n",
       "      <td>1</td>\n",
       "      <td>0</td>\n",
       "      <td>0</td>\n",
       "      <td>...</td>\n",
       "      <td>0</td>\n",
       "      <td>1</td>\n",
       "      <td>0</td>\n",
       "      <td>0</td>\n",
       "      <td>0</td>\n",
       "      <td>0</td>\n",
       "      <td>0</td>\n",
       "      <td>1</td>\n",
       "      <td>0</td>\n",
       "      <td>1</td>\n",
       "    </tr>\n",
       "    <tr>\n",
       "      <th>3</th>\n",
       "      <td>3</td>\n",
       "      <td>48</td>\n",
       "      <td>4</td>\n",
       "      <td>0</td>\n",
       "      <td>0</td>\n",
       "      <td>0</td>\n",
       "      <td>17780</td>\n",
       "      <td>15</td>\n",
       "      <td>0</td>\n",
       "      <td>0</td>\n",
       "      <td>...</td>\n",
       "      <td>0</td>\n",
       "      <td>0</td>\n",
       "      <td>0</td>\n",
       "      <td>1</td>\n",
       "      <td>0</td>\n",
       "      <td>0</td>\n",
       "      <td>0</td>\n",
       "      <td>1</td>\n",
       "      <td>0</td>\n",
       "      <td>0</td>\n",
       "    </tr>\n",
       "    <tr>\n",
       "      <th>4</th>\n",
       "      <td>4</td>\n",
       "      <td>44</td>\n",
       "      <td>0</td>\n",
       "      <td>1</td>\n",
       "      <td>0</td>\n",
       "      <td>1</td>\n",
       "      <td>10404</td>\n",
       "      <td>3</td>\n",
       "      <td>1</td>\n",
       "      <td>0</td>\n",
       "      <td>...</td>\n",
       "      <td>0</td>\n",
       "      <td>1</td>\n",
       "      <td>0</td>\n",
       "      <td>0</td>\n",
       "      <td>0</td>\n",
       "      <td>1</td>\n",
       "      <td>0</td>\n",
       "      <td>0</td>\n",
       "      <td>0</td>\n",
       "      <td>0</td>\n",
       "    </tr>\n",
       "  </tbody>\n",
       "</table>\n",
       "<p>5 rows × 44 columns</p>\n",
       "</div>\n",
       "      <button class=\"colab-df-convert\" onclick=\"convertToInteractive('df-7a1dc7f8-2dce-4b61-b239-ec796326590e')\"\n",
       "              title=\"Convert this dataframe to an interactive table.\"\n",
       "              style=\"display:none;\">\n",
       "        \n",
       "  <svg xmlns=\"http://www.w3.org/2000/svg\" height=\"24px\"viewBox=\"0 0 24 24\"\n",
       "       width=\"24px\">\n",
       "    <path d=\"M0 0h24v24H0V0z\" fill=\"none\"/>\n",
       "    <path d=\"M18.56 5.44l.94 2.06.94-2.06 2.06-.94-2.06-.94-.94-2.06-.94 2.06-2.06.94zm-11 1L8.5 8.5l.94-2.06 2.06-.94-2.06-.94L8.5 2.5l-.94 2.06-2.06.94zm10 10l.94 2.06.94-2.06 2.06-.94-2.06-.94-.94-2.06-.94 2.06-2.06.94z\"/><path d=\"M17.41 7.96l-1.37-1.37c-.4-.4-.92-.59-1.43-.59-.52 0-1.04.2-1.43.59L10.3 9.45l-7.72 7.72c-.78.78-.78 2.05 0 2.83L4 21.41c.39.39.9.59 1.41.59.51 0 1.02-.2 1.41-.59l7.78-7.78 2.81-2.81c.8-.78.8-2.07 0-2.86zM5.41 20L4 18.59l7.72-7.72 1.47 1.35L5.41 20z\"/>\n",
       "  </svg>\n",
       "      </button>\n",
       "      \n",
       "  <style>\n",
       "    .colab-df-container {\n",
       "      display:flex;\n",
       "      flex-wrap:wrap;\n",
       "      gap: 12px;\n",
       "    }\n",
       "\n",
       "    .colab-df-convert {\n",
       "      background-color: #E8F0FE;\n",
       "      border: none;\n",
       "      border-radius: 50%;\n",
       "      cursor: pointer;\n",
       "      display: none;\n",
       "      fill: #1967D2;\n",
       "      height: 32px;\n",
       "      padding: 0 0 0 0;\n",
       "      width: 32px;\n",
       "    }\n",
       "\n",
       "    .colab-df-convert:hover {\n",
       "      background-color: #E2EBFA;\n",
       "      box-shadow: 0px 1px 2px rgba(60, 64, 67, 0.3), 0px 1px 3px 1px rgba(60, 64, 67, 0.15);\n",
       "      fill: #174EA6;\n",
       "    }\n",
       "\n",
       "    [theme=dark] .colab-df-convert {\n",
       "      background-color: #3B4455;\n",
       "      fill: #D2E3FC;\n",
       "    }\n",
       "\n",
       "    [theme=dark] .colab-df-convert:hover {\n",
       "      background-color: #434B5C;\n",
       "      box-shadow: 0px 1px 3px 1px rgba(0, 0, 0, 0.15);\n",
       "      filter: drop-shadow(0px 1px 2px rgba(0, 0, 0, 0.3));\n",
       "      fill: #FFFFFF;\n",
       "    }\n",
       "  </style>\n",
       "\n",
       "      <script>\n",
       "        const buttonEl =\n",
       "          document.querySelector('#df-7a1dc7f8-2dce-4b61-b239-ec796326590e button.colab-df-convert');\n",
       "        buttonEl.style.display =\n",
       "          google.colab.kernel.accessAllowed ? 'block' : 'none';\n",
       "\n",
       "        async function convertToInteractive(key) {\n",
       "          const element = document.querySelector('#df-7a1dc7f8-2dce-4b61-b239-ec796326590e');\n",
       "          const dataTable =\n",
       "            await google.colab.kernel.invokeFunction('convertToInteractive',\n",
       "                                                     [key], {});\n",
       "          if (!dataTable) return;\n",
       "\n",
       "          const docLinkHtml = 'Like what you see? Visit the ' +\n",
       "            '<a target=\"_blank\" href=https://colab.research.google.com/notebooks/data_table.ipynb>data table notebook</a>'\n",
       "            + ' to learn more about interactive tables.';\n",
       "          element.innerHTML = '';\n",
       "          dataTable['output_type'] = 'display_data';\n",
       "          await google.colab.output.renderOutput(dataTable, element);\n",
       "          const docLink = document.createElement('div');\n",
       "          docLink.innerHTML = docLinkHtml;\n",
       "          element.appendChild(docLink);\n",
       "        }\n",
       "      </script>\n",
       "    </div>\n",
       "  </div>\n",
       "  "
      ],
      "text/plain": [
       "   Unnamed: 0  Age  Age_Gap  Has_Own_House  Is_Spouse  \\\n",
       "0           0   36        0              1          0   \n",
       "1           1   22       53              0          0   \n",
       "2           2   32        0              0          0   \n",
       "3           3   48        4              0          0   \n",
       "4           4   44        0              1          0   \n",
       "\n",
       "   Reco_Individual_Insurance  Reco_Policy_Premium  Holding_Policy_Duration  \\\n",
       "0                          1                11628                       15   \n",
       "1                          0                30510                        0   \n",
       "2                          1                 7450                        1   \n",
       "3                          0                17780                       15   \n",
       "4                          1                10404                        3   \n",
       "\n",
       "   Health_Indicator_2  Health_Indicator_3  ...  Region_Group_19  \\\n",
       "0                   0                   0  ...                0   \n",
       "1                   1                   0  ...                0   \n",
       "2                   0                   0  ...                0   \n",
       "3                   0                   0  ...                0   \n",
       "4                   1                   0  ...                0   \n",
       "\n",
       "   Holding_Policy_Type_1  Holding_Policy_Type_2  Holding_Policy_Type_3  \\\n",
       "0                      0                      0                      1   \n",
       "1                      0                      0                      0   \n",
       "2                      1                      0                      0   \n",
       "3                      0                      0                      1   \n",
       "4                      1                      0                      0   \n",
       "\n",
       "   Holding_Policy_Type_4  Reco_Policy_Groups_1  Reco_Policy_Groups_2  \\\n",
       "0                      0                     0                     0   \n",
       "1                      0                     0                     0   \n",
       "2                      0                     0                     0   \n",
       "3                      0                     0                     0   \n",
       "4                      0                     1                     0   \n",
       "\n",
       "   Reco_Policy_Groups_3  Reco_Policy_Groups_4  Response  \n",
       "0                     0                     1         0  \n",
       "1                     0                     1         0  \n",
       "2                     1                     0         1  \n",
       "3                     1                     0         0  \n",
       "4                     0                     0         0  \n",
       "\n",
       "[5 rows x 44 columns]"
      ]
     },
     "execution_count": 4,
     "metadata": {},
     "output_type": "execute_result"
    }
   ],
   "source": [
    "df.head()"
   ]
  },
  {
   "cell_type": "code",
   "execution_count": null,
   "metadata": {
    "colab": {
     "base_uri": "https://localhost:8080/"
    },
    "executionInfo": {
     "elapsed": 493,
     "status": "ok",
     "timestamp": 1668646207844,
     "user": {
      "displayName": "Mariana Cabride",
      "userId": "17414035056376663625"
     },
     "user_tz": 180
    },
    "id": "DfAsT-so2jT7",
    "outputId": "12b96d45-1f0b-4102-a13c-51464cb9bb5a"
   },
   "outputs": [
    {
     "name": "stdout",
     "output_type": "stream",
     "text": [
      "<class 'pandas.core.frame.DataFrame'>\n",
      "RangeIndex: 77346 entries, 0 to 77345\n",
      "Data columns (total 44 columns):\n",
      " #   Column                     Non-Null Count  Dtype\n",
      "---  ------                     --------------  -----\n",
      " 0   Unnamed: 0                 77346 non-null  int64\n",
      " 1   Age                        77346 non-null  int64\n",
      " 2   Age_Gap                    77346 non-null  int64\n",
      " 3   Has_Own_House              77346 non-null  int64\n",
      " 4   Is_Spouse                  77346 non-null  int64\n",
      " 5   Reco_Individual_Insurance  77346 non-null  int64\n",
      " 6   Reco_Policy_Premium        77346 non-null  int64\n",
      " 7   Holding_Policy_Duration    77346 non-null  int64\n",
      " 8   Health_Indicator_2         77346 non-null  int64\n",
      " 9   Health_Indicator_3         77346 non-null  int64\n",
      " 10  Health_Indicator_4         77346 non-null  int64\n",
      " 11  Health_Indicator_5         77346 non-null  int64\n",
      " 12  City_Group_1               77346 non-null  int64\n",
      " 13  City_Group_2               77346 non-null  int64\n",
      " 14  City_Group_3               77346 non-null  int64\n",
      " 15  City_Group_4               77346 non-null  int64\n",
      " 16  Region_Group_1             77346 non-null  int64\n",
      " 17  Region_Group_2             77346 non-null  int64\n",
      " 18  Region_Group_3             77346 non-null  int64\n",
      " 19  Region_Group_4             77346 non-null  int64\n",
      " 20  Region_Group_5             77346 non-null  int64\n",
      " 21  Region_Group_6             77346 non-null  int64\n",
      " 22  Region_Group_7             77346 non-null  int64\n",
      " 23  Region_Group_8             77346 non-null  int64\n",
      " 24  Region_Group_9             77346 non-null  int64\n",
      " 25  Region_Group_10            77346 non-null  int64\n",
      " 26  Region_Group_11            77346 non-null  int64\n",
      " 27  Region_Group_12            77346 non-null  int64\n",
      " 28  Region_Group_13            77346 non-null  int64\n",
      " 29  Region_Group_14            77346 non-null  int64\n",
      " 30  Region_Group_15            77346 non-null  int64\n",
      " 31  Region_Group_16            77346 non-null  int64\n",
      " 32  Region_Group_17            77346 non-null  int64\n",
      " 33  Region_Group_18            77346 non-null  int64\n",
      " 34  Region_Group_19            77346 non-null  int64\n",
      " 35  Holding_Policy_Type_1      77346 non-null  int64\n",
      " 36  Holding_Policy_Type_2      77346 non-null  int64\n",
      " 37  Holding_Policy_Type_3      77346 non-null  int64\n",
      " 38  Holding_Policy_Type_4      77346 non-null  int64\n",
      " 39  Reco_Policy_Groups_1       77346 non-null  int64\n",
      " 40  Reco_Policy_Groups_2       77346 non-null  int64\n",
      " 41  Reco_Policy_Groups_3       77346 non-null  int64\n",
      " 42  Reco_Policy_Groups_4       77346 non-null  int64\n",
      " 43  Response                   77346 non-null  int64\n",
      "dtypes: int64(44)\n",
      "memory usage: 26.0 MB\n"
     ]
    }
   ],
   "source": [
    "df.info()"
   ]
  },
  {
   "cell_type": "code",
   "execution_count": null,
   "metadata": {
    "id": "FC2tlYKn2kLg"
   },
   "outputs": [],
   "source": [
    "df.drop(columns=['Unnamed: 0'], inplace=True)"
   ]
  },
  {
   "cell_type": "markdown",
   "metadata": {
    "id": "k4m192rB9arH"
   },
   "source": [
    "# 2. Create a test set"
   ]
  },
  {
   "cell_type": "code",
   "execution_count": null,
   "metadata": {
    "id": "LWgl4bEh9ZOA"
   },
   "outputs": [],
   "source": [
    "from sklearn.model_selection import train_test_split\n",
    "df_train, df_test = train_test_split(df, test_size=0.2, stratify=df['Response'], random_state=42)\n",
    "# entender o que é o stratify e se devo usar"
   ]
  },
  {
   "cell_type": "code",
   "execution_count": null,
   "metadata": {
    "colab": {
     "base_uri": "https://localhost:8080/"
    },
    "executionInfo": {
     "elapsed": 223,
     "status": "ok",
     "timestamp": 1668646369554,
     "user": {
      "displayName": "Mariana Cabride",
      "userId": "17414035056376663625"
     },
     "user_tz": 180
    },
    "id": "gcN3rP4n9ZzL",
    "outputId": "6f7a2bf3-9157-488a-886d-ef2df23698eb"
   },
   "outputs": [
    {
     "name": "stdout",
     "output_type": "stream",
     "text": [
      "**** Training set ****\n",
      "\n",
      "<class 'pandas.core.frame.DataFrame'>\n",
      "Int64Index: 61876 entries, 28149 to 51654\n",
      "Data columns (total 43 columns):\n",
      " #   Column                     Non-Null Count  Dtype\n",
      "---  ------                     --------------  -----\n",
      " 0   Age                        61876 non-null  int64\n",
      " 1   Age_Gap                    61876 non-null  int64\n",
      " 2   Has_Own_House              61876 non-null  int64\n",
      " 3   Is_Spouse                  61876 non-null  int64\n",
      " 4   Reco_Individual_Insurance  61876 non-null  int64\n",
      " 5   Reco_Policy_Premium        61876 non-null  int64\n",
      " 6   Holding_Policy_Duration    61876 non-null  int64\n",
      " 7   Health_Indicator_2         61876 non-null  int64\n",
      " 8   Health_Indicator_3         61876 non-null  int64\n",
      " 9   Health_Indicator_4         61876 non-null  int64\n",
      " 10  Health_Indicator_5         61876 non-null  int64\n",
      " 11  City_Group_1               61876 non-null  int64\n",
      " 12  City_Group_2               61876 non-null  int64\n",
      " 13  City_Group_3               61876 non-null  int64\n",
      " 14  City_Group_4               61876 non-null  int64\n",
      " 15  Region_Group_1             61876 non-null  int64\n",
      " 16  Region_Group_2             61876 non-null  int64\n",
      " 17  Region_Group_3             61876 non-null  int64\n",
      " 18  Region_Group_4             61876 non-null  int64\n",
      " 19  Region_Group_5             61876 non-null  int64\n",
      " 20  Region_Group_6             61876 non-null  int64\n",
      " 21  Region_Group_7             61876 non-null  int64\n",
      " 22  Region_Group_8             61876 non-null  int64\n",
      " 23  Region_Group_9             61876 non-null  int64\n",
      " 24  Region_Group_10            61876 non-null  int64\n",
      " 25  Region_Group_11            61876 non-null  int64\n",
      " 26  Region_Group_12            61876 non-null  int64\n",
      " 27  Region_Group_13            61876 non-null  int64\n",
      " 28  Region_Group_14            61876 non-null  int64\n",
      " 29  Region_Group_15            61876 non-null  int64\n",
      " 30  Region_Group_16            61876 non-null  int64\n",
      " 31  Region_Group_17            61876 non-null  int64\n",
      " 32  Region_Group_18            61876 non-null  int64\n",
      " 33  Region_Group_19            61876 non-null  int64\n",
      " 34  Holding_Policy_Type_1      61876 non-null  int64\n",
      " 35  Holding_Policy_Type_2      61876 non-null  int64\n",
      " 36  Holding_Policy_Type_3      61876 non-null  int64\n",
      " 37  Holding_Policy_Type_4      61876 non-null  int64\n",
      " 38  Reco_Policy_Groups_1       61876 non-null  int64\n",
      " 39  Reco_Policy_Groups_2       61876 non-null  int64\n",
      " 40  Reco_Policy_Groups_3       61876 non-null  int64\n",
      " 41  Reco_Policy_Groups_4       61876 non-null  int64\n",
      " 42  Response                   61876 non-null  int64\n",
      "dtypes: int64(43)\n",
      "memory usage: 20.8 MB\n",
      "None\n",
      "(61876, 43)\n"
     ]
    }
   ],
   "source": [
    "print(f'**** Training set ****\\n')\n",
    "print(f'{df_train.info()}')\n",
    "print(f'{df_train.shape}')"
   ]
  },
  {
   "cell_type": "code",
   "execution_count": null,
   "metadata": {
    "colab": {
     "base_uri": "https://localhost:8080/",
     "height": 300
    },
    "executionInfo": {
     "elapsed": 443,
     "status": "ok",
     "timestamp": 1668646371573,
     "user": {
      "displayName": "Mariana Cabride",
      "userId": "17414035056376663625"
     },
     "user_tz": 180
    },
    "id": "eRbFqrdE-m82",
    "outputId": "e9be871d-75bd-437f-fa8b-bf40619b8e3c"
   },
   "outputs": [
    {
     "data": {
      "text/html": [
       "\n",
       "  <div id=\"df-f74af162-bba4-43ea-b97d-9eea198d2d4f\">\n",
       "    <div class=\"colab-df-container\">\n",
       "      <div>\n",
       "<style scoped>\n",
       "    .dataframe tbody tr th:only-of-type {\n",
       "        vertical-align: middle;\n",
       "    }\n",
       "\n",
       "    .dataframe tbody tr th {\n",
       "        vertical-align: top;\n",
       "    }\n",
       "\n",
       "    .dataframe thead th {\n",
       "        text-align: right;\n",
       "    }\n",
       "</style>\n",
       "<table border=\"1\" class=\"dataframe\">\n",
       "  <thead>\n",
       "    <tr style=\"text-align: right;\">\n",
       "      <th></th>\n",
       "      <th>Age</th>\n",
       "      <th>Age_Gap</th>\n",
       "      <th>Has_Own_House</th>\n",
       "      <th>Is_Spouse</th>\n",
       "      <th>Reco_Individual_Insurance</th>\n",
       "      <th>Reco_Policy_Premium</th>\n",
       "      <th>Holding_Policy_Duration</th>\n",
       "      <th>Health_Indicator_2</th>\n",
       "      <th>Health_Indicator_3</th>\n",
       "      <th>Health_Indicator_4</th>\n",
       "      <th>...</th>\n",
       "      <th>Region_Group_19</th>\n",
       "      <th>Holding_Policy_Type_1</th>\n",
       "      <th>Holding_Policy_Type_2</th>\n",
       "      <th>Holding_Policy_Type_3</th>\n",
       "      <th>Holding_Policy_Type_4</th>\n",
       "      <th>Reco_Policy_Groups_1</th>\n",
       "      <th>Reco_Policy_Groups_2</th>\n",
       "      <th>Reco_Policy_Groups_3</th>\n",
       "      <th>Reco_Policy_Groups_4</th>\n",
       "      <th>Response</th>\n",
       "    </tr>\n",
       "  </thead>\n",
       "  <tbody>\n",
       "    <tr>\n",
       "      <th>28149</th>\n",
       "      <td>40</td>\n",
       "      <td>0</td>\n",
       "      <td>0</td>\n",
       "      <td>0</td>\n",
       "      <td>1</td>\n",
       "      <td>9136</td>\n",
       "      <td>11</td>\n",
       "      <td>0</td>\n",
       "      <td>0</td>\n",
       "      <td>0</td>\n",
       "      <td>...</td>\n",
       "      <td>0</td>\n",
       "      <td>0</td>\n",
       "      <td>0</td>\n",
       "      <td>1</td>\n",
       "      <td>0</td>\n",
       "      <td>0</td>\n",
       "      <td>0</td>\n",
       "      <td>0</td>\n",
       "      <td>0</td>\n",
       "      <td>0</td>\n",
       "    </tr>\n",
       "    <tr>\n",
       "      <th>57885</th>\n",
       "      <td>56</td>\n",
       "      <td>0</td>\n",
       "      <td>0</td>\n",
       "      <td>0</td>\n",
       "      <td>1</td>\n",
       "      <td>17490</td>\n",
       "      <td>15</td>\n",
       "      <td>0</td>\n",
       "      <td>0</td>\n",
       "      <td>0</td>\n",
       "      <td>...</td>\n",
       "      <td>0</td>\n",
       "      <td>1</td>\n",
       "      <td>0</td>\n",
       "      <td>0</td>\n",
       "      <td>0</td>\n",
       "      <td>1</td>\n",
       "      <td>0</td>\n",
       "      <td>0</td>\n",
       "      <td>0</td>\n",
       "      <td>1</td>\n",
       "    </tr>\n",
       "    <tr>\n",
       "      <th>26784</th>\n",
       "      <td>49</td>\n",
       "      <td>0</td>\n",
       "      <td>0</td>\n",
       "      <td>0</td>\n",
       "      <td>1</td>\n",
       "      <td>12200</td>\n",
       "      <td>1</td>\n",
       "      <td>0</td>\n",
       "      <td>1</td>\n",
       "      <td>0</td>\n",
       "      <td>...</td>\n",
       "      <td>0</td>\n",
       "      <td>0</td>\n",
       "      <td>0</td>\n",
       "      <td>1</td>\n",
       "      <td>0</td>\n",
       "      <td>0</td>\n",
       "      <td>1</td>\n",
       "      <td>0</td>\n",
       "      <td>0</td>\n",
       "      <td>0</td>\n",
       "    </tr>\n",
       "    <tr>\n",
       "      <th>21185</th>\n",
       "      <td>43</td>\n",
       "      <td>0</td>\n",
       "      <td>1</td>\n",
       "      <td>0</td>\n",
       "      <td>1</td>\n",
       "      <td>9086</td>\n",
       "      <td>0</td>\n",
       "      <td>0</td>\n",
       "      <td>0</td>\n",
       "      <td>0</td>\n",
       "      <td>...</td>\n",
       "      <td>0</td>\n",
       "      <td>0</td>\n",
       "      <td>0</td>\n",
       "      <td>0</td>\n",
       "      <td>0</td>\n",
       "      <td>0</td>\n",
       "      <td>1</td>\n",
       "      <td>0</td>\n",
       "      <td>0</td>\n",
       "      <td>1</td>\n",
       "    </tr>\n",
       "    <tr>\n",
       "      <th>58089</th>\n",
       "      <td>19</td>\n",
       "      <td>0</td>\n",
       "      <td>1</td>\n",
       "      <td>0</td>\n",
       "      <td>1</td>\n",
       "      <td>3080</td>\n",
       "      <td>0</td>\n",
       "      <td>0</td>\n",
       "      <td>0</td>\n",
       "      <td>1</td>\n",
       "      <td>...</td>\n",
       "      <td>0</td>\n",
       "      <td>0</td>\n",
       "      <td>0</td>\n",
       "      <td>0</td>\n",
       "      <td>0</td>\n",
       "      <td>0</td>\n",
       "      <td>0</td>\n",
       "      <td>0</td>\n",
       "      <td>1</td>\n",
       "      <td>1</td>\n",
       "    </tr>\n",
       "  </tbody>\n",
       "</table>\n",
       "<p>5 rows × 43 columns</p>\n",
       "</div>\n",
       "      <button class=\"colab-df-convert\" onclick=\"convertToInteractive('df-f74af162-bba4-43ea-b97d-9eea198d2d4f')\"\n",
       "              title=\"Convert this dataframe to an interactive table.\"\n",
       "              style=\"display:none;\">\n",
       "        \n",
       "  <svg xmlns=\"http://www.w3.org/2000/svg\" height=\"24px\"viewBox=\"0 0 24 24\"\n",
       "       width=\"24px\">\n",
       "    <path d=\"M0 0h24v24H0V0z\" fill=\"none\"/>\n",
       "    <path d=\"M18.56 5.44l.94 2.06.94-2.06 2.06-.94-2.06-.94-.94-2.06-.94 2.06-2.06.94zm-11 1L8.5 8.5l.94-2.06 2.06-.94-2.06-.94L8.5 2.5l-.94 2.06-2.06.94zm10 10l.94 2.06.94-2.06 2.06-.94-2.06-.94-.94-2.06-.94 2.06-2.06.94z\"/><path d=\"M17.41 7.96l-1.37-1.37c-.4-.4-.92-.59-1.43-.59-.52 0-1.04.2-1.43.59L10.3 9.45l-7.72 7.72c-.78.78-.78 2.05 0 2.83L4 21.41c.39.39.9.59 1.41.59.51 0 1.02-.2 1.41-.59l7.78-7.78 2.81-2.81c.8-.78.8-2.07 0-2.86zM5.41 20L4 18.59l7.72-7.72 1.47 1.35L5.41 20z\"/>\n",
       "  </svg>\n",
       "      </button>\n",
       "      \n",
       "  <style>\n",
       "    .colab-df-container {\n",
       "      display:flex;\n",
       "      flex-wrap:wrap;\n",
       "      gap: 12px;\n",
       "    }\n",
       "\n",
       "    .colab-df-convert {\n",
       "      background-color: #E8F0FE;\n",
       "      border: none;\n",
       "      border-radius: 50%;\n",
       "      cursor: pointer;\n",
       "      display: none;\n",
       "      fill: #1967D2;\n",
       "      height: 32px;\n",
       "      padding: 0 0 0 0;\n",
       "      width: 32px;\n",
       "    }\n",
       "\n",
       "    .colab-df-convert:hover {\n",
       "      background-color: #E2EBFA;\n",
       "      box-shadow: 0px 1px 2px rgba(60, 64, 67, 0.3), 0px 1px 3px 1px rgba(60, 64, 67, 0.15);\n",
       "      fill: #174EA6;\n",
       "    }\n",
       "\n",
       "    [theme=dark] .colab-df-convert {\n",
       "      background-color: #3B4455;\n",
       "      fill: #D2E3FC;\n",
       "    }\n",
       "\n",
       "    [theme=dark] .colab-df-convert:hover {\n",
       "      background-color: #434B5C;\n",
       "      box-shadow: 0px 1px 3px 1px rgba(0, 0, 0, 0.15);\n",
       "      filter: drop-shadow(0px 1px 2px rgba(0, 0, 0, 0.3));\n",
       "      fill: #FFFFFF;\n",
       "    }\n",
       "  </style>\n",
       "\n",
       "      <script>\n",
       "        const buttonEl =\n",
       "          document.querySelector('#df-f74af162-bba4-43ea-b97d-9eea198d2d4f button.colab-df-convert');\n",
       "        buttonEl.style.display =\n",
       "          google.colab.kernel.accessAllowed ? 'block' : 'none';\n",
       "\n",
       "        async function convertToInteractive(key) {\n",
       "          const element = document.querySelector('#df-f74af162-bba4-43ea-b97d-9eea198d2d4f');\n",
       "          const dataTable =\n",
       "            await google.colab.kernel.invokeFunction('convertToInteractive',\n",
       "                                                     [key], {});\n",
       "          if (!dataTable) return;\n",
       "\n",
       "          const docLinkHtml = 'Like what you see? Visit the ' +\n",
       "            '<a target=\"_blank\" href=https://colab.research.google.com/notebooks/data_table.ipynb>data table notebook</a>'\n",
       "            + ' to learn more about interactive tables.';\n",
       "          element.innerHTML = '';\n",
       "          dataTable['output_type'] = 'display_data';\n",
       "          await google.colab.output.renderOutput(dataTable, element);\n",
       "          const docLink = document.createElement('div');\n",
       "          docLink.innerHTML = docLinkHtml;\n",
       "          element.appendChild(docLink);\n",
       "        }\n",
       "      </script>\n",
       "    </div>\n",
       "  </div>\n",
       "  "
      ],
      "text/plain": [
       "       Age  Age_Gap  Has_Own_House  Is_Spouse  Reco_Individual_Insurance  \\\n",
       "28149   40        0              0          0                          1   \n",
       "57885   56        0              0          0                          1   \n",
       "26784   49        0              0          0                          1   \n",
       "21185   43        0              1          0                          1   \n",
       "58089   19        0              1          0                          1   \n",
       "\n",
       "       Reco_Policy_Premium  Holding_Policy_Duration  Health_Indicator_2  \\\n",
       "28149                 9136                       11                   0   \n",
       "57885                17490                       15                   0   \n",
       "26784                12200                        1                   0   \n",
       "21185                 9086                        0                   0   \n",
       "58089                 3080                        0                   0   \n",
       "\n",
       "       Health_Indicator_3  Health_Indicator_4  ...  Region_Group_19  \\\n",
       "28149                   0                   0  ...                0   \n",
       "57885                   0                   0  ...                0   \n",
       "26784                   1                   0  ...                0   \n",
       "21185                   0                   0  ...                0   \n",
       "58089                   0                   1  ...                0   \n",
       "\n",
       "       Holding_Policy_Type_1  Holding_Policy_Type_2  Holding_Policy_Type_3  \\\n",
       "28149                      0                      0                      1   \n",
       "57885                      1                      0                      0   \n",
       "26784                      0                      0                      1   \n",
       "21185                      0                      0                      0   \n",
       "58089                      0                      0                      0   \n",
       "\n",
       "       Holding_Policy_Type_4  Reco_Policy_Groups_1  Reco_Policy_Groups_2  \\\n",
       "28149                      0                     0                     0   \n",
       "57885                      0                     1                     0   \n",
       "26784                      0                     0                     1   \n",
       "21185                      0                     0                     1   \n",
       "58089                      0                     0                     0   \n",
       "\n",
       "       Reco_Policy_Groups_3  Reco_Policy_Groups_4  Response  \n",
       "28149                     0                     0         0  \n",
       "57885                     0                     0         1  \n",
       "26784                     0                     0         0  \n",
       "21185                     0                     0         1  \n",
       "58089                     0                     1         1  \n",
       "\n",
       "[5 rows x 43 columns]"
      ]
     },
     "execution_count": 9,
     "metadata": {},
     "output_type": "execute_result"
    }
   ],
   "source": [
    "df_train.head()"
   ]
  },
  {
   "cell_type": "code",
   "execution_count": null,
   "metadata": {
    "colab": {
     "base_uri": "https://localhost:8080/"
    },
    "executionInfo": {
     "elapsed": 4,
     "status": "ok",
     "timestamp": 1668646373717,
     "user": {
      "displayName": "Mariana Cabride",
      "userId": "17414035056376663625"
     },
     "user_tz": 180
    },
    "id": "8KkFe8Ad_QGj",
    "outputId": "54f3aa77-78da-4a6e-e0bd-0263dd89ada0"
   },
   "outputs": [
    {
     "name": "stdout",
     "output_type": "stream",
     "text": [
      "**** Testing set ****\n",
      "\n",
      "<class 'pandas.core.frame.DataFrame'>\n",
      "Int64Index: 15470 entries, 12251 to 26309\n",
      "Data columns (total 43 columns):\n",
      " #   Column                     Non-Null Count  Dtype\n",
      "---  ------                     --------------  -----\n",
      " 0   Age                        15470 non-null  int64\n",
      " 1   Age_Gap                    15470 non-null  int64\n",
      " 2   Has_Own_House              15470 non-null  int64\n",
      " 3   Is_Spouse                  15470 non-null  int64\n",
      " 4   Reco_Individual_Insurance  15470 non-null  int64\n",
      " 5   Reco_Policy_Premium        15470 non-null  int64\n",
      " 6   Holding_Policy_Duration    15470 non-null  int64\n",
      " 7   Health_Indicator_2         15470 non-null  int64\n",
      " 8   Health_Indicator_3         15470 non-null  int64\n",
      " 9   Health_Indicator_4         15470 non-null  int64\n",
      " 10  Health_Indicator_5         15470 non-null  int64\n",
      " 11  City_Group_1               15470 non-null  int64\n",
      " 12  City_Group_2               15470 non-null  int64\n",
      " 13  City_Group_3               15470 non-null  int64\n",
      " 14  City_Group_4               15470 non-null  int64\n",
      " 15  Region_Group_1             15470 non-null  int64\n",
      " 16  Region_Group_2             15470 non-null  int64\n",
      " 17  Region_Group_3             15470 non-null  int64\n",
      " 18  Region_Group_4             15470 non-null  int64\n",
      " 19  Region_Group_5             15470 non-null  int64\n",
      " 20  Region_Group_6             15470 non-null  int64\n",
      " 21  Region_Group_7             15470 non-null  int64\n",
      " 22  Region_Group_8             15470 non-null  int64\n",
      " 23  Region_Group_9             15470 non-null  int64\n",
      " 24  Region_Group_10            15470 non-null  int64\n",
      " 25  Region_Group_11            15470 non-null  int64\n",
      " 26  Region_Group_12            15470 non-null  int64\n",
      " 27  Region_Group_13            15470 non-null  int64\n",
      " 28  Region_Group_14            15470 non-null  int64\n",
      " 29  Region_Group_15            15470 non-null  int64\n",
      " 30  Region_Group_16            15470 non-null  int64\n",
      " 31  Region_Group_17            15470 non-null  int64\n",
      " 32  Region_Group_18            15470 non-null  int64\n",
      " 33  Region_Group_19            15470 non-null  int64\n",
      " 34  Holding_Policy_Type_1      15470 non-null  int64\n",
      " 35  Holding_Policy_Type_2      15470 non-null  int64\n",
      " 36  Holding_Policy_Type_3      15470 non-null  int64\n",
      " 37  Holding_Policy_Type_4      15470 non-null  int64\n",
      " 38  Reco_Policy_Groups_1       15470 non-null  int64\n",
      " 39  Reco_Policy_Groups_2       15470 non-null  int64\n",
      " 40  Reco_Policy_Groups_3       15470 non-null  int64\n",
      " 41  Reco_Policy_Groups_4       15470 non-null  int64\n",
      " 42  Response                   15470 non-null  int64\n",
      "dtypes: int64(43)\n",
      "memory usage: 5.2 MB\n",
      "None\n",
      "(15470, 43)\n"
     ]
    }
   ],
   "source": [
    "print(f'**** Testing set ****\\n')\n",
    "print(f'{df_test.info()}')\n",
    "print(f'{df_test.shape}')"
   ]
  },
  {
   "cell_type": "code",
   "execution_count": null,
   "metadata": {
    "colab": {
     "base_uri": "https://localhost:8080/",
     "height": 300
    },
    "executionInfo": {
     "elapsed": 846,
     "status": "ok",
     "timestamp": 1668646376816,
     "user": {
      "displayName": "Mariana Cabride",
      "userId": "17414035056376663625"
     },
     "user_tz": 180
    },
    "id": "igmDG2qf_P8W",
    "outputId": "917bb208-2733-443e-83cf-ae5a974d55f0"
   },
   "outputs": [
    {
     "data": {
      "text/html": [
       "\n",
       "  <div id=\"df-6e9bfd6d-1798-4365-ae8d-efa4b9c4e1d5\">\n",
       "    <div class=\"colab-df-container\">\n",
       "      <div>\n",
       "<style scoped>\n",
       "    .dataframe tbody tr th:only-of-type {\n",
       "        vertical-align: middle;\n",
       "    }\n",
       "\n",
       "    .dataframe tbody tr th {\n",
       "        vertical-align: top;\n",
       "    }\n",
       "\n",
       "    .dataframe thead th {\n",
       "        text-align: right;\n",
       "    }\n",
       "</style>\n",
       "<table border=\"1\" class=\"dataframe\">\n",
       "  <thead>\n",
       "    <tr style=\"text-align: right;\">\n",
       "      <th></th>\n",
       "      <th>Age</th>\n",
       "      <th>Age_Gap</th>\n",
       "      <th>Has_Own_House</th>\n",
       "      <th>Is_Spouse</th>\n",
       "      <th>Reco_Individual_Insurance</th>\n",
       "      <th>Reco_Policy_Premium</th>\n",
       "      <th>Holding_Policy_Duration</th>\n",
       "      <th>Health_Indicator_2</th>\n",
       "      <th>Health_Indicator_3</th>\n",
       "      <th>Health_Indicator_4</th>\n",
       "      <th>...</th>\n",
       "      <th>Region_Group_19</th>\n",
       "      <th>Holding_Policy_Type_1</th>\n",
       "      <th>Holding_Policy_Type_2</th>\n",
       "      <th>Holding_Policy_Type_3</th>\n",
       "      <th>Holding_Policy_Type_4</th>\n",
       "      <th>Reco_Policy_Groups_1</th>\n",
       "      <th>Reco_Policy_Groups_2</th>\n",
       "      <th>Reco_Policy_Groups_3</th>\n",
       "      <th>Reco_Policy_Groups_4</th>\n",
       "      <th>Response</th>\n",
       "    </tr>\n",
       "  </thead>\n",
       "  <tbody>\n",
       "    <tr>\n",
       "      <th>12251</th>\n",
       "      <td>31</td>\n",
       "      <td>0</td>\n",
       "      <td>1</td>\n",
       "      <td>0</td>\n",
       "      <td>1</td>\n",
       "      <td>6300</td>\n",
       "      <td>0</td>\n",
       "      <td>0</td>\n",
       "      <td>0</td>\n",
       "      <td>0</td>\n",
       "      <td>...</td>\n",
       "      <td>0</td>\n",
       "      <td>0</td>\n",
       "      <td>0</td>\n",
       "      <td>0</td>\n",
       "      <td>0</td>\n",
       "      <td>0</td>\n",
       "      <td>0</td>\n",
       "      <td>0</td>\n",
       "      <td>0</td>\n",
       "      <td>0</td>\n",
       "    </tr>\n",
       "    <tr>\n",
       "      <th>15666</th>\n",
       "      <td>24</td>\n",
       "      <td>0</td>\n",
       "      <td>1</td>\n",
       "      <td>0</td>\n",
       "      <td>1</td>\n",
       "      <td>4518</td>\n",
       "      <td>2</td>\n",
       "      <td>0</td>\n",
       "      <td>0</td>\n",
       "      <td>0</td>\n",
       "      <td>...</td>\n",
       "      <td>0</td>\n",
       "      <td>1</td>\n",
       "      <td>0</td>\n",
       "      <td>0</td>\n",
       "      <td>0</td>\n",
       "      <td>0</td>\n",
       "      <td>0</td>\n",
       "      <td>1</td>\n",
       "      <td>0</td>\n",
       "      <td>1</td>\n",
       "    </tr>\n",
       "    <tr>\n",
       "      <th>13006</th>\n",
       "      <td>48</td>\n",
       "      <td>11</td>\n",
       "      <td>0</td>\n",
       "      <td>1</td>\n",
       "      <td>0</td>\n",
       "      <td>18695</td>\n",
       "      <td>11</td>\n",
       "      <td>0</td>\n",
       "      <td>1</td>\n",
       "      <td>0</td>\n",
       "      <td>...</td>\n",
       "      <td>0</td>\n",
       "      <td>0</td>\n",
       "      <td>1</td>\n",
       "      <td>0</td>\n",
       "      <td>0</td>\n",
       "      <td>0</td>\n",
       "      <td>0</td>\n",
       "      <td>1</td>\n",
       "      <td>0</td>\n",
       "      <td>1</td>\n",
       "    </tr>\n",
       "    <tr>\n",
       "      <th>40235</th>\n",
       "      <td>26</td>\n",
       "      <td>0</td>\n",
       "      <td>0</td>\n",
       "      <td>0</td>\n",
       "      <td>1</td>\n",
       "      <td>6220</td>\n",
       "      <td>5</td>\n",
       "      <td>1</td>\n",
       "      <td>0</td>\n",
       "      <td>0</td>\n",
       "      <td>...</td>\n",
       "      <td>0</td>\n",
       "      <td>1</td>\n",
       "      <td>0</td>\n",
       "      <td>0</td>\n",
       "      <td>0</td>\n",
       "      <td>0</td>\n",
       "      <td>0</td>\n",
       "      <td>1</td>\n",
       "      <td>0</td>\n",
       "      <td>0</td>\n",
       "    </tr>\n",
       "    <tr>\n",
       "      <th>58261</th>\n",
       "      <td>75</td>\n",
       "      <td>0</td>\n",
       "      <td>0</td>\n",
       "      <td>0</td>\n",
       "      <td>1</td>\n",
       "      <td>21480</td>\n",
       "      <td>6</td>\n",
       "      <td>0</td>\n",
       "      <td>1</td>\n",
       "      <td>0</td>\n",
       "      <td>...</td>\n",
       "      <td>0</td>\n",
       "      <td>0</td>\n",
       "      <td>0</td>\n",
       "      <td>1</td>\n",
       "      <td>0</td>\n",
       "      <td>1</td>\n",
       "      <td>0</td>\n",
       "      <td>0</td>\n",
       "      <td>0</td>\n",
       "      <td>1</td>\n",
       "    </tr>\n",
       "  </tbody>\n",
       "</table>\n",
       "<p>5 rows × 43 columns</p>\n",
       "</div>\n",
       "      <button class=\"colab-df-convert\" onclick=\"convertToInteractive('df-6e9bfd6d-1798-4365-ae8d-efa4b9c4e1d5')\"\n",
       "              title=\"Convert this dataframe to an interactive table.\"\n",
       "              style=\"display:none;\">\n",
       "        \n",
       "  <svg xmlns=\"http://www.w3.org/2000/svg\" height=\"24px\"viewBox=\"0 0 24 24\"\n",
       "       width=\"24px\">\n",
       "    <path d=\"M0 0h24v24H0V0z\" fill=\"none\"/>\n",
       "    <path d=\"M18.56 5.44l.94 2.06.94-2.06 2.06-.94-2.06-.94-.94-2.06-.94 2.06-2.06.94zm-11 1L8.5 8.5l.94-2.06 2.06-.94-2.06-.94L8.5 2.5l-.94 2.06-2.06.94zm10 10l.94 2.06.94-2.06 2.06-.94-2.06-.94-.94-2.06-.94 2.06-2.06.94z\"/><path d=\"M17.41 7.96l-1.37-1.37c-.4-.4-.92-.59-1.43-.59-.52 0-1.04.2-1.43.59L10.3 9.45l-7.72 7.72c-.78.78-.78 2.05 0 2.83L4 21.41c.39.39.9.59 1.41.59.51 0 1.02-.2 1.41-.59l7.78-7.78 2.81-2.81c.8-.78.8-2.07 0-2.86zM5.41 20L4 18.59l7.72-7.72 1.47 1.35L5.41 20z\"/>\n",
       "  </svg>\n",
       "      </button>\n",
       "      \n",
       "  <style>\n",
       "    .colab-df-container {\n",
       "      display:flex;\n",
       "      flex-wrap:wrap;\n",
       "      gap: 12px;\n",
       "    }\n",
       "\n",
       "    .colab-df-convert {\n",
       "      background-color: #E8F0FE;\n",
       "      border: none;\n",
       "      border-radius: 50%;\n",
       "      cursor: pointer;\n",
       "      display: none;\n",
       "      fill: #1967D2;\n",
       "      height: 32px;\n",
       "      padding: 0 0 0 0;\n",
       "      width: 32px;\n",
       "    }\n",
       "\n",
       "    .colab-df-convert:hover {\n",
       "      background-color: #E2EBFA;\n",
       "      box-shadow: 0px 1px 2px rgba(60, 64, 67, 0.3), 0px 1px 3px 1px rgba(60, 64, 67, 0.15);\n",
       "      fill: #174EA6;\n",
       "    }\n",
       "\n",
       "    [theme=dark] .colab-df-convert {\n",
       "      background-color: #3B4455;\n",
       "      fill: #D2E3FC;\n",
       "    }\n",
       "\n",
       "    [theme=dark] .colab-df-convert:hover {\n",
       "      background-color: #434B5C;\n",
       "      box-shadow: 0px 1px 3px 1px rgba(0, 0, 0, 0.15);\n",
       "      filter: drop-shadow(0px 1px 2px rgba(0, 0, 0, 0.3));\n",
       "      fill: #FFFFFF;\n",
       "    }\n",
       "  </style>\n",
       "\n",
       "      <script>\n",
       "        const buttonEl =\n",
       "          document.querySelector('#df-6e9bfd6d-1798-4365-ae8d-efa4b9c4e1d5 button.colab-df-convert');\n",
       "        buttonEl.style.display =\n",
       "          google.colab.kernel.accessAllowed ? 'block' : 'none';\n",
       "\n",
       "        async function convertToInteractive(key) {\n",
       "          const element = document.querySelector('#df-6e9bfd6d-1798-4365-ae8d-efa4b9c4e1d5');\n",
       "          const dataTable =\n",
       "            await google.colab.kernel.invokeFunction('convertToInteractive',\n",
       "                                                     [key], {});\n",
       "          if (!dataTable) return;\n",
       "\n",
       "          const docLinkHtml = 'Like what you see? Visit the ' +\n",
       "            '<a target=\"_blank\" href=https://colab.research.google.com/notebooks/data_table.ipynb>data table notebook</a>'\n",
       "            + ' to learn more about interactive tables.';\n",
       "          element.innerHTML = '';\n",
       "          dataTable['output_type'] = 'display_data';\n",
       "          await google.colab.output.renderOutput(dataTable, element);\n",
       "          const docLink = document.createElement('div');\n",
       "          docLink.innerHTML = docLinkHtml;\n",
       "          element.appendChild(docLink);\n",
       "        }\n",
       "      </script>\n",
       "    </div>\n",
       "  </div>\n",
       "  "
      ],
      "text/plain": [
       "       Age  Age_Gap  Has_Own_House  Is_Spouse  Reco_Individual_Insurance  \\\n",
       "12251   31        0              1          0                          1   \n",
       "15666   24        0              1          0                          1   \n",
       "13006   48       11              0          1                          0   \n",
       "40235   26        0              0          0                          1   \n",
       "58261   75        0              0          0                          1   \n",
       "\n",
       "       Reco_Policy_Premium  Holding_Policy_Duration  Health_Indicator_2  \\\n",
       "12251                 6300                        0                   0   \n",
       "15666                 4518                        2                   0   \n",
       "13006                18695                       11                   0   \n",
       "40235                 6220                        5                   1   \n",
       "58261                21480                        6                   0   \n",
       "\n",
       "       Health_Indicator_3  Health_Indicator_4  ...  Region_Group_19  \\\n",
       "12251                   0                   0  ...                0   \n",
       "15666                   0                   0  ...                0   \n",
       "13006                   1                   0  ...                0   \n",
       "40235                   0                   0  ...                0   \n",
       "58261                   1                   0  ...                0   \n",
       "\n",
       "       Holding_Policy_Type_1  Holding_Policy_Type_2  Holding_Policy_Type_3  \\\n",
       "12251                      0                      0                      0   \n",
       "15666                      1                      0                      0   \n",
       "13006                      0                      1                      0   \n",
       "40235                      1                      0                      0   \n",
       "58261                      0                      0                      1   \n",
       "\n",
       "       Holding_Policy_Type_4  Reco_Policy_Groups_1  Reco_Policy_Groups_2  \\\n",
       "12251                      0                     0                     0   \n",
       "15666                      0                     0                     0   \n",
       "13006                      0                     0                     0   \n",
       "40235                      0                     0                     0   \n",
       "58261                      0                     1                     0   \n",
       "\n",
       "       Reco_Policy_Groups_3  Reco_Policy_Groups_4  Response  \n",
       "12251                     0                     0         0  \n",
       "15666                     1                     0         1  \n",
       "13006                     1                     0         1  \n",
       "40235                     1                     0         0  \n",
       "58261                     0                     0         1  \n",
       "\n",
       "[5 rows x 43 columns]"
      ]
     },
     "execution_count": 11,
     "metadata": {},
     "output_type": "execute_result"
    }
   ],
   "source": [
    "df_test.head()"
   ]
  },
  {
   "cell_type": "markdown",
   "metadata": {
    "id": "siR-6p_7_3B8"
   },
   "source": [
    "# 3. Saving DFs"
   ]
  },
  {
   "cell_type": "code",
   "execution_count": null,
   "metadata": {
    "id": "aEj2S9bN_cpO"
   },
   "outputs": [],
   "source": [
    "# Salvando"
   ]
  },
  {
   "cell_type": "code",
   "execution_count": null,
   "metadata": {
    "id": "QSlTHcXG_cXT"
   },
   "outputs": [],
   "source": [
    "df_train.to_csv('/content/drive/MyDrive/Pós-Graduação/2o Semestre/Aprendizado de Máquinas e Reconhecimento de padrões/Health Insurance/df_train.csv', index=False)\n",
    "df_test.to_csv('/content/drive/MyDrive/Pós-Graduação/2o Semestre/Aprendizado de Máquinas e Reconhecimento de padrões/Health Insurance/df_test.csv', index=False)"
   ]
  },
  {
   "cell_type": "markdown",
   "metadata": {
    "id": "SNqu8zLy3XxZ"
   },
   "source": [
    "# 4. Separate the features and the classes (target outcome)"
   ]
  },
  {
   "cell_type": "markdown",
   "metadata": {
    "id": "cUNT1XcK1d6x"
   },
   "source": [
    "## 4.1 Train"
   ]
  },
  {
   "cell_type": "code",
   "execution_count": null,
   "metadata": {
    "id": "JrbO3wzi20W8"
   },
   "outputs": [],
   "source": [
    "# store the target outcome into a numpy array\n",
    "y_train = df_train['Response'].values"
   ]
  },
  {
   "cell_type": "code",
   "execution_count": null,
   "metadata": {
    "colab": {
     "base_uri": "https://localhost:8080/"
    },
    "executionInfo": {
     "elapsed": 6,
     "status": "ok",
     "timestamp": 1668646494131,
     "user": {
      "displayName": "Mariana Cabride",
      "userId": "17414035056376663625"
     },
     "user_tz": 180
    },
    "id": "bgsx-qLa38-F",
    "outputId": "0fc88700-e6be-40d8-83f7-a3b4109ed0dd"
   },
   "outputs": [
    {
     "data": {
      "text/plain": [
       "(61876,)"
      ]
     },
     "execution_count": 15,
     "metadata": {},
     "output_type": "execute_result"
    }
   ],
   "source": [
    "y_train.shape"
   ]
  },
  {
   "cell_type": "code",
   "execution_count": null,
   "metadata": {
    "id": "IeWrAtG73_AA"
   },
   "outputs": [],
   "source": [
    "# overwrite the dataframe with only the features  \n",
    "df_train = df_train.drop(columns=['Response'])"
   ]
  },
  {
   "cell_type": "code",
   "execution_count": null,
   "metadata": {
    "colab": {
     "base_uri": "https://localhost:8080/"
    },
    "executionInfo": {
     "elapsed": 4,
     "status": "ok",
     "timestamp": 1668646495024,
     "user": {
      "displayName": "Mariana Cabride",
      "userId": "17414035056376663625"
     },
     "user_tz": 180
    },
    "id": "1xj2qfgEAjJi",
    "outputId": "b218757e-8b12-49d5-9ae2-ba3559b09a85"
   },
   "outputs": [
    {
     "data": {
      "text/plain": [
       "(61876, 42)"
      ]
     },
     "execution_count": 17,
     "metadata": {},
     "output_type": "execute_result"
    }
   ],
   "source": [
    "df_train.shape"
   ]
  },
  {
   "cell_type": "markdown",
   "metadata": {
    "id": "pKN8EwD_RXEW"
   },
   "source": [
    "## 4.2 Test"
   ]
  },
  {
   "cell_type": "code",
   "execution_count": null,
   "metadata": {
    "id": "H1-5Jc_SRbYi"
   },
   "outputs": [],
   "source": [
    "# store the target outcome into a numpy array\n",
    "y_test = df_test['Response'].values"
   ]
  },
  {
   "cell_type": "code",
   "execution_count": null,
   "metadata": {
    "colab": {
     "base_uri": "https://localhost:8080/"
    },
    "executionInfo": {
     "elapsed": 252,
     "status": "ok",
     "timestamp": 1668649756165,
     "user": {
      "displayName": "Mariana Cabride",
      "userId": "17414035056376663625"
     },
     "user_tz": 180
    },
    "id": "r3Mt3gkoRbL0",
    "outputId": "175b9c8b-0af2-4c59-cd21-9917dd1e29b1"
   },
   "outputs": [
    {
     "data": {
      "text/plain": [
       "(15470,)"
      ]
     },
     "execution_count": 38,
     "metadata": {},
     "output_type": "execute_result"
    }
   ],
   "source": [
    "y_test.shape"
   ]
  },
  {
   "cell_type": "code",
   "execution_count": null,
   "metadata": {
    "id": "P1pFSF3PRawf"
   },
   "outputs": [],
   "source": [
    "# overwrite the dataframe with only the features  \n",
    "df_test = df_test.drop(columns=['Response'])"
   ]
  },
  {
   "cell_type": "code",
   "execution_count": null,
   "metadata": {
    "colab": {
     "base_uri": "https://localhost:8080/"
    },
    "executionInfo": {
     "elapsed": 367,
     "status": "ok",
     "timestamp": 1668649810460,
     "user": {
      "displayName": "Mariana Cabride",
      "userId": "17414035056376663625"
     },
     "user_tz": 180
    },
    "id": "N1-pefLLRcbS",
    "outputId": "92baa8c8-7161-42d1-e627-aff5ccd01190"
   },
   "outputs": [
    {
     "data": {
      "text/plain": [
       "(15470, 42)"
      ]
     },
     "execution_count": 40,
     "metadata": {},
     "output_type": "execute_result"
    }
   ],
   "source": [
    "df_test.shape"
   ]
  },
  {
   "cell_type": "markdown",
   "metadata": {
    "id": "x4h1gHqAAu0y"
   },
   "source": [
    "# 5. Separate the numerical and categorical features\n",
    "Since we perform different preprocessing tasks (transformations) to _numerical features_ and _categorical ones_, let's split them into two different dataframes."
   ]
  },
  {
   "cell_type": "code",
   "execution_count": null,
   "metadata": {
    "id": "qVqk5_CJAnEY"
   },
   "outputs": [],
   "source": [
    "# numerical variables\n",
    "num_vars = ['Age', 'Age_Gap', 'Reco_Policy_Premium', 'Holding_Policy_Duration']\n",
    "\n",
    "# categorical binary variables\n",
    "bin_vars = ['Has_Own_House', 'Is_Spouse', 'Reco_Individual_Insurance']\n",
    "\n",
    "# categorical variables\n",
    "cat_vars = ['Health_Indicator_2', 'Health_Indicator_3',\n",
    "       'Health_Indicator_4', 'Health_Indicator_5', 'City_Group_1',\n",
    "       'City_Group_2', 'City_Group_3', 'City_Group_4', 'Region_Group_1',\n",
    "       'Region_Group_2', 'Region_Group_3', 'Region_Group_4', 'Region_Group_5',\n",
    "       'Region_Group_6', 'Region_Group_7', 'Region_Group_8', 'Region_Group_9',\n",
    "       'Region_Group_10', 'Region_Group_11', 'Region_Group_12',\n",
    "       'Region_Group_13', 'Region_Group_14', 'Region_Group_15',\n",
    "       'Region_Group_16', 'Region_Group_17', 'Region_Group_18',\n",
    "       'Region_Group_19', 'Holding_Policy_Type_1', 'Holding_Policy_Type_2',\n",
    "       'Holding_Policy_Type_3', 'Holding_Policy_Type_4',\n",
    "       'Reco_Policy_Groups_1', 'Reco_Policy_Groups_2', 'Reco_Policy_Groups_3',\n",
    "       'Reco_Policy_Groups_4']"
   ]
  },
  {
   "cell_type": "code",
   "execution_count": null,
   "metadata": {
    "colab": {
     "base_uri": "https://localhost:8080/"
    },
    "executionInfo": {
     "elapsed": 287,
     "status": "ok",
     "timestamp": 1668646551028,
     "user": {
      "displayName": "Mariana Cabride",
      "userId": "17414035056376663625"
     },
     "user_tz": 180
    },
    "id": "gaouLWpxk2gP",
    "outputId": "2d5a68eb-8d6c-4a91-e622-d7efedb82a13"
   },
   "outputs": [
    {
     "data": {
      "text/plain": [
       "42"
      ]
     },
     "execution_count": 19,
     "metadata": {},
     "output_type": "execute_result"
    }
   ],
   "source": [
    "len(df_train.columns)"
   ]
  },
  {
   "cell_type": "code",
   "execution_count": null,
   "metadata": {
    "colab": {
     "base_uri": "https://localhost:8080/"
    },
    "executionInfo": {
     "elapsed": 6,
     "status": "ok",
     "timestamp": 1668646551355,
     "user": {
      "displayName": "Mariana Cabride",
      "userId": "17414035056376663625"
     },
     "user_tz": 180
    },
    "id": "7xomvDHBlXjX",
    "outputId": "5c9c9f9c-1ccd-418a-ceca-055bb0249a3a"
   },
   "outputs": [
    {
     "data": {
      "text/plain": [
       "(4, 3, 35)"
      ]
     },
     "execution_count": 20,
     "metadata": {},
     "output_type": "execute_result"
    }
   ],
   "source": [
    "len(num_vars),len(bin_vars),len(cat_vars)"
   ]
  },
  {
   "cell_type": "code",
   "execution_count": null,
   "metadata": {
    "id": "rT3_RWn2A6c5"
   },
   "outputs": [],
   "source": [
    "## separating the features into specific dataset according to their type\n",
    "df_train_num = df_train[num_vars]\n",
    "df_train_bin = df_train[bin_vars]\n",
    "df_train_cat = df_train[cat_vars]"
   ]
  },
  {
   "cell_type": "markdown",
   "metadata": {
    "id": "8pLU96Q5CLY_"
   },
   "source": [
    "# 6. Creating the Preprocessing Pipeline"
   ]
  },
  {
   "cell_type": "code",
   "execution_count": null,
   "metadata": {
    "id": "9OkGrNSZCGz-"
   },
   "outputs": [],
   "source": [
    "from sklearn.impute import SimpleImputer # Ainda nao tirei pq preciso disso para a parte de bin e cat pipelines\n",
    "from sklearn.preprocessing import RobustScaler\n",
    "from sklearn.pipeline import Pipeline\n",
    "from sklearn.compose import ColumnTransformer #utpreciso utilizar pois tenho diferentes tipos de dados - numericos, binarios e categoricos\n",
    "\n",
    "num_pipeline = Pipeline([('imputer', SimpleImputer(strategy='median')),('robust_scaler', RobustScaler())])\n",
    "\n",
    "bin_pipeline = Pipeline([('imputer', SimpleImputer(strategy='most_frequent'))])\n",
    "\n",
    "cat_pipeline = Pipeline([('imputer', SimpleImputer(strategy='most_frequent'))])\n",
    "\n",
    "# (name, transformer, columns)\n",
    "preprocessed_pipeline = ColumnTransformer([\n",
    "    ('numerical', num_pipeline, num_vars),\n",
    "    ('binary', bin_pipeline, bin_vars),\n",
    "    ('categorical', cat_pipeline, cat_vars)\n",
    "])"
   ]
  },
  {
   "cell_type": "markdown",
   "metadata": {
    "id": "_4ExO8aRC_6W"
   },
   "source": [
    "# 7. Getting the independent (features) and classes (outcome)"
   ]
  },
  {
   "cell_type": "code",
   "execution_count": null,
   "metadata": {
    "colab": {
     "base_uri": "https://localhost:8080/"
    },
    "executionInfo": {
     "elapsed": 280,
     "status": "ok",
     "timestamp": 1668646560187,
     "user": {
      "displayName": "Mariana Cabride",
      "userId": "17414035056376663625"
     },
     "user_tz": 180
    },
    "id": "KTebau3hCxZa",
    "outputId": "35935206-0a84-4181-9c07-2e6be4fe81d6"
   },
   "outputs": [
    {
     "data": {
      "text/plain": [
       "(61876, 42)"
      ]
     },
     "execution_count": 23,
     "metadata": {},
     "output_type": "execute_result"
    }
   ],
   "source": [
    "X_train = preprocessed_pipeline.fit_transform(df_train)\n",
    "X_train.shape"
   ]
  },
  {
   "cell_type": "code",
   "execution_count": null,
   "metadata": {
    "colab": {
     "base_uri": "https://localhost:8080/"
    },
    "executionInfo": {
     "elapsed": 4,
     "status": "ok",
     "timestamp": 1668646562052,
     "user": {
      "displayName": "Mariana Cabride",
      "userId": "17414035056376663625"
     },
     "user_tz": 180
    },
    "id": "exxZhM45CxWl",
    "outputId": "c531edad-1d94-4755-cec3-5dd29f732aec"
   },
   "outputs": [
    {
     "data": {
      "text/plain": [
       "(61876,)"
      ]
     },
     "execution_count": 24,
     "metadata": {},
     "output_type": "execute_result"
    }
   ],
   "source": [
    "# we already have y_train\n",
    "y_train.shape"
   ]
  },
  {
   "cell_type": "markdown",
   "metadata": {
    "id": "Xk_z5TqODYYh"
   },
   "source": [
    "# 8. Train ML Algorithms\n",
    "\n",
    "Light Gradient Boosting Machine\n",
    "\n",
    "Gradient Boosting Classifier\t\n",
    "\n",
    "Random Forest Classifier\n",
    "\n",
    "Extra Trees Classifier\n",
    "\n",
    "Decision Tree Classifier\t"
   ]
  },
  {
   "cell_type": "code",
   "execution_count": null,
   "metadata": {
    "id": "Df3vG8637Hco"
   },
   "outputs": [],
   "source": [
    "# printing function\n",
    "def display_scores(scores):\n",
    "    print(\"Scores:\", scores)\n",
    "    print(\"\\nMean:\", scores.mean())\n",
    "    print(\"Standard deviation:\", scores.std())"
   ]
  },
  {
   "cell_type": "markdown",
   "metadata": {
    "id": "Z-JL6dZenOhZ"
   },
   "source": [
    "## 8.1 Light Gradient Boosting Machine"
   ]
  },
  {
   "cell_type": "code",
   "execution_count": null,
   "metadata": {
    "id": "_JkZmSvBnpep"
   },
   "outputs": [],
   "source": []
  },
  {
   "cell_type": "markdown",
   "metadata": {
    "id": "Khlk_y-AnVZy"
   },
   "source": [
    "## 8.2 Gradient Boosting Classifier"
   ]
  },
  {
   "cell_type": "code",
   "execution_count": null,
   "metadata": {
    "colab": {
     "base_uri": "https://localhost:8080/"
    },
    "executionInfo": {
     "elapsed": 60644,
     "status": "ok",
     "timestamp": 1668646630838,
     "user": {
      "displayName": "Mariana Cabride",
      "userId": "17414035056376663625"
     },
     "user_tz": 180
    },
    "id": "xWOhbl2EnqUs",
    "outputId": "9509da93-acb2-4e5e-f355-1a9938afcc55"
   },
   "outputs": [
    {
     "name": "stdout",
     "output_type": "stream",
     "text": [
      "Scores: [0.58031674 0.58448485 0.58391919 0.57583838 0.58537374]\n",
      "\n",
      "Mean: 0.5819865807395219\n",
      "Standard deviation: 0.003522437906989885\n"
     ]
    }
   ],
   "source": [
    "from sklearn.model_selection import cross_val_score\n",
    "from sklearn.ensemble import GradientBoostingClassifier\n",
    "\n",
    "gb = GradientBoostingClassifier()\n",
    "\n",
    "gb.fit(X_train, y_train)\n",
    "gb_accs = cross_val_score(gb, X_train, y_train, scoring=\"accuracy\", cv=5)\n",
    "\n",
    "display_scores(gb_accs)"
   ]
  },
  {
   "cell_type": "markdown",
   "metadata": {
    "id": "XRIWbI_onVRT"
   },
   "source": [
    "## 8.3 Radom Forest Classifier"
   ]
  },
  {
   "cell_type": "code",
   "execution_count": null,
   "metadata": {
    "colab": {
     "base_uri": "https://localhost:8080/"
    },
    "executionInfo": {
     "elapsed": 41083,
     "status": "ok",
     "timestamp": 1668651545905,
     "user": {
      "displayName": "Mariana Cabride",
      "userId": "17414035056376663625"
     },
     "user_tz": 180
    },
    "id": "blAXWuPhnrJv",
    "outputId": "9c17ec0c-7ae7-47bc-ebc7-8b9ae5a05f23"
   },
   "outputs": [
    {
     "name": "stdout",
     "output_type": "stream",
     "text": [
      "Scores: [0.86546542 0.85769697 0.87111111 0.85721212 0.85858586]\n",
      "\n",
      "Mean: 0.862014295508413\n",
      "Standard deviation: 0.005442731907480494\n"
     ]
    }
   ],
   "source": [
    "from sklearn.model_selection import cross_val_score\n",
    "from sklearn.ensemble import RandomForestClassifier\n",
    "\n",
    "rnd_clf = RandomForestClassifier(n_estimators=70,\n",
    "                                 max_leaf_nodes=None,\n",
    "                                 bootstrap=True,\n",
    "                                 oob_score=True)\n",
    "#\n",
    "rnd_clf.fit(X_train, y_train)\n",
    "rnd_clf_accs = cross_val_score(rnd_clf, X_train, y_train, scoring=\"accuracy\", cv=5)\n",
    "\n",
    "display_scores(rnd_clf_accs)"
   ]
  },
  {
   "cell_type": "markdown",
   "metadata": {
    "id": "LBtTUxSKnVDf"
   },
   "source": [
    "## 8.4 Extra Trees Classifier"
   ]
  },
  {
   "cell_type": "code",
   "execution_count": null,
   "metadata": {
    "id": "wX41NN5lnr0o"
   },
   "outputs": [],
   "source": []
  },
  {
   "cell_type": "markdown",
   "metadata": {
    "id": "yj6EC1OMnkpm"
   },
   "source": [
    "## 8.5 Decision Tree Classifier"
   ]
  },
  {
   "cell_type": "code",
   "execution_count": null,
   "metadata": {
    "colab": {
     "base_uri": "https://localhost:8080/"
    },
    "executionInfo": {
     "elapsed": 3745,
     "status": "ok",
     "timestamp": 1668650807499,
     "user": {
      "displayName": "Mariana Cabride",
      "userId": "17414035056376663625"
     },
     "user_tz": 180
    },
    "id": "SQ2Y-sEHRNnm",
    "outputId": "d1515222-bfe4-48ea-b725-699a6dfbcab4"
   },
   "outputs": [
    {
     "name": "stdout",
     "output_type": "stream",
     "text": [
      "Scores: [0.80551067 0.79531313 0.80460606 0.80040404 0.80266667]\n",
      "\n",
      "Mean: 0.8017001129589365\n",
      "Standard deviation: 0.0036434162375482988\n"
     ]
    }
   ],
   "source": [
    "from sklearn.model_selection import cross_val_score\n",
    "from sklearn.tree import DecisionTreeClassifier\n",
    "\n",
    "dt = DecisionTreeClassifier() # esse é o meu ESTIMATOR\n",
    "dt.fit(X_train, y_train)\n",
    "\n",
    "dt_cross_val = cross_val_score(dt, X_train, y_train, scoring=\"accuracy\", cv=5)\n",
    "display_scores(dt_cross_val) \n",
    "\n",
    "# return: Array of scores of the estimator for each run of the cross validation. \n",
    "# Ou seja, accuracy de cada folder "
   ]
  },
  {
   "cell_type": "code",
   "execution_count": null,
   "metadata": {
    "colab": {
     "base_uri": "https://localhost:8080/"
    },
    "executionInfo": {
     "elapsed": 4,
     "status": "ok",
     "timestamp": 1668650612394,
     "user": {
      "displayName": "Mariana Cabride",
      "userId": "17414035056376663625"
     },
     "user_tz": 180
    },
    "id": "bwrR9zdPQsZu",
    "outputId": "7950af1d-65a0-4ce4-cc32-ccde656fbc62"
   },
   "outputs": [
    {
     "name": "stderr",
     "output_type": "stream",
     "text": [
      "/usr/local/lib/python3.7/dist-packages/sklearn/base.py:444: UserWarning: X has feature names, but DecisionTreeClassifier was fitted without feature names\n",
      "  f\"X has feature names, but {self.__class__.__name__} was fitted without\"\n"
     ]
    }
   ],
   "source": [
    "y_test_pred = dt.predict(df_test)"
   ]
  },
  {
   "cell_type": "code",
   "execution_count": null,
   "metadata": {
    "id": "P4kx70-Mx72B"
   },
   "outputs": [],
   "source": [
    "# Fazer desenho da árvore de decisão\n",
    "#from sklearn import tree\n",
    "#tree.plot_tree(df, filled=True, rounded=True)"
   ]
  },
  {
   "cell_type": "code",
   "execution_count": null,
   "metadata": {
    "id": "g2TgnyX_x7vW"
   },
   "outputs": [],
   "source": [
    "#import graphviz\n",
    "#from sklearn import tree\n",
    "#dot_data = tree.export_graphviz(df, out_file=None, filled=True, rounded=True)\n",
    "#graph = graphviz.Source(dot_data, format = 'png')\n",
    "#graph"
   ]
  }
 ],
 "metadata": {
  "colab": {
   "provenance": [
    {
     "file_id": "1ZLi0-wBCk6STeQLZQnr_4NzGYy7BF6WG",
     "timestamp": 1668465666181
    }
   ]
  },
  "kernelspec": {
   "display_name": "Python 3 (ipykernel)",
   "language": "python",
   "name": "python3"
  },
  "language_info": {
   "codemirror_mode": {
    "name": "ipython",
    "version": 3
   },
   "file_extension": ".py",
   "mimetype": "text/x-python",
   "name": "python",
   "nbconvert_exporter": "python",
   "pygments_lexer": "ipython3",
   "version": "3.10.5"
  },
  "widgets": {
   "application/vnd.jupyter.widget-state+json": {
    "state": {},
    "version_major": 2,
    "version_minor": 0
   }
  }
 },
 "nbformat": 4,
 "nbformat_minor": 4
}
